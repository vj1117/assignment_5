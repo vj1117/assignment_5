{
  "cells": [
    {
      "cell_type": "code",
      "execution_count": null,
      "metadata": {
        "id": "0m2JWFliFfKT"
      },
      "outputs": [],
      "source": [
        "from __future__ import print_function\n",
        "import torch\n",
        "import torch.nn as nn\n",
        "import torch.nn.functional as F\n",
        "import torch.optim as optim\n",
        "from torchvision import datasets, transforms"
      ]
    },
    {
      "cell_type": "code",
      "execution_count": null,
      "metadata": {
        "id": "gyxqZe9KjBMk"
      },
      "outputs": [],
      "source": [
        "import wandb"
      ]
    },
    {
      "cell_type": "code",
      "execution_count": null,
      "metadata": {
        "colab": {
          "base_uri": "https://localhost:8080/",
          "height": 225
        },
        "id": "Ys4wAHAYjDBR",
        "outputId": "8e27b0b6-723f-4b78-c7e9-b30efd611c0d"
      },
      "outputs": [
        {
          "name": "stderr",
          "output_type": "stream",
          "text": [
            "/usr/local/lib/python3.12/dist-packages/notebook/notebookapp.py:191: SyntaxWarning: invalid escape sequence '\\/'\n",
            "  | |_| | '_ \\/ _` / _` |  _/ -_)\n"
          ]
        },
        {
          "data": {
            "application/javascript": "\n        window._wandbApiKey = new Promise((resolve, reject) => {\n            function loadScript(url) {\n            return new Promise(function(resolve, reject) {\n                let newScript = document.createElement(\"script\");\n                newScript.onerror = reject;\n                newScript.onload = resolve;\n                document.body.appendChild(newScript);\n                newScript.src = url;\n            });\n            }\n            loadScript(\"https://cdn.jsdelivr.net/npm/postmate/build/postmate.min.js\").then(() => {\n            const iframe = document.createElement('iframe')\n            iframe.style.cssText = \"width:0;height:0;border:none\"\n            document.body.appendChild(iframe)\n            const handshake = new Postmate({\n                container: iframe,\n                url: 'https://wandb.ai/authorize'\n            });\n            const timeout = setTimeout(() => reject(\"Couldn't auto authenticate\"), 5000)\n            handshake.then(function(child) {\n                child.on('authorize', data => {\n                    clearTimeout(timeout)\n                    resolve(data)\n                });\n            });\n            })\n        });\n    ",
            "text/plain": [
              "<IPython.core.display.Javascript object>"
            ]
          },
          "metadata": {},
          "output_type": "display_data"
        },
        {
          "name": "stderr",
          "output_type": "stream",
          "text": [
            "\u001b[34m\u001b[1mwandb\u001b[0m: Logging into wandb.ai. (Learn how to deploy a W&B server locally: https://wandb.me/wandb-server)\n",
            "\u001b[34m\u001b[1mwandb\u001b[0m: You can find your API key in your browser here: https://wandb.ai/authorize\n",
            "wandb: Paste an API key from your profile and hit enter:"
          ]
        },
        {
          "name": "stdout",
          "output_type": "stream",
          "text": [
            " ··········\n"
          ]
        },
        {
          "name": "stderr",
          "output_type": "stream",
          "text": [
            "\u001b[34m\u001b[1mwandb\u001b[0m: \u001b[33mWARNING\u001b[0m If you're specifying your api key in code, ensure this code is not shared publicly.\n",
            "\u001b[34m\u001b[1mwandb\u001b[0m: \u001b[33mWARNING\u001b[0m Consider setting the WANDB_API_KEY environment variable, or running `wandb login` from the command line.\n",
            "\u001b[34m\u001b[1mwandb\u001b[0m: No netrc file found, creating one.\n",
            "\u001b[34m\u001b[1mwandb\u001b[0m: Appending key for api.wandb.ai to your netrc file: /root/.netrc\n",
            "\u001b[34m\u001b[1mwandb\u001b[0m: Currently logged in as: \u001b[33mjohnced\u001b[0m to \u001b[32mhttps://api.wandb.ai\u001b[0m. Use \u001b[1m`wandb login --relogin`\u001b[0m to force relogin\n"
          ]
        },
        {
          "data": {
            "text/plain": [
              "True"
            ]
          },
          "execution_count": 3,
          "metadata": {},
          "output_type": "execute_result"
        }
      ],
      "source": [
        "wandb.login()"
      ]
    },
    {
      "cell_type": "code",
      "execution_count": null,
      "metadata": {
        "colab": {
          "base_uri": "https://localhost:8080/",
          "height": 138
        },
        "id": "0FLXVzDlujYb",
        "outputId": "c89ffdd5-907a-4816-868e-ff450065dc27"
      },
      "outputs": [
        {
          "data": {
            "text/html": [
              "creating run (0.3s)"
            ],
            "text/plain": [
              "<IPython.core.display.HTML object>"
            ]
          },
          "metadata": {},
          "output_type": "display_data"
        },
        {
          "data": {
            "text/html": [
              "Tracking run with wandb version 0.21.3"
            ],
            "text/plain": [
              "<IPython.core.display.HTML object>"
            ]
          },
          "metadata": {},
          "output_type": "display_data"
        },
        {
          "data": {
            "text/html": [
              "Run data is saved locally in <code>/content/wandb/run-20250914_122515-xntprcd5</code>"
            ],
            "text/plain": [
              "<IPython.core.display.HTML object>"
            ]
          },
          "metadata": {},
          "output_type": "display_data"
        },
        {
          "data": {
            "text/html": [
              "Syncing run <strong><a href='https://wandb.ai/johnced/cnn_mnist/runs/xntprcd5' target=\"_blank\">desert-oath-4</a></strong> to <a href='https://wandb.ai/johnced/cnn_mnist' target=\"_blank\">Weights & Biases</a> (<a href='https://wandb.me/developer-guide' target=\"_blank\">docs</a>)<br>"
            ],
            "text/plain": [
              "<IPython.core.display.HTML object>"
            ]
          },
          "metadata": {},
          "output_type": "display_data"
        },
        {
          "data": {
            "text/html": [
              " View project at <a href='https://wandb.ai/johnced/cnn_mnist' target=\"_blank\">https://wandb.ai/johnced/cnn_mnist</a>"
            ],
            "text/plain": [
              "<IPython.core.display.HTML object>"
            ]
          },
          "metadata": {},
          "output_type": "display_data"
        },
        {
          "data": {
            "text/html": [
              " View run at <a href='https://wandb.ai/johnced/cnn_mnist/runs/xntprcd5' target=\"_blank\">https://wandb.ai/johnced/cnn_mnist/runs/xntprcd5</a>"
            ],
            "text/plain": [
              "<IPython.core.display.HTML object>"
            ]
          },
          "metadata": {},
          "output_type": "display_data"
        },
        {
          "data": {
            "text/plain": [
              "<torch._C.Generator at 0x7a38237ac5b0>"
            ]
          },
          "execution_count": 6,
          "metadata": {},
          "output_type": "execute_result"
        }
      ],
      "source": [
        "config = {\n",
        "    \"project\": \"cnn_mnist\",\n",
        "    \"entity\": None,            # set your wandb username/team if desired\n",
        "    \"epochs\": 15,\n",
        "    \"batch_size\": 64,\n",
        "    \"lr\": 0.001,\n",
        "    \"seed\": 42,\n",
        "    'use_augmentation': False,\n",
        "    \"device\": \"cuda\" if torch.cuda.is_available() else \"cpu\"\n",
        "}\n",
        "\n",
        "# You can call wandb.login() earlier if you haven't set env var.\n",
        "wandb.init(project=config[\"project\"], config=config)\n",
        "cfg = wandb.config\n",
        "\n",
        "# ------------------------------\n",
        "# Data loaders (MNIST)\n",
        "# ------------------------------\n",
        "torch.manual_seed(cfg.seed)"
      ]
    },
    {
      "cell_type": "markdown",
      "metadata": {
        "id": "2q-mhL4Tj6lU"
      },
      "source": [
        "## Experiment 1"
      ]
    },
    {
      "cell_type": "markdown",
      "metadata": {
        "id": "0zviSlNDj997"
      },
      "source": [
        "1. Check current model size - given in original notebook\n",
        "2. Check image in paint and tentatively around 7 pixels can capture the edges. So, RF is 7."
      ]
    },
    {
      "cell_type": "code",
      "execution_count": null,
      "metadata": {
        "id": "h_Cx9q2QFgM7"
      },
      "outputs": [],
      "source": [
        "class Net(nn.Module):\n",
        "    def __init__(self):\n",
        "        super(Net, self).__init__()\n",
        "        self.conv1 = nn.Conv2d(1, 32, 3, padding=1) #input -? OUtput? RF\n",
        "        self.conv2 = nn.Conv2d(32, 64, 3, padding=1)\n",
        "        self.pool1 = nn.MaxPool2d(2, 2)\n",
        "        self.conv3 = nn.Conv2d(64, 128, 3, padding=1)\n",
        "        self.conv4 = nn.Conv2d(128, 256, 3, padding=1)\n",
        "        self.pool2 = nn.MaxPool2d(2, 2)\n",
        "        self.conv5 = nn.Conv2d(256, 512, 3)\n",
        "        self.conv6 = nn.Conv2d(512, 1024, 3)\n",
        "        self.conv7 = nn.Conv2d(1024, 10, 3)\n",
        "\n",
        "    def forward(self, x):\n",
        "        x = self.pool1(F.relu(self.conv2(F.relu(self.conv1(x)))))\n",
        "        x = self.pool2(F.relu(self.conv4(F.relu(self.conv3(x)))))\n",
        "        x = F.relu(self.conv6(F.relu(self.conv5(x))))\n",
        "        x = F.relu(self.conv7(x))\n",
        "        x = x.view(-1, 10)\n",
        "        return F.log_softmax(x)"
      ]
    },
    {
      "cell_type": "code",
      "execution_count": null,
      "metadata": {
        "colab": {
          "base_uri": "https://localhost:8080/"
        },
        "id": "xdydjYTZFyi3",
        "outputId": "789e641c-8fa5-452c-c339-8fc7e8d06a14"
      },
      "outputs": [
        {
          "name": "stdout",
          "output_type": "stream",
          "text": [
            "Requirement already satisfied: torchsummary in /usr/local/lib/python3.12/dist-packages (1.5.1)\n",
            "----------------------------------------------------------------\n",
            "        Layer (type)               Output Shape         Param #\n",
            "================================================================\n",
            "            Conv2d-1           [-1, 32, 28, 28]             320\n",
            "            Conv2d-2           [-1, 64, 28, 28]          18,496\n",
            "         MaxPool2d-3           [-1, 64, 14, 14]               0\n",
            "            Conv2d-4          [-1, 128, 14, 14]          73,856\n",
            "            Conv2d-5          [-1, 256, 14, 14]         295,168\n",
            "         MaxPool2d-6            [-1, 256, 7, 7]               0\n",
            "            Conv2d-7            [-1, 512, 5, 5]       1,180,160\n",
            "            Conv2d-8           [-1, 1024, 3, 3]       4,719,616\n",
            "            Conv2d-9             [-1, 10, 1, 1]          92,170\n",
            "================================================================\n",
            "Total params: 6,379,786\n",
            "Trainable params: 6,379,786\n",
            "Non-trainable params: 0\n",
            "----------------------------------------------------------------\n",
            "Input size (MB): 0.00\n",
            "Forward/backward pass size (MB): 1.51\n",
            "Params size (MB): 24.34\n",
            "Estimated Total Size (MB): 25.85\n",
            "----------------------------------------------------------------\n"
          ]
        },
        {
          "name": "stderr",
          "output_type": "stream",
          "text": [
            "/tmp/ipython-input-3267201574.py:20: UserWarning: Implicit dimension choice for log_softmax has been deprecated. Change the call to include dim=X as an argument.\n",
            "  return F.log_softmax(x)\n"
          ]
        }
      ],
      "source": [
        "!pip install torchsummary\n",
        "from torchsummary import summary\n",
        "use_cuda = torch.cuda.is_available()\n",
        "device = torch.device(\"cuda\" if use_cuda else \"cpu\")\n",
        "model = Net().to(device)\n",
        "summary(model, input_size=(1, 28, 28))"
      ]
    },
    {
      "cell_type": "code",
      "execution_count": null,
      "metadata": {
        "id": "dhSGHeRsm39C"
      },
      "outputs": [],
      "source": [
        "# Requires: torch\n",
        "import torch\n",
        "import torch.nn as nn\n",
        "import math\n",
        "from collections import OrderedDict\n",
        "\n",
        "def _to_2tuple(x):\n",
        "    if isinstance(x, tuple):\n",
        "        return x\n",
        "    return (x, x)\n",
        "\n",
        "def layer_info(layer):\n",
        "    \"\"\"Return (k, s, p, d, type) for conv/pool layers or None.\"\"\"\n",
        "    if isinstance(layer, nn.Conv2d):\n",
        "        k = _to_2tuple(layer.kernel_size)\n",
        "        s = _to_2tuple(layer.stride)\n",
        "        p = _to_2tuple(layer.padding)\n",
        "        d = _to_2tuple(layer.dilation)\n",
        "        return dict(type='conv', k=k, s=s, p=p, d=d, out_channels=layer.out_channels)\n",
        "    if isinstance(layer, nn.MaxPool2d) or isinstance(layer, nn.AvgPool2d):\n",
        "        k = _to_2tuple(layer.kernel_size)\n",
        "        s = _to_2tuple(layer.stride or layer.kernel_size)\n",
        "        p = _to_2tuple(layer.padding or 0)\n",
        "        d = (1,1)\n",
        "        return dict(type='pool', k=k, s=s, p=p, d=d)\n",
        "    return None\n",
        "\n",
        "def analyze_receptive_field(model, input_size=(1, 28, 28), batch_size=1):\n",
        "    \"\"\"\n",
        "    Prints receptive field analysis for model layers.\n",
        "    input_size: (C, H, W)\n",
        "    \"\"\"\n",
        "    C, H, W = input_size\n",
        "    # initial values\n",
        "    rf_h = 1\n",
        "    rf_w = 1\n",
        "    jump_h = 1\n",
        "    jump_w = 1\n",
        "    start_h = 0.5\n",
        "    start_w = 0.5\n",
        "\n",
        "    cur_h, cur_w = H, W\n",
        "\n",
        "    print(f\"{'layer':30} {'type':6} {'out_ch':6} {'k':9} {'s':9} {'p':9} {'out(HxW)':10} {'RF(HxW)':12} {'jump':8} {'start':12}\")\n",
        "    print(\"-\"*120)\n",
        "\n",
        "    # walk modules in order (skip top-level container)\n",
        "    idx = 0\n",
        "    for name, layer in model.named_modules():\n",
        "        # skip the top-level module itself\n",
        "        if name == \"\":\n",
        "            continue\n",
        "        info = layer_info(layer)\n",
        "        if info is None:\n",
        "            continue\n",
        "\n",
        "        idx += 1\n",
        "        typ = info['type']\n",
        "        k_h, k_w = info['k']\n",
        "        s_h, s_w = info['s']\n",
        "        p_h, p_w = info['p']\n",
        "        d_h, d_w = info['d']\n",
        "\n",
        "        # effective kernel size with dilation\n",
        "        eff_kh = d_h * (k_h - 1) + 1\n",
        "        eff_kw = d_w * (k_w - 1) + 1\n",
        "\n",
        "        # output spatial size formula: floor((in + 2p - dilation*(k-1)-1)/stride + 1)\n",
        "        out_h = math.floor( (cur_h + 2*p_h - d_h*(k_h-1) - 1) / s_h + 1 )\n",
        "        out_w = math.floor( (cur_w + 2*p_w - d_w*(k_w-1) - 1) / s_w + 1 )\n",
        "\n",
        "        # receptive field update\n",
        "        new_rf_h = rf_h + (eff_kh - 1) * jump_h\n",
        "        new_rf_w = rf_w + (eff_kw - 1) * jump_w\n",
        "\n",
        "        # jump update (how much a 1-px shift in input shifts output center)\n",
        "        new_jump_h = jump_h * s_h\n",
        "        new_jump_w = jump_w * s_w\n",
        "\n",
        "        # center (start) update -- position of the center of the top-left output unit\n",
        "        new_start_h = start_h + ((eff_kh - 1)/2 - p_h) * jump_h\n",
        "        new_start_w = start_w + ((eff_kw - 1)/2 - p_w) * jump_w\n",
        "\n",
        "        out_ch = info.get('out_channels', '-')\n",
        "        k_str = f\"{k_h}x{k_w}\"\n",
        "        s_str = f\"{s_h}x{s_w}\"\n",
        "        p_str = f\"{p_h}x{p_w}\"\n",
        "        rf_str = f\"{int(new_rf_h)}x{int(new_rf_w)}\"\n",
        "        jump_str = f\"{new_jump_h}x{new_jump_w}\"\n",
        "        start_str = f\"{new_start_h:.2f}x{new_start_w:.2f}\"\n",
        "\n",
        "        print(f\"{name:30} {typ:6} {str(out_ch):6} {k_str:9} {s_str:9} {p_str:9} {str(out_h)+'x'+str(out_w):10} {rf_str:12} {jump_str:8} {start_str:12}\")\n",
        "\n",
        "        # set for next iteration\n",
        "        rf_h, rf_w = new_rf_h, new_rf_w\n",
        "        jump_h, jump_w = new_jump_h, new_jump_w\n",
        "        start_h, start_w = new_start_h, new_start_w\n",
        "        cur_h, cur_w = out_h, out_w\n",
        "\n",
        "    print(\"-\"*120)\n",
        "    print(f\"Final output spatial size: {cur_h} x {cur_w}\")\n",
        "    print(f\"Final receptive field: {int(rf_h)} x {int(rf_w)}\")\n",
        "    print(f\"Final cumulative stride (jump): {jump_h} x {jump_w}\")\n",
        "    print(f\"Center of top-left output unit relative to input pixel (0-index approx): {start_h:.2f} , {start_w:.2f}\")\n"
      ]
    },
    {
      "cell_type": "code",
      "execution_count": null,
      "metadata": {
        "colab": {
          "base_uri": "https://localhost:8080/"
        },
        "id": "BWgnX1blm_sg",
        "outputId": "d3c9add9-df03-4311-d170-8b4fa424029a"
      },
      "outputs": [
        {
          "name": "stdout",
          "output_type": "stream",
          "text": [
            "layer                          type   out_ch k         s         p         out(HxW)   RF(HxW)      jump     start       \n",
            "------------------------------------------------------------------------------------------------------------------------\n",
            "conv1                          conv   32     3x3       1x1       1x1       28x28      3x3          1x1      0.50x0.50   \n",
            "conv2                          conv   64     3x3       1x1       1x1       28x28      5x5          1x1      0.50x0.50   \n",
            "pool1                          pool   -      2x2       2x2       0x0       14x14      6x6          2x2      1.00x1.00   \n",
            "conv3                          conv   128    3x3       1x1       1x1       14x14      10x10        2x2      1.00x1.00   \n",
            "conv4                          conv   256    3x3       1x1       1x1       14x14      14x14        2x2      1.00x1.00   \n",
            "pool2                          pool   -      2x2       2x2       0x0       7x7        16x16        4x4      2.00x2.00   \n",
            "conv5                          conv   512    3x3       1x1       0x0       5x5        24x24        4x4      6.00x6.00   \n",
            "conv6                          conv   1024   3x3       1x1       0x0       3x3        32x32        4x4      10.00x10.00 \n",
            "conv7                          conv   10     3x3       1x1       0x0       1x1        40x40        4x4      14.00x14.00 \n",
            "------------------------------------------------------------------------------------------------------------------------\n",
            "Final output spatial size: 1 x 1\n",
            "Final receptive field: 40 x 40\n",
            "Final cumulative stride (jump): 4 x 4\n",
            "Center of top-left output unit relative to input pixel (0-index approx): 14.00 , 14.00\n"
          ]
        }
      ],
      "source": [
        "model = Net()\n",
        "analyze_receptive_field(model, input_size=(1, 28, 28))"
      ]
    },
    {
      "cell_type": "code",
      "execution_count": null,
      "metadata": {
        "id": "uIizqiavvTuG"
      },
      "outputs": [],
      "source": [
        "wandb.watch(model, log=\"all\", log_freq=100)"
      ]
    },
    {
      "cell_type": "markdown",
      "metadata": {
        "id": "CnZY_AnAnhR7"
      },
      "source": [
        "1. Number of params is very large. Coming from the last few convolutional blocks\n",
        "2. Will start with #kernels as 8 instead of 32 and gradually increase"
      ]
    },
    {
      "cell_type": "code",
      "execution_count": null,
      "metadata": {
        "id": "XkRX3-j8pB38"
      },
      "outputs": [],
      "source": [
        "import csv"
      ]
    },
    {
      "cell_type": "code",
      "execution_count": null,
      "metadata": {
        "id": "nQY3ljNdo8sS"
      },
      "outputs": [],
      "source": [
        "class ExperimentLogger:\n",
        "    \"\"\"Logger for tracking experiments and results\"\"\"\n",
        "\n",
        "    def __init__(self, experiment_name):\n",
        "        self.experiment_name = experiment_name\n",
        "        self.log_file = f\"experiment_log_{experiment_name}.csv\"\n",
        "        self.results = []\n",
        "        self.create_log_file()\n",
        "\n",
        "    def create_log_file(self):\n",
        "        \"\"\"Create CSV file with headers\"\"\"\n",
        "        headers = ['Experiment', 'Model', 'Total_Params', 'Train_Acc', 'Val_Acc',\n",
        "                  'Train_Loss', 'Val_Loss', 'Epochs', 'Best_Epoch', 'Has_BN',\n",
        "                  'Has_Dropout', 'Has_GAP', 'Has_FC', 'Learning_Rate', 'Scheduler',\n",
        "                  'Data_Augmentation', 'Comments']\n",
        "\n",
        "        with open(self.log_file, 'w', newline='') as f:\n",
        "            writer = csv.writer(f)\n",
        "            writer.writerow(headers)\n",
        "\n",
        "    def log_experiment(self, exp_data):\n",
        "        \"\"\"Log experiment results\"\"\"\n",
        "        self.results.append(exp_data)\n",
        "        with open(self.log_file, 'a', newline='') as f:\n",
        "            writer = csv.writer(f)\n",
        "            writer.writerow(exp_data.values())\n",
        "\n",
        "    def get_summary(self):\n",
        "        \"\"\"Get summary of all experiments\"\"\"\n",
        "        if not self.results:\n",
        "            return \"No experiments logged yet.\"\n",
        "\n",
        "        summary = f\"\\n=== EXPERIMENT SUMMARY ({self.experiment_name}) ===\\n\"\n",
        "        summary += f\"Total Experiments: {len(self.results)}\\n\\n\"\n",
        "\n",
        "        for i, result in enumerate(self.results, 1):\n",
        "            summary += f\"Experiment {i}:\\n\"\n",
        "            summary += f\"  Model: {result['Model']}\\n\"\n",
        "            summary += f\"  Parameters: {result['Total_Params']:,}\\n\"\n",
        "            summary += f\"  Best Val Accuracy: {result['Val_Acc']:.2f}%\\n\"\n",
        "            summary += f\"  Achieved Target (99.4%): {'✓' if result['Val_Acc'] >= 99.4 else '✗'}\\n\"\n",
        "            summary += f\"  Under 20k params: {'✓' if result['Total_Params'] < 20000 else '✗'}\\n\\n\"\n",
        "\n",
        "        return summary"
      ]
    },
    {
      "cell_type": "code",
      "execution_count": null,
      "metadata": {
        "id": "Rkwi5-a5oyOr"
      },
      "outputs": [],
      "source": [
        "def count_parameters(model):\n",
        "    \"\"\"Count trainable parameters\"\"\"\n",
        "    return sum(p.numel() for p in model.parameters() if p.requires_grad)"
      ]
    },
    {
      "cell_type": "code",
      "execution_count": null,
      "metadata": {
        "id": "XtdUiDPWlPNJ"
      },
      "outputs": [],
      "source": [
        "from tqdm import tqdm"
      ]
    },
    {
      "cell_type": "code",
      "execution_count": null,
      "metadata": {
        "id": "8fDefDhaFlwH"
      },
      "outputs": [],
      "source": [
        "def train(model, device, train_loader, optimizer, epoch, scheduler = None):\n",
        "    running_loss = 0.0\n",
        "    correct = 0\n",
        "    total = 0\n",
        "    model.train()\n",
        "    pbar = tqdm(train_loader)\n",
        "    for batch_idx, (data, target) in enumerate(pbar):\n",
        "        data, target = data.to(device), target.to(device)\n",
        "        optimizer.zero_grad()\n",
        "        output = model(data)\n",
        "        loss = F.nll_loss(output, target)\n",
        "        loss.backward()\n",
        "        optimizer.step()\n",
        "\n",
        "        if scheduler:\n",
        "            scheduler.step()\n",
        "\n",
        "        pbar.set_description(desc= f'loss={loss.item()} batch_id={batch_idx}')\n",
        "\n",
        "        # Statistics\n",
        "        running_loss += loss.item()\n",
        "        pred = output.argmax(dim=1, keepdim=True)\n",
        "        correct += pred.eq(target.view_as(pred)).sum().item()\n",
        "        total += target.size(0)\n",
        "\n",
        "        # Update progress bar\n",
        "        accuracy = 100. * correct / total\n",
        "        pbar.set_postfix({'Loss': f'{running_loss/(batch_idx+1):.4f}',\n",
        "                         'Acc': f'{accuracy:.2f}%'})\n",
        "        wandb.log({\"train/epoch_loss\": running_loss/(batch_idx+1), \"train/epoch_acc\": accuracy, \"epoch\": epoch})\n",
        "\n",
        "    return running_loss / len(train_loader), accuracy\n",
        "\n",
        "\n",
        "def test(model, device, test_loader):\n",
        "    model.eval()\n",
        "    test_loss = 0\n",
        "    correct = 0\n",
        "    with torch.no_grad():\n",
        "        for data, target in test_loader:\n",
        "            data, target = data.to(device), target.to(device)\n",
        "            output = model(data)\n",
        "            test_loss += F.nll_loss(output, target, reduction='sum').item()  # sum up batch loss\n",
        "            pred = output.argmax(dim=1, keepdim=True)  # get the index of the max log-probability\n",
        "            correct += pred.eq(target.view_as(pred)).sum().item()\n",
        "\n",
        "    test_loss /= len(test_loader.dataset)\n",
        "\n",
        "    print('\\nTest set: Average loss: {:.4f}, Accuracy: {}/{} ({:.0f}%)\\n'.format(\n",
        "        test_loss, correct, len(test_loader.dataset),\n",
        "        100. * correct / len(test_loader.dataset)))\n",
        "\n",
        "    accuracy = 100. * correct / len(test_loader.dataset)\n",
        "    wandb.log({\"test_loss\": test_loss, \"test/epoch_acc\": accuracy})\n",
        "\n",
        "    return test_loss, accuracy"
      ]
    },
    {
      "cell_type": "code",
      "execution_count": null,
      "metadata": {
        "id": "TSjz7X-03Rt0"
      },
      "outputs": [],
      "source": [
        "def train_epoch(model, device, train_loader, optimizer, scheduler=None):\n",
        "    \"\"\"Train for one epoch\"\"\"\n",
        "    model.train()\n",
        "    running_loss = 0.0\n",
        "    correct = 0\n",
        "    total = 0\n",
        "\n",
        "    pbar = tqdm(train_loader, desc='Training')\n",
        "    for batch_idx, (data, target) in enumerate(pbar):\n",
        "        data, target = data.to(device), target.to(device)\n",
        "\n",
        "        optimizer.zero_grad()\n",
        "        output = model(data)\n",
        "        loss = F.nll_loss(output, target)\n",
        "        loss.backward()\n",
        "        optimizer.step()\n",
        "\n",
        "        if scheduler:\n",
        "            scheduler.step()\n",
        "\n",
        "        # Statistics\n",
        "        running_loss += loss.item()\n",
        "        pred = output.argmax(dim=1, keepdim=True)\n",
        "        correct += pred.eq(target.view_as(pred)).sum().item()\n",
        "        total += target.size(0)\n",
        "\n",
        "        # Update progress bar\n",
        "        accuracy = 100. * correct / total\n",
        "        pbar.set_postfix({'Loss': f'{running_loss/(batch_idx+1):.4f}',\n",
        "                         'Acc': f'{accuracy:.2f}%'})\n",
        "\n",
        "    wandb.log({\"train/epoch_loss\": running_loss / len(train_loader), \"train/epoch_acc\": accuracy})\n",
        "\n",
        "    return running_loss / len(train_loader), accuracy\n",
        "\n",
        "def test_epoch(model, device, test_loader):\n",
        "    \"\"\"Test for one epoch\"\"\"\n",
        "    model.eval()\n",
        "    test_loss = 0\n",
        "    correct = 0\n",
        "\n",
        "    with torch.no_grad():\n",
        "        for data, target in test_loader:\n",
        "            data, target = data.to(device), target.to(device)\n",
        "            output = model(data)\n",
        "            test_loss += F.nll_loss(output, target, reduction='sum').item()\n",
        "            pred = output.argmax(dim=1, keepdim=True)\n",
        "            correct += pred.eq(target.view_as(pred)).sum().item()\n",
        "\n",
        "    test_loss /= len(test_loader.dataset)\n",
        "    accuracy = 100. * correct / len(test_loader.dataset)\n",
        "\n",
        "    wandb.log({\"test_loss\": test_loss, \"test_acc\": accuracy})\n",
        "\n",
        "    return test_loss, accuracy"
      ]
    },
    {
      "cell_type": "code",
      "execution_count": null,
      "metadata": {
        "id": "GxCi-ya8owr0"
      },
      "outputs": [],
      "source": [
        "def check_model_requirements(model):\n",
        "    \"\"\"Check if model meets requirements\"\"\"\n",
        "    total_params = count_parameters(model)\n",
        "\n",
        "    # Check for Batch Normalization\n",
        "    has_bn = any(isinstance(m, nn.BatchNorm2d) for m in model.modules())\n",
        "\n",
        "    # Check for Dropout\n",
        "    has_dropout = any(isinstance(m, (nn.Dropout, nn.Dropout2d)) for m in model.modules())\n",
        "\n",
        "    # Check for Global Average Pooling\n",
        "    has_gap = any(isinstance(m, (nn.AdaptiveAvgPool2d, nn.AvgPool2d)) for m in model.modules())\n",
        "\n",
        "    # Check for Fully Connected layers\n",
        "    has_fc = any(isinstance(m, nn.Linear) for m in model.modules())\n",
        "\n",
        "    return {\n",
        "        'total_params': total_params,\n",
        "        'under_20k': total_params < 20000,\n",
        "        'has_bn': has_bn,\n",
        "        'has_dropout': has_dropout,\n",
        "        'has_gap': has_gap,\n",
        "        'has_fc': has_fc\n",
        "    }"
      ]
    },
    {
      "cell_type": "code",
      "execution_count": null,
      "metadata": {
        "id": "LCCdtKqBnRbp"
      },
      "outputs": [],
      "source": [
        "from torch.optim.lr_scheduler import OneCycleLR, StepLR\n",
        "\n",
        "def run_experiment(model_class, model_name, experiment_name, epochs=15, learning_rate=0.01,\n",
        "                  scheduler_type='onecycle', use_augmentation=False, dropout_rate=0.1):\n",
        "    \"\"\"Run a complete experiment\"\"\"\n",
        "\n",
        "    print(f\"\\n{'='*60}\")\n",
        "    print(f\"Running Experiment: {model_name}\")\n",
        "    print(f\"{'='*60}\")\n",
        "\n",
        "    # Setup device\n",
        "    device = torch.device('cuda' if torch.cuda.is_available() else 'cpu')\n",
        "    print(f\"Using device: {device}\")\n",
        "\n",
        "    # Initialize model\n",
        "    model = model_class(dropout_rate=dropout_rate).to(device)\n",
        "    requirements = check_model_requirements(model)\n",
        "\n",
        "    print(f\"\\nModel Requirements Check:\")\n",
        "    print(f\"  Total Parameters: {requirements['total_params']:,}\")\n",
        "    print(f\"  Under 20k params: {'✓' if requirements['under_20k'] else '✗'}\")\n",
        "    print(f\"  Has Batch Normalization: {'✓' if requirements['has_bn'] else '✗'}\")\n",
        "    print(f\"  Has Dropout: {'✓' if requirements['has_dropout'] else '✗'}\")\n",
        "    print(f\"  Has Global Average Pooling: {'✓' if requirements['has_gap'] else '✗'}\")\n",
        "    print(f\"  Has Fully Connected Layer: {'✓' if requirements['has_fc'] else '✗'}\")\n",
        "\n",
        "    # Get data loaders\n",
        "    train_loader, test_loader = get_data_loaders(use_augmentation=use_augmentation)\n",
        "\n",
        "    # Setup optimizer\n",
        "    optimizer = optim.Adam(model.parameters(), lr=learning_rate, weight_decay=1e-4)\n",
        "\n",
        "    # Setup scheduler\n",
        "    if scheduler_type == 'onecycle':\n",
        "        scheduler = OneCycleLR(optimizer, max_lr=learning_rate*10,\n",
        "                             epochs=epochs, steps_per_epoch=len(train_loader))\n",
        "    elif scheduler_type == 'step':\n",
        "        scheduler = StepLR(optimizer, step_size=10, gamma=0.1)\n",
        "    else:\n",
        "        scheduler = None\n",
        "\n",
        "    # Training loop\n",
        "    best_val_acc = 0\n",
        "    best_epoch = 0\n",
        "    train_losses, train_accs = [], []\n",
        "    val_losses, val_accs = [], []\n",
        "\n",
        "    print(f\"\\nStarting Training for {epochs} epochs...\")\n",
        "\n",
        "    for epoch in range(1, epochs + 1):\n",
        "        print(f\"\\nEpoch {epoch}/{epochs}\")\n",
        "\n",
        "        # Train\n",
        "        #train_loss, train_acc = train(model, device, train_loader, optimizer,\n",
        "        #                                  scheduler if scheduler_type == 'onecycle' else None)\n",
        "\n",
        "        # Test\n",
        "        #val_loss, val_acc = test(model, device, test_loader)\n",
        "\n",
        "        train_loss, train_acc = train_epoch(model, device, train_loader, optimizer,\n",
        "                                          scheduler if scheduler_type == 'onecycle' else None)\n",
        "\n",
        "        # Test\n",
        "        val_loss, val_acc = test_epoch(model, device, test_loader)\n",
        "\n",
        "        # Update scheduler (for step scheduler)\n",
        "        if scheduler_type == 'step' and scheduler:\n",
        "            scheduler.step()\n",
        "\n",
        "        # Track best model\n",
        "        if val_acc > best_val_acc:\n",
        "            best_val_acc = val_acc\n",
        "            best_epoch = epoch\n",
        "            # Save best model\n",
        "            torch.save(model.state_dict(), f'best_{model_name.lower()}.pth')\n",
        "\n",
        "        # Store metrics\n",
        "        train_losses.append(train_loss)\n",
        "        train_accs.append(train_acc)\n",
        "        val_losses.append(val_loss)\n",
        "        val_accs.append(val_acc)\n",
        "\n",
        "        print(f\"Train Loss: {train_loss:.4f}, Train Acc: {train_acc:.2f}%\")\n",
        "        print(f\"Val Loss: {val_loss:.4f}, Val Acc: {val_acc:.2f}%\")\n",
        "        print(f\"Best Val Acc: {best_val_acc:.2f}% (Epoch {best_epoch})\")\n",
        "\n",
        "    # Final results\n",
        "    print(f\"\\n{'='*40}\")\n",
        "    print(f\"EXPERIMENT COMPLETED: {model_name}\")\n",
        "    print(f\"{'='*40}\")\n",
        "    print(f\"Best Validation Accuracy: {best_val_acc:.2f}%\")\n",
        "    print(f\"Target Achievement (99.4%): {'✓' if best_val_acc >= 99.4 else '✗'}\")\n",
        "    print(f\"Parameter Efficiency (<20k): {'✓' if requirements['under_20k'] else '✗'}\")\n",
        "\n",
        "    # Log experiment\n",
        "    logger = ExperimentLogger(experiment_name)\n",
        "    exp_data = {\n",
        "        'Experiment': len(logger.results) + 1,\n",
        "        'Model': model_name,\n",
        "        'Total_Params': requirements['total_params'],\n",
        "        'Train_Acc': train_accs[-1],\n",
        "        'Val_Acc': best_val_acc,\n",
        "        'Train_Loss': train_losses[-1],\n",
        "        'Val_Loss': val_losses[val_accs.index(max(val_accs))],\n",
        "        'Epochs': epochs,\n",
        "        'Best_Epoch': best_epoch,\n",
        "        'Has_BN': requirements['has_bn'],\n",
        "        'Has_Dropout': requirements['has_dropout'],\n",
        "        'Has_GAP': requirements['has_gap'],\n",
        "        'Has_FC': requirements['has_fc'],\n",
        "        'Learning_Rate': learning_rate,\n",
        "        'Scheduler': scheduler_type,\n",
        "        'Data_Augmentation': use_augmentation,\n",
        "        'Comments': f\"Dropout: {dropout_rate}\"\n",
        "    }\n",
        "    logger.log_experiment(exp_data)\n",
        "\n",
        "    return {\n",
        "        'model': model,\n",
        "        'best_val_acc': best_val_acc,\n",
        "        'requirements': requirements,\n",
        "        'train_history': (train_losses, train_accs, val_losses, val_accs)\n",
        "    }"
      ]
    },
    {
      "cell_type": "code",
      "execution_count": null,
      "metadata": {
        "id": "DqTWLaM5GHgH"
      },
      "outputs": [],
      "source": [
        "def get_data_loaders(batch_size=64, use_augmentation=False):\n",
        "  \"\"\"Get data loaders\"\"\"\n",
        "\n",
        "  torch.manual_seed(1)\n",
        "\n",
        "  kwargs = {'num_workers': 1, 'pin_memory': True} if use_cuda else {}\n",
        "  train_loader = torch.utils.data.DataLoader(\n",
        "    datasets.MNIST('../data', train=True, download=True,\n",
        "                    transform=transforms.Compose([\n",
        "                        transforms.ToTensor(),\n",
        "                        transforms.Normalize((0.1307,), (0.3081,))\n",
        "                    ])),\n",
        "    batch_size=batch_size, shuffle=True, **kwargs)\n",
        "  test_loader = torch.utils.data.DataLoader(\n",
        "    datasets.MNIST('../data', train=False, transform=transforms.Compose([\n",
        "                        transforms.ToTensor(),\n",
        "                        transforms.Normalize((0.1307,), (0.3081,))\n",
        "                    ])),\n",
        "    batch_size=batch_size, shuffle=True, **kwargs)\n",
        "  return train_loader, test_loader\n"
      ]
    },
    {
      "cell_type": "code",
      "execution_count": null,
      "metadata": {
        "id": "JmegWzWS_IV3"
      },
      "outputs": [],
      "source": [
        "class Small_MNIST1(nn.Module):\n",
        "    \"\"\"\n",
        "    Small CNN Architecture v1\n",
        "    - Basic efficient design with BN and Dropout\n",
        "    - Uses Global Average Pooling\n",
        "    - Target: <20k parameters, >99.4% accuracy\n",
        "    \"\"\"\n",
        "\n",
        "    def __init__(self, dropout_rate=0.1):\n",
        "        super(Small_MNIST1, self).__init__()\n",
        "\n",
        "        # Feature extraction layers\n",
        "        self.conv1 = nn.Conv2d(1, 8, 3, padding=1)\n",
        "\n",
        "        self.conv2 = nn.Conv2d(8, 16, 3, padding=1)\n",
        "\n",
        "        # Pooling and regularization\n",
        "        self.pool1 = nn.MaxPool2d(2, 2)\n",
        "\n",
        "        self.conv3 = nn.Conv2d(16, 16, 3, padding=1)\n",
        "\n",
        "        self.conv4 = nn.Conv2d(16, 32, 3, padding=1)\n",
        "\n",
        "        self.pool2 = nn.MaxPool2d(2, 2)\n",
        "\n",
        "        self.conv5 = nn.Conv2d(32, 32, 3, padding=1)\n",
        "\n",
        "        # Final classification layer\n",
        "        self.conv6 = nn.Conv2d(32, 10, 3)  # No BN after final conv\n",
        "\n",
        "\n",
        "    def forward(self, x):\n",
        "        # Block 1\n",
        "        x = F.relu(self.conv1(x))\n",
        "        x = F.relu(self.conv2(x))\n",
        "        x = self.pool1(x)\n",
        "\n",
        "        # Block 2\n",
        "        x = F.relu(self.conv3(x))\n",
        "        x = F.relu(self.conv4(x))\n",
        "        x = self.pool2(x)\n",
        "\n",
        "        # Block 3 & Classification\n",
        "        x = F.relu(self.conv5(x))\n",
        "        x = F.relu(self.conv6(x))  # 7x7 -> 5x5\n",
        "        x = x.view(x.size(0), -1)\n",
        "\n",
        "        return F.log_softmax(x, dim=1)"
      ]
    },
    {
      "cell_type": "code",
      "execution_count": null,
      "metadata": {
        "colab": {
          "base_uri": "https://localhost:8080/"
        },
        "id": "7twBCJR8_7Lx",
        "outputId": "5ff26d67-1392-4b79-8379-1d3a85aebe5f"
      },
      "outputs": [
        {
          "name": "stdout",
          "output_type": "stream",
          "text": [
            "Requirement already satisfied: torchsummary in /usr/local/lib/python3.12/dist-packages (1.5.1)\n",
            "----------------------------------------------------------------\n",
            "        Layer (type)               Output Shape         Param #\n",
            "================================================================\n",
            "            Conv2d-1            [-1, 8, 28, 28]              80\n",
            "            Conv2d-2           [-1, 16, 28, 28]           1,168\n",
            "         MaxPool2d-3           [-1, 16, 14, 14]               0\n",
            "            Conv2d-4           [-1, 16, 14, 14]           2,320\n",
            "            Conv2d-5           [-1, 32, 14, 14]           4,640\n",
            "         MaxPool2d-6             [-1, 32, 7, 7]               0\n",
            "            Conv2d-7             [-1, 32, 7, 7]           9,248\n",
            "            Conv2d-8             [-1, 10, 5, 5]           2,890\n",
            "================================================================\n",
            "Total params: 20,346\n",
            "Trainable params: 20,346\n",
            "Non-trainable params: 0\n",
            "----------------------------------------------------------------\n",
            "Input size (MB): 0.00\n",
            "Forward/backward pass size (MB): 0.27\n",
            "Params size (MB): 0.08\n",
            "Estimated Total Size (MB): 0.35\n",
            "----------------------------------------------------------------\n"
          ]
        }
      ],
      "source": [
        "!pip install torchsummary\n",
        "from torchsummary import summary\n",
        "use_cuda = torch.cuda.is_available()\n",
        "device = torch.device(\"cuda\" if use_cuda else \"cpu\")\n",
        "model = Small_MNIST1().to(device)\n",
        "summary(model, input_size=(1, 28, 28))"
      ]
    },
    {
      "cell_type": "code",
      "execution_count": null,
      "metadata": {
        "colab": {
          "base_uri": "https://localhost:8080/"
        },
        "id": "hFpbqh6eBCiZ",
        "outputId": "ebcd4b6b-98e9-454c-d6ce-3d7a7322f257"
      },
      "outputs": [
        {
          "name": "stdout",
          "output_type": "stream",
          "text": [
            "layer                          type   out_ch k         s         p         out(HxW)   RF(HxW)      jump     start       \n",
            "------------------------------------------------------------------------------------------------------------------------\n",
            "conv1                          conv   8      3x3       1x1       1x1       28x28      3x3          1x1      0.50x0.50   \n",
            "conv2                          conv   16     3x3       1x1       1x1       28x28      5x5          1x1      0.50x0.50   \n",
            "pool1                          pool   -      2x2       2x2       0x0       14x14      6x6          2x2      1.00x1.00   \n",
            "conv3                          conv   16     3x3       1x1       1x1       14x14      10x10        2x2      1.00x1.00   \n",
            "conv4                          conv   32     3x3       1x1       1x1       14x14      14x14        2x2      1.00x1.00   \n",
            "pool2                          pool   -      2x2       2x2       0x0       7x7        16x16        4x4      2.00x2.00   \n",
            "conv5                          conv   32     3x3       1x1       1x1       7x7        24x24        4x4      2.00x2.00   \n",
            "conv6                          conv   10     3x3       1x1       0x0       5x5        32x32        4x4      6.00x6.00   \n",
            "------------------------------------------------------------------------------------------------------------------------\n",
            "Final output spatial size: 5 x 5\n",
            "Final receptive field: 32 x 32\n",
            "Final cumulative stride (jump): 4 x 4\n",
            "Center of top-left output unit relative to input pixel (0-index approx): 6.00 , 6.00\n"
          ]
        }
      ],
      "source": [
        "model = Small_MNIST1(dropout_rate=0.1)\n",
        "analyze_receptive_field(model, input_size=(1, 28, 28))"
      ]
    },
    {
      "cell_type": "code",
      "execution_count": null,
      "metadata": {
        "colab": {
          "base_uri": "https://localhost:8080/"
        },
        "id": "O6RaU-VtBPob",
        "outputId": "510d620c-1b5f-41ff-bd41-b4c1de471319"
      },
      "outputs": [
        {
          "name": "stdout",
          "output_type": "stream",
          "text": [
            "Starting Experimental Suite: MNIST_CNN_20250914_191005\n",
            "Target: 99.4% accuracy with <20k parameters in <20 epochs\n"
          ]
        }
      ],
      "source": [
        "from datetime import datetime\n",
        "\n",
        "results = []\n",
        "\n",
        "experiment_name = f\"MNIST_CNN_{datetime.now().strftime('%Y%m%d_%H%M%S')}\"\n",
        "print(f\"Starting Experimental Suite: {experiment_name}\")\n",
        "print(f\"Target: 99.4% accuracy with <20k parameters in <20 epochs\")"
      ]
    },
    {
      "cell_type": "code",
      "execution_count": null,
      "metadata": {
        "id": "DMkZhUTBBPob"
      },
      "outputs": [],
      "source": [
        "exp_config = {\n",
        "        'model_class': Small_MNIST1,\n",
        "        'model_name': 'Small_MNIST1',\n",
        "        'epochs': 15,\n",
        "        'learning_rate': 0.001,\n",
        "        'use_augmentation': False\n",
        "    }"
      ]
    },
    {
      "cell_type": "code",
      "execution_count": null,
      "metadata": {
        "colab": {
          "base_uri": "https://localhost:8080/"
        },
        "id": "XIjl0CghBPob",
        "outputId": "2ff1787b-61a3-41f4-ea48-5ef09d155578"
      },
      "outputs": [
        {
          "name": "stdout",
          "output_type": "stream",
          "text": [
            "\n",
            "============================================================\n",
            "Running Experiment: Small_MNIST1\n",
            "============================================================\n",
            "Using device: cuda\n",
            "\n",
            "Model Requirements Check:\n",
            "  Total Parameters: 20,346\n",
            "  Under 20k params: ✗\n",
            "  Has Batch Normalization: ✗\n",
            "  Has Dropout: ✗\n",
            "  Has Global Average Pooling: ✗\n",
            "  Has Fully Connected Layer: ✗\n",
            "\n",
            "Starting Training for 15 epochs...\n",
            "\n",
            "Epoch 1/15\n"
          ]
        },
        {
          "name": "stderr",
          "output_type": "stream",
          "text": [
            "Training: 100%|██████████| 938/938 [00:24<00:00, 38.70it/s, Loss=1.4144, Acc=56.41%]\n"
          ]
        },
        {
          "name": "stdout",
          "output_type": "stream",
          "text": [
            "Train Loss: 1.4144, Train Acc: 56.41%\n",
            "Val Loss: 0.4356, Val Acc: 86.97%\n",
            "Best Val Acc: 86.97% (Epoch 1)\n",
            "\n",
            "Epoch 2/15\n"
          ]
        },
        {
          "name": "stderr",
          "output_type": "stream",
          "text": [
            "Training: 100%|██████████| 938/938 [00:20<00:00, 46.06it/s, Loss=0.2678, Acc=91.96%]\n"
          ]
        },
        {
          "name": "stdout",
          "output_type": "stream",
          "text": [
            "Train Loss: 0.2678, Train Acc: 91.96%\n",
            "Val Loss: 0.1797, Val Acc: 94.40%\n",
            "Best Val Acc: 94.40% (Epoch 2)\n",
            "\n",
            "Epoch 3/15\n"
          ]
        },
        {
          "name": "stderr",
          "output_type": "stream",
          "text": [
            "Training: 100%|██████████| 938/938 [00:20<00:00, 46.83it/s, Loss=0.1609, Acc=95.16%]\n"
          ]
        },
        {
          "name": "stdout",
          "output_type": "stream",
          "text": [
            "Train Loss: 0.1609, Train Acc: 95.16%\n",
            "Val Loss: 0.1500, Val Acc: 95.83%\n",
            "Best Val Acc: 95.83% (Epoch 3)\n",
            "\n",
            "Epoch 4/15\n"
          ]
        },
        {
          "name": "stderr",
          "output_type": "stream",
          "text": [
            "Training: 100%|██████████| 938/938 [00:20<00:00, 46.67it/s, Loss=0.1288, Acc=96.25%]\n"
          ]
        },
        {
          "name": "stdout",
          "output_type": "stream",
          "text": [
            "Train Loss: 0.1288, Train Acc: 96.25%\n",
            "Val Loss: 0.1380, Val Acc: 95.95%\n",
            "Best Val Acc: 95.95% (Epoch 4)\n",
            "\n",
            "Epoch 5/15\n"
          ]
        },
        {
          "name": "stderr",
          "output_type": "stream",
          "text": [
            "Training: 100%|██████████| 938/938 [00:20<00:00, 45.38it/s, Loss=0.1145, Acc=96.59%]\n"
          ]
        },
        {
          "name": "stdout",
          "output_type": "stream",
          "text": [
            "Train Loss: 0.1145, Train Acc: 96.59%\n",
            "Val Loss: 0.1663, Val Acc: 95.50%\n",
            "Best Val Acc: 95.95% (Epoch 4)\n",
            "\n",
            "Epoch 6/15\n"
          ]
        },
        {
          "name": "stderr",
          "output_type": "stream",
          "text": [
            "Training: 100%|██████████| 938/938 [00:20<00:00, 46.28it/s, Loss=0.1012, Acc=97.06%]\n"
          ]
        },
        {
          "name": "stdout",
          "output_type": "stream",
          "text": [
            "Train Loss: 0.1012, Train Acc: 97.06%\n",
            "Val Loss: 0.1281, Val Acc: 96.05%\n",
            "Best Val Acc: 96.05% (Epoch 6)\n",
            "\n",
            "Epoch 7/15\n"
          ]
        },
        {
          "name": "stderr",
          "output_type": "stream",
          "text": [
            "Training: 100%|██████████| 938/938 [00:19<00:00, 47.20it/s, Loss=0.0915, Acc=97.38%]\n"
          ]
        },
        {
          "name": "stdout",
          "output_type": "stream",
          "text": [
            "Train Loss: 0.0915, Train Acc: 97.38%\n",
            "Val Loss: 0.0845, Val Acc: 97.61%\n",
            "Best Val Acc: 97.61% (Epoch 7)\n",
            "\n",
            "Epoch 8/15\n"
          ]
        },
        {
          "name": "stderr",
          "output_type": "stream",
          "text": [
            "Training: 100%|██████████| 938/938 [00:19<00:00, 48.60it/s, Loss=0.0768, Acc=97.79%]\n"
          ]
        },
        {
          "name": "stdout",
          "output_type": "stream",
          "text": [
            "Train Loss: 0.0768, Train Acc: 97.79%\n",
            "Val Loss: 0.0727, Val Acc: 97.95%\n",
            "Best Val Acc: 97.95% (Epoch 8)\n",
            "\n",
            "Epoch 9/15\n"
          ]
        },
        {
          "name": "stderr",
          "output_type": "stream",
          "text": [
            "Training: 100%|██████████| 938/938 [00:20<00:00, 46.71it/s, Loss=0.0662, Acc=98.06%]\n"
          ]
        },
        {
          "name": "stdout",
          "output_type": "stream",
          "text": [
            "Train Loss: 0.0662, Train Acc: 98.06%\n",
            "Val Loss: 0.0796, Val Acc: 97.71%\n",
            "Best Val Acc: 97.95% (Epoch 8)\n",
            "\n",
            "Epoch 10/15\n"
          ]
        },
        {
          "name": "stderr",
          "output_type": "stream",
          "text": [
            "Training: 100%|██████████| 938/938 [00:20<00:00, 45.99it/s, Loss=0.0529, Acc=98.35%]\n"
          ]
        },
        {
          "name": "stdout",
          "output_type": "stream",
          "text": [
            "Train Loss: 0.0529, Train Acc: 98.35%\n",
            "Val Loss: 0.0691, Val Acc: 97.90%\n",
            "Best Val Acc: 97.95% (Epoch 8)\n",
            "\n",
            "Epoch 11/15\n"
          ]
        },
        {
          "name": "stderr",
          "output_type": "stream",
          "text": [
            "Training: 100%|██████████| 938/938 [00:19<00:00, 48.10it/s, Loss=0.0362, Acc=98.91%]\n"
          ]
        },
        {
          "name": "stdout",
          "output_type": "stream",
          "text": [
            "Train Loss: 0.0362, Train Acc: 98.91%\n",
            "Val Loss: 0.0480, Val Acc: 98.60%\n",
            "Best Val Acc: 98.60% (Epoch 11)\n",
            "\n",
            "Epoch 12/15\n"
          ]
        },
        {
          "name": "stderr",
          "output_type": "stream",
          "text": [
            "Training: 100%|██████████| 938/938 [00:19<00:00, 47.88it/s, Loss=0.0237, Acc=99.27%]\n"
          ]
        },
        {
          "name": "stdout",
          "output_type": "stream",
          "text": [
            "Train Loss: 0.0237, Train Acc: 99.27%\n",
            "Val Loss: 0.0421, Val Acc: 98.75%\n",
            "Best Val Acc: 98.75% (Epoch 12)\n",
            "\n",
            "Epoch 13/15\n"
          ]
        },
        {
          "name": "stderr",
          "output_type": "stream",
          "text": [
            "Training: 100%|██████████| 938/938 [00:19<00:00, 47.86it/s, Loss=0.0126, Acc=99.65%]\n"
          ]
        },
        {
          "name": "stdout",
          "output_type": "stream",
          "text": [
            "Train Loss: 0.0126, Train Acc: 99.65%\n",
            "Val Loss: 0.0373, Val Acc: 98.94%\n",
            "Best Val Acc: 98.94% (Epoch 13)\n",
            "\n",
            "Epoch 14/15\n"
          ]
        },
        {
          "name": "stderr",
          "output_type": "stream",
          "text": [
            "Training: 100%|██████████| 938/938 [00:20<00:00, 46.21it/s, Loss=0.0059, Acc=99.87%]\n"
          ]
        },
        {
          "name": "stdout",
          "output_type": "stream",
          "text": [
            "Train Loss: 0.0059, Train Acc: 99.87%\n",
            "Val Loss: 0.0362, Val Acc: 98.89%\n",
            "Best Val Acc: 98.94% (Epoch 13)\n",
            "\n",
            "Epoch 15/15\n"
          ]
        },
        {
          "name": "stderr",
          "output_type": "stream",
          "text": [
            "Training: 100%|██████████| 938/938 [00:20<00:00, 46.41it/s, Loss=0.0036, Acc=99.95%]\n"
          ]
        },
        {
          "name": "stdout",
          "output_type": "stream",
          "text": [
            "Train Loss: 0.0036, Train Acc: 99.95%\n",
            "Val Loss: 0.0353, Val Acc: 98.98%\n",
            "Best Val Acc: 98.98% (Epoch 15)\n",
            "\n",
            "========================================\n",
            "EXPERIMENT COMPLETED: Small_MNIST1\n",
            "========================================\n",
            "Best Validation Accuracy: 98.98%\n",
            "Target Achievement (99.4%): ✗\n",
            "Parameter Efficiency (<20k): ✗\n"
          ]
        }
      ],
      "source": [
        "result = run_experiment(experiment_name=experiment_name, **exp_config)\n",
        "results.append(result)"
      ]
    },
    {
      "cell_type": "markdown",
      "metadata": {
        "id": "GpxHFqMITq-E"
      },
      "source": [
        "Observations:\n",
        "1. Train Accuracy - 99.95%\n",
        "Test Accuracy - 98.98%\n",
        "2. First target is to further reduce the number of parameters.\n",
        "3. Let us make use of 1x1 point wise convolution"
      ]
    },
    {
      "cell_type": "code",
      "execution_count": null,
      "metadata": {
        "id": "Q9YhzSJ5RX1R"
      },
      "outputs": [],
      "source": [
        "class Small_MNIST2(nn.Module):\n",
        "    \"\"\"\n",
        "    Small CNN Architecture v1\n",
        "    - Basic efficient design with BN and Dropout\n",
        "    - Uses Global Average Pooling\n",
        "    - Target: <20k parameters, >99.4% accuracy\n",
        "    \"\"\"\n",
        "\n",
        "    def __init__(self, dropout_rate=0.1):\n",
        "        super(Small_MNIST2, self).__init__()\n",
        "\n",
        "        # Feature extraction layers\n",
        "        self.conv1 = nn.Conv2d(1, 8, 3, padding=1)\n",
        "\n",
        "        self.conv2 = nn.Conv2d(8, 16, 1, padding=1)\n",
        "\n",
        "        # Pooling and regularization\n",
        "        self.pool1 = nn.MaxPool2d(2, 2)\n",
        "\n",
        "        self.conv3 = nn.Conv2d(16, 16, 3, padding=1)\n",
        "\n",
        "        self.conv4 = nn.Conv2d(16, 32, 1, padding=1)\n",
        "\n",
        "        self.pool2 = nn.MaxPool2d(2, 2)\n",
        "\n",
        "        self.conv5 = nn.Conv2d(32, 32, 3, padding=1)\n",
        "\n",
        "        # Final classification layer\n",
        "        self.conv6 = nn.Conv2d(32, 10, 3)\n",
        "\n",
        "\n",
        "    def forward(self, x):\n",
        "        # Block 1\n",
        "        x = F.relu(self.conv1(x))\n",
        "        x = F.relu(self.conv2(x))\n",
        "        x = self.pool1(x)\n",
        "\n",
        "        # Block 2\n",
        "        x = F.relu(self.conv3(x))\n",
        "        x = F.relu(self.conv4(x))\n",
        "        x = self.pool2(x)\n",
        "\n",
        "        # Block 3 & Classification\n",
        "        x = F.relu(self.conv5(x))\n",
        "        x = F.relu(self.conv6(x))  # 7x7 -> 5x5\n",
        "        x = x.view(x.size(0), -1)\n",
        "\n",
        "        return F.log_softmax(x, dim=1)"
      ]
    },
    {
      "cell_type": "code",
      "execution_count": null,
      "metadata": {
        "colab": {
          "base_uri": "https://localhost:8080/"
        },
        "id": "SquGYZupWZ_H",
        "outputId": "854bc0af-7624-4906-c839-8b95607e7c83"
      },
      "outputs": [
        {
          "name": "stdout",
          "output_type": "stream",
          "text": [
            "Requirement already satisfied: torchsummary in /usr/local/lib/python3.12/dist-packages (1.5.1)\n"
          ]
        }
      ],
      "source": [
        "!pip install torchsummary\n",
        "from torchsummary import summary\n",
        "\n",
        "def model_summary_and_rf(model):\n",
        "  use_cuda = torch.cuda.is_available()\n",
        "  device = torch.device(\"cuda\" if use_cuda else \"cpu\")\n",
        "  model = model.to(device)\n",
        "  summary(model, input_size=(1, 28, 28))\n",
        "\n",
        "  analyze_receptive_field(model, input_size=(1, 28, 28))"
      ]
    },
    {
      "cell_type": "code",
      "execution_count": null,
      "metadata": {
        "colab": {
          "base_uri": "https://localhost:8080/"
        },
        "id": "lLbOp2eDWvjq",
        "outputId": "8d5597ed-2e95-4883-f082-0ccf532596c4"
      },
      "outputs": [
        {
          "name": "stdout",
          "output_type": "stream",
          "text": [
            "----------------------------------------------------------------\n",
            "        Layer (type)               Output Shape         Param #\n",
            "================================================================\n",
            "            Conv2d-1            [-1, 8, 28, 28]              80\n",
            "            Conv2d-2           [-1, 16, 30, 30]             144\n",
            "         MaxPool2d-3           [-1, 16, 15, 15]               0\n",
            "            Conv2d-4           [-1, 16, 15, 15]           2,320\n",
            "            Conv2d-5           [-1, 32, 17, 17]             544\n",
            "         MaxPool2d-6             [-1, 32, 8, 8]               0\n",
            "            Conv2d-7             [-1, 32, 8, 8]           9,248\n",
            "            Conv2d-8             [-1, 10, 6, 6]           2,890\n",
            "================================================================\n",
            "Total params: 15,226\n",
            "Trainable params: 15,226\n",
            "Non-trainable params: 0\n",
            "----------------------------------------------------------------\n",
            "Input size (MB): 0.00\n",
            "Forward/backward pass size (MB): 0.32\n",
            "Params size (MB): 0.06\n",
            "Estimated Total Size (MB): 0.38\n",
            "----------------------------------------------------------------\n",
            "layer                          type   out_ch k         s         p         out(HxW)   RF(HxW)      jump     start       \n",
            "------------------------------------------------------------------------------------------------------------------------\n",
            "conv1                          conv   8      3x3       1x1       1x1       28x28      3x3          1x1      0.50x0.50   \n",
            "conv2                          conv   16     1x1       1x1       1x1       30x30      3x3          1x1      -0.50x-0.50 \n",
            "pool1                          pool   -      2x2       2x2       0x0       15x15      4x4          2x2      0.00x0.00   \n",
            "conv3                          conv   16     3x3       1x1       1x1       15x15      8x8          2x2      0.00x0.00   \n",
            "conv4                          conv   32     1x1       1x1       1x1       17x17      8x8          2x2      -2.00x-2.00 \n",
            "pool2                          pool   -      2x2       2x2       0x0       8x8        10x10        4x4      -1.00x-1.00 \n",
            "conv5                          conv   32     3x3       1x1       1x1       8x8        18x18        4x4      -1.00x-1.00 \n",
            "conv6                          conv   10     3x3       1x1       0x0       6x6        26x26        4x4      3.00x3.00   \n",
            "------------------------------------------------------------------------------------------------------------------------\n",
            "Final output spatial size: 6 x 6\n",
            "Final receptive field: 26 x 26\n",
            "Final cumulative stride (jump): 4 x 4\n",
            "Center of top-left output unit relative to input pixel (0-index approx): 3.00 , 3.00\n"
          ]
        }
      ],
      "source": [
        "model_summary_and_rf(Small_MNIST2())"
      ]
    },
    {
      "cell_type": "code",
      "execution_count": null,
      "metadata": {
        "id": "EeG7GE8IX18y"
      },
      "outputs": [],
      "source": [
        "from datetime import datetime\n",
        "\n",
        "def create_and_run():\n",
        "\n",
        "  experiment_name = f\"MNIST_CNN_{datetime.now().strftime('%Y%m%d_%H%M%S')}\"\n",
        "  print(f\"Starting Experimental Suite: {experiment_name}\")\n",
        "  print(f\"Target: 99.4% accuracy with <20k parameters in <20 epochs\")\n",
        "\n",
        "  exp_config = {\n",
        "        'model_class': Small_MNIST2,\n",
        "        'model_name': 'Small_MNIST2',\n",
        "        'epochs': 15,\n",
        "        'learning_rate': 0.001,\n",
        "        'use_augmentation': False\n",
        "    }\n",
        "\n",
        "  result = run_experiment(experiment_name=experiment_name, **exp_config)\n",
        "  results.append(result)"
      ]
    },
    {
      "cell_type": "code",
      "execution_count": null,
      "metadata": {
        "colab": {
          "base_uri": "https://localhost:8080/"
        },
        "id": "Pr7DLXEjYUJK",
        "outputId": "1a7733aa-4308-4a82-956a-c4c228d00dff"
      },
      "outputs": [
        {
          "name": "stdout",
          "output_type": "stream",
          "text": [
            "Starting Experimental Suite: MNIST_CNN_20250914_131927\n",
            "Target: 99.4% accuracy with <20k parameters in <20 epochs\n",
            "\n",
            "============================================================\n",
            "Running Experiment: Small_MNIST2\n",
            "============================================================\n",
            "Using device: cuda\n",
            "\n",
            "Model Requirements Check:\n",
            "  Total Parameters: 15,226\n",
            "  Under 20k params: ✓\n",
            "  Has Batch Normalization: ✗\n",
            "  Has Dropout: ✗\n",
            "  Has Global Average Pooling: ✗\n",
            "  Has Fully Connected Layer: ✗\n",
            "\n",
            "Starting Training for 15 epochs...\n",
            "\n",
            "Epoch 1/15\n"
          ]
        },
        {
          "name": "stderr",
          "output_type": "stream",
          "text": [
            "Training: 100%|██████████| 938/938 [00:19<00:00, 48.20it/s, Loss=1.8465, Acc=42.36%]\n"
          ]
        },
        {
          "name": "stdout",
          "output_type": "stream",
          "text": [
            "Train Loss: 1.8465, Train Acc: 42.36%\n",
            "Val Loss: 0.7840, Val Acc: 75.26%\n",
            "Best Val Acc: 75.26% (Epoch 1)\n",
            "\n",
            "Epoch 2/15\n"
          ]
        },
        {
          "name": "stderr",
          "output_type": "stream",
          "text": [
            "Training: 100%|██████████| 938/938 [00:20<00:00, 46.06it/s, Loss=0.6311, Acc=80.31%]\n"
          ]
        },
        {
          "name": "stdout",
          "output_type": "stream",
          "text": [
            "Train Loss: 0.6311, Train Acc: 80.31%\n",
            "Val Loss: 0.4586, Val Acc: 85.85%\n",
            "Best Val Acc: 85.85% (Epoch 2)\n",
            "\n",
            "Epoch 3/15\n"
          ]
        },
        {
          "name": "stderr",
          "output_type": "stream",
          "text": [
            "Training: 100%|██████████| 938/938 [00:20<00:00, 45.76it/s, Loss=0.3992, Acc=87.54%]\n"
          ]
        },
        {
          "name": "stdout",
          "output_type": "stream",
          "text": [
            "Train Loss: 0.3992, Train Acc: 87.54%\n",
            "Val Loss: 0.3531, Val Acc: 88.65%\n",
            "Best Val Acc: 88.65% (Epoch 3)\n",
            "\n",
            "Epoch 4/15\n"
          ]
        },
        {
          "name": "stderr",
          "output_type": "stream",
          "text": [
            "Training: 100%|██████████| 938/938 [00:19<00:00, 47.00it/s, Loss=0.3080, Acc=90.53%]\n"
          ]
        },
        {
          "name": "stdout",
          "output_type": "stream",
          "text": [
            "Train Loss: 0.3080, Train Acc: 90.53%\n",
            "Val Loss: 0.2575, Val Acc: 91.68%\n",
            "Best Val Acc: 91.68% (Epoch 4)\n",
            "\n",
            "Epoch 5/15\n"
          ]
        },
        {
          "name": "stderr",
          "output_type": "stream",
          "text": [
            "Training: 100%|██████████| 938/938 [00:20<00:00, 46.82it/s, Loss=0.2541, Acc=92.28%]\n"
          ]
        },
        {
          "name": "stdout",
          "output_type": "stream",
          "text": [
            "Train Loss: 0.2541, Train Acc: 92.28%\n",
            "Val Loss: 0.2337, Val Acc: 93.05%\n",
            "Best Val Acc: 93.05% (Epoch 5)\n",
            "\n",
            "Epoch 6/15\n"
          ]
        },
        {
          "name": "stderr",
          "output_type": "stream",
          "text": [
            "Training: 100%|██████████| 938/938 [00:18<00:00, 49.73it/s, Loss=0.2219, Acc=93.20%]\n"
          ]
        },
        {
          "name": "stdout",
          "output_type": "stream",
          "text": [
            "Train Loss: 0.2219, Train Acc: 93.20%\n",
            "Val Loss: 0.1800, Val Acc: 94.50%\n",
            "Best Val Acc: 94.50% (Epoch 6)\n",
            "\n",
            "Epoch 7/15\n"
          ]
        },
        {
          "name": "stderr",
          "output_type": "stream",
          "text": [
            "Training: 100%|██████████| 938/938 [00:19<00:00, 47.39it/s, Loss=0.1969, Acc=93.89%]\n"
          ]
        },
        {
          "name": "stdout",
          "output_type": "stream",
          "text": [
            "Train Loss: 0.1969, Train Acc: 93.89%\n",
            "Val Loss: 0.1795, Val Acc: 94.82%\n",
            "Best Val Acc: 94.82% (Epoch 7)\n",
            "\n",
            "Epoch 8/15\n"
          ]
        },
        {
          "name": "stderr",
          "output_type": "stream",
          "text": [
            "Training: 100%|██████████| 938/938 [00:19<00:00, 47.22it/s, Loss=0.1757, Acc=94.53%]\n"
          ]
        },
        {
          "name": "stdout",
          "output_type": "stream",
          "text": [
            "Train Loss: 0.1757, Train Acc: 94.53%\n",
            "Val Loss: 0.1522, Val Acc: 95.11%\n",
            "Best Val Acc: 95.11% (Epoch 8)\n",
            "\n",
            "Epoch 9/15\n"
          ]
        },
        {
          "name": "stderr",
          "output_type": "stream",
          "text": [
            "Training: 100%|██████████| 938/938 [00:18<00:00, 49.52it/s, Loss=0.1540, Acc=95.22%]\n"
          ]
        },
        {
          "name": "stdout",
          "output_type": "stream",
          "text": [
            "Train Loss: 0.1540, Train Acc: 95.22%\n",
            "Val Loss: 0.1480, Val Acc: 95.27%\n",
            "Best Val Acc: 95.27% (Epoch 9)\n",
            "\n",
            "Epoch 10/15\n"
          ]
        },
        {
          "name": "stderr",
          "output_type": "stream",
          "text": [
            "Training: 100%|██████████| 938/938 [00:19<00:00, 48.46it/s, Loss=0.1347, Acc=95.67%]\n"
          ]
        },
        {
          "name": "stdout",
          "output_type": "stream",
          "text": [
            "Train Loss: 0.1347, Train Acc: 95.67%\n",
            "Val Loss: 0.1394, Val Acc: 95.68%\n",
            "Best Val Acc: 95.68% (Epoch 10)\n",
            "\n",
            "Epoch 11/15\n"
          ]
        },
        {
          "name": "stderr",
          "output_type": "stream",
          "text": [
            "Training: 100%|██████████| 938/938 [00:20<00:00, 44.83it/s, Loss=0.1121, Acc=96.38%]\n"
          ]
        },
        {
          "name": "stdout",
          "output_type": "stream",
          "text": [
            "Train Loss: 0.1121, Train Acc: 96.38%\n",
            "Val Loss: 0.1274, Val Acc: 96.04%\n",
            "Best Val Acc: 96.04% (Epoch 11)\n",
            "\n",
            "Epoch 12/15\n"
          ]
        },
        {
          "name": "stderr",
          "output_type": "stream",
          "text": [
            "Training: 100%|██████████| 938/938 [00:19<00:00, 47.44it/s, Loss=0.0928, Acc=97.01%]\n"
          ]
        },
        {
          "name": "stdout",
          "output_type": "stream",
          "text": [
            "Train Loss: 0.0928, Train Acc: 97.01%\n",
            "Val Loss: 0.1055, Val Acc: 96.89%\n",
            "Best Val Acc: 96.89% (Epoch 12)\n",
            "\n",
            "Epoch 13/15\n"
          ]
        },
        {
          "name": "stderr",
          "output_type": "stream",
          "text": [
            "Training: 100%|██████████| 938/938 [00:19<00:00, 49.12it/s, Loss=0.0721, Acc=97.68%]\n"
          ]
        },
        {
          "name": "stdout",
          "output_type": "stream",
          "text": [
            "Train Loss: 0.0721, Train Acc: 97.68%\n",
            "Val Loss: 0.1005, Val Acc: 97.07%\n",
            "Best Val Acc: 97.07% (Epoch 13)\n",
            "\n",
            "Epoch 14/15\n"
          ]
        },
        {
          "name": "stderr",
          "output_type": "stream",
          "text": [
            "Training: 100%|██████████| 938/938 [00:19<00:00, 47.72it/s, Loss=0.0579, Acc=98.20%]\n"
          ]
        },
        {
          "name": "stdout",
          "output_type": "stream",
          "text": [
            "Train Loss: 0.0579, Train Acc: 98.20%\n",
            "Val Loss: 0.0961, Val Acc: 97.29%\n",
            "Best Val Acc: 97.29% (Epoch 14)\n",
            "\n",
            "Epoch 15/15\n"
          ]
        },
        {
          "name": "stderr",
          "output_type": "stream",
          "text": [
            "Training: 100%|██████████| 938/938 [00:19<00:00, 47.38it/s, Loss=0.0501, Acc=98.47%]\n"
          ]
        },
        {
          "name": "stdout",
          "output_type": "stream",
          "text": [
            "Train Loss: 0.0501, Train Acc: 98.47%\n",
            "Val Loss: 0.0974, Val Acc: 97.27%\n",
            "Best Val Acc: 97.29% (Epoch 14)\n",
            "\n",
            "========================================\n",
            "EXPERIMENT COMPLETED: Small_MNIST2\n",
            "========================================\n",
            "Best Validation Accuracy: 97.29%\n",
            "Target Achievement (99.4%): ✗\n",
            "Parameter Efficiency (<20k): ✓\n"
          ]
        }
      ],
      "source": [
        "create_and_run()"
      ]
    },
    {
      "cell_type": "markdown",
      "metadata": {
        "id": "fnziYPIzZvrt"
      },
      "source": [
        "Train Accuracy - 98.47%\n",
        "Test Accuracy - 97.29%\n",
        "\n",
        "Next run, let us add some batch normalization for better training and check the impact on validation accuracy\n",
        "\n",
        "We will increase the number of epochs to 18"
      ]
    },
    {
      "cell_type": "code",
      "execution_count": null,
      "metadata": {
        "id": "D1mnhy4Laov2"
      },
      "outputs": [],
      "source": [
        "class Small_MNIST3(nn.Module):\n",
        "    \"\"\"\n",
        "    Small CNN Architecture v1\n",
        "    - Basic efficient design with BN and Dropout\n",
        "    - Uses Global Average Pooling\n",
        "    - Target: <20k parameters, >99.4% accuracy\n",
        "    \"\"\"\n",
        "\n",
        "    def __init__(self, dropout_rate=0.1):\n",
        "        super(Small_MNIST3, self).__init__()\n",
        "\n",
        "        # Feature extraction layers\n",
        "        self.conv1 = nn.Conv2d(1, 8, 3, padding=1)\n",
        "        self.bn1 = nn.BatchNorm2d(8)\n",
        "\n",
        "        self.conv2 = nn.Conv2d(8, 16, 1, padding=1)\n",
        "        self.bn2 = nn.BatchNorm2d(16)\n",
        "\n",
        "        # Pooling and regularization\n",
        "        self.pool1 = nn.MaxPool2d(2, 2)\n",
        "\n",
        "        self.conv3 = nn.Conv2d(16, 16, 3, padding=1)\n",
        "        self.bn3 = nn.BatchNorm2d(16)\n",
        "\n",
        "        self.conv4 = nn.Conv2d(16, 32, 1, padding=1)\n",
        "        self.bn4 = nn.BatchNorm2d(32)\n",
        "\n",
        "        self.pool2 = nn.MaxPool2d(2, 2)\n",
        "\n",
        "        self.conv5 = nn.Conv2d(32, 32, 3, padding=1)\n",
        "\n",
        "        # Final classification layer\n",
        "        self.conv6 = nn.Conv2d(32, 10, 3)\n",
        "\n",
        "\n",
        "    def forward(self, x):\n",
        "        # Block 1\n",
        "        x = F.relu(self.bn1(self.conv1(x)))\n",
        "        x = F.relu(self.bn2(self.conv2(x)))\n",
        "        x = self.pool1(x)\n",
        "\n",
        "        # Block 2\n",
        "        x = F.relu(self.bn3(self.conv3(x)))\n",
        "        x = F.relu(self.bn4(self.conv4(x)))\n",
        "        x = self.pool2(x)\n",
        "\n",
        "        # Block 3 & Classification\n",
        "        x = F.relu(self.conv5(x))\n",
        "        x = F.relu(self.conv6(x))  # 7x7 -> 5x5\n",
        "        x = x.view(x.size(0), -1)\n",
        "\n",
        "        return F.log_softmax(x, dim=1)"
      ]
    },
    {
      "cell_type": "code",
      "execution_count": null,
      "metadata": {
        "colab": {
          "base_uri": "https://localhost:8080/"
        },
        "id": "Mc3p0Ze7ao4s",
        "outputId": "cc607b9c-f5e8-4f62-d2f4-3e7e356977f5"
      },
      "outputs": [
        {
          "name": "stdout",
          "output_type": "stream",
          "text": [
            "----------------------------------------------------------------\n",
            "        Layer (type)               Output Shape         Param #\n",
            "================================================================\n",
            "            Conv2d-1            [-1, 8, 28, 28]              80\n",
            "       BatchNorm2d-2            [-1, 8, 28, 28]              16\n",
            "            Conv2d-3           [-1, 16, 30, 30]             144\n",
            "       BatchNorm2d-4           [-1, 16, 30, 30]              32\n",
            "         MaxPool2d-5           [-1, 16, 15, 15]               0\n",
            "            Conv2d-6           [-1, 16, 15, 15]           2,320\n",
            "       BatchNorm2d-7           [-1, 16, 15, 15]              32\n",
            "            Conv2d-8           [-1, 32, 17, 17]             544\n",
            "       BatchNorm2d-9           [-1, 32, 17, 17]              64\n",
            "        MaxPool2d-10             [-1, 32, 8, 8]               0\n",
            "           Conv2d-11             [-1, 32, 8, 8]           9,248\n",
            "           Conv2d-12             [-1, 10, 6, 6]           2,890\n",
            "================================================================\n",
            "Total params: 15,370\n",
            "Trainable params: 15,370\n",
            "Non-trainable params: 0\n",
            "----------------------------------------------------------------\n",
            "Input size (MB): 0.00\n",
            "Forward/backward pass size (MB): 0.57\n",
            "Params size (MB): 0.06\n",
            "Estimated Total Size (MB): 0.63\n",
            "----------------------------------------------------------------\n",
            "layer                          type   out_ch k         s         p         out(HxW)   RF(HxW)      jump     start       \n",
            "------------------------------------------------------------------------------------------------------------------------\n",
            "conv1                          conv   8      3x3       1x1       1x1       28x28      3x3          1x1      0.50x0.50   \n",
            "conv2                          conv   16     1x1       1x1       1x1       30x30      3x3          1x1      -0.50x-0.50 \n",
            "pool1                          pool   -      2x2       2x2       0x0       15x15      4x4          2x2      0.00x0.00   \n",
            "conv3                          conv   16     3x3       1x1       1x1       15x15      8x8          2x2      0.00x0.00   \n",
            "conv4                          conv   32     1x1       1x1       1x1       17x17      8x8          2x2      -2.00x-2.00 \n",
            "pool2                          pool   -      2x2       2x2       0x0       8x8        10x10        4x4      -1.00x-1.00 \n",
            "conv5                          conv   32     3x3       1x1       1x1       8x8        18x18        4x4      -1.00x-1.00 \n",
            "conv6                          conv   10     3x3       1x1       0x0       6x6        26x26        4x4      3.00x3.00   \n",
            "------------------------------------------------------------------------------------------------------------------------\n",
            "Final output spatial size: 6 x 6\n",
            "Final receptive field: 26 x 26\n",
            "Final cumulative stride (jump): 4 x 4\n",
            "Center of top-left output unit relative to input pixel (0-index approx): 3.00 , 3.00\n"
          ]
        }
      ],
      "source": [
        "model_summary_and_rf(Small_MNIST3())"
      ]
    },
    {
      "cell_type": "code",
      "execution_count": null,
      "metadata": {
        "id": "KOVmJAyza8lw"
      },
      "outputs": [],
      "source": [
        "from datetime import datetime\n",
        "\n",
        "def create_and_run(exp_config):\n",
        "\n",
        "  experiment_name = f\"MNIST_CNN_{datetime.now().strftime('%Y%m%d_%H%M%S')}\"\n",
        "  print(f\"Starting Experimental Suite: {experiment_name}\")\n",
        "  print(f\"Target: 99.4% accuracy with <20k parameters in <20 epochs\")\n",
        "\n",
        "  result = run_experiment(experiment_name=experiment_name, **exp_config)\n",
        "  results.append(result)\n",
        "  return results"
      ]
    },
    {
      "cell_type": "code",
      "execution_count": null,
      "metadata": {
        "colab": {
          "base_uri": "https://localhost:8080/"
        },
        "id": "FEPki6hfapAN",
        "outputId": "99bb5eee-89dc-457e-88be-85456db46e50"
      },
      "outputs": [
        {
          "name": "stdout",
          "output_type": "stream",
          "text": [
            "Starting Experimental Suite: MNIST_CNN_20250914_134339\n",
            "Target: 99.4% accuracy with <20k parameters in <20 epochs\n",
            "\n",
            "============================================================\n",
            "Running Experiment: Small_MNIST2\n",
            "============================================================\n",
            "Using device: cuda\n",
            "\n",
            "Model Requirements Check:\n",
            "  Total Parameters: 15,370\n",
            "  Under 20k params: ✓\n",
            "  Has Batch Normalization: ✓\n",
            "  Has Dropout: ✗\n",
            "  Has Global Average Pooling: ✗\n",
            "  Has Fully Connected Layer: ✗\n",
            "\n",
            "Starting Training for 18 epochs...\n",
            "\n",
            "Epoch 1/18\n"
          ]
        },
        {
          "name": "stderr",
          "output_type": "stream",
          "text": [
            "Training: 100%|██████████| 938/938 [00:19<00:00, 46.98it/s, Loss=1.0550, Acc=66.10%]\n"
          ]
        },
        {
          "name": "stdout",
          "output_type": "stream",
          "text": [
            "Train Loss: 1.0550, Train Acc: 66.10%\n",
            "Val Loss: 0.3617, Val Acc: 89.15%\n",
            "Best Val Acc: 89.15% (Epoch 1)\n",
            "\n",
            "Epoch 2/18\n"
          ]
        },
        {
          "name": "stderr",
          "output_type": "stream",
          "text": [
            "Training: 100%|██████████| 938/938 [00:20<00:00, 46.19it/s, Loss=0.3134, Acc=90.12%]\n"
          ]
        },
        {
          "name": "stdout",
          "output_type": "stream",
          "text": [
            "Train Loss: 0.3134, Train Acc: 90.12%\n",
            "Val Loss: 0.2538, Val Acc: 92.19%\n",
            "Best Val Acc: 92.19% (Epoch 2)\n",
            "\n",
            "Epoch 3/18\n"
          ]
        },
        {
          "name": "stderr",
          "output_type": "stream",
          "text": [
            "Training: 100%|██████████| 938/938 [00:19<00:00, 49.33it/s, Loss=0.2400, Acc=92.49%]\n"
          ]
        },
        {
          "name": "stdout",
          "output_type": "stream",
          "text": [
            "Train Loss: 0.2400, Train Acc: 92.49%\n",
            "Val Loss: 0.2205, Val Acc: 93.13%\n",
            "Best Val Acc: 93.13% (Epoch 3)\n",
            "\n",
            "Epoch 4/18\n"
          ]
        },
        {
          "name": "stderr",
          "output_type": "stream",
          "text": [
            "Training: 100%|██████████| 938/938 [00:19<00:00, 48.68it/s, Loss=0.2052, Acc=93.66%]\n"
          ]
        },
        {
          "name": "stdout",
          "output_type": "stream",
          "text": [
            "Train Loss: 0.2052, Train Acc: 93.66%\n",
            "Val Loss: 0.2001, Val Acc: 93.90%\n",
            "Best Val Acc: 93.90% (Epoch 4)\n",
            "\n",
            "Epoch 5/18\n"
          ]
        },
        {
          "name": "stderr",
          "output_type": "stream",
          "text": [
            "Training: 100%|██████████| 938/938 [00:20<00:00, 46.24it/s, Loss=0.1834, Acc=94.33%]\n"
          ]
        },
        {
          "name": "stdout",
          "output_type": "stream",
          "text": [
            "Train Loss: 0.1834, Train Acc: 94.33%\n",
            "Val Loss: 0.1715, Val Acc: 94.60%\n",
            "Best Val Acc: 94.60% (Epoch 5)\n",
            "\n",
            "Epoch 6/18\n"
          ]
        },
        {
          "name": "stderr",
          "output_type": "stream",
          "text": [
            "Training: 100%|██████████| 938/938 [00:19<00:00, 48.22it/s, Loss=0.1705, Acc=94.69%]\n"
          ]
        },
        {
          "name": "stdout",
          "output_type": "stream",
          "text": [
            "Train Loss: 0.1705, Train Acc: 94.69%\n",
            "Val Loss: 0.1366, Val Acc: 95.74%\n",
            "Best Val Acc: 95.74% (Epoch 6)\n",
            "\n",
            "Epoch 7/18\n"
          ]
        },
        {
          "name": "stderr",
          "output_type": "stream",
          "text": [
            "Training: 100%|██████████| 938/938 [00:19<00:00, 48.60it/s, Loss=0.1519, Acc=95.20%]\n"
          ]
        },
        {
          "name": "stdout",
          "output_type": "stream",
          "text": [
            "Train Loss: 0.1519, Train Acc: 95.20%\n",
            "Val Loss: 0.1672, Val Acc: 94.99%\n",
            "Best Val Acc: 95.74% (Epoch 6)\n",
            "\n",
            "Epoch 8/18\n"
          ]
        },
        {
          "name": "stderr",
          "output_type": "stream",
          "text": [
            "Training: 100%|██████████| 938/938 [00:19<00:00, 47.77it/s, Loss=0.1442, Acc=95.50%]\n"
          ]
        },
        {
          "name": "stdout",
          "output_type": "stream",
          "text": [
            "Train Loss: 0.1442, Train Acc: 95.50%\n",
            "Val Loss: 0.1453, Val Acc: 95.39%\n",
            "Best Val Acc: 95.74% (Epoch 6)\n",
            "\n",
            "Epoch 9/18\n"
          ]
        },
        {
          "name": "stderr",
          "output_type": "stream",
          "text": [
            "Training: 100%|██████████| 938/938 [00:19<00:00, 48.99it/s, Loss=0.1354, Acc=95.72%]\n"
          ]
        },
        {
          "name": "stdout",
          "output_type": "stream",
          "text": [
            "Train Loss: 0.1354, Train Acc: 95.72%\n",
            "Val Loss: 0.1272, Val Acc: 96.30%\n",
            "Best Val Acc: 96.30% (Epoch 9)\n",
            "\n",
            "Epoch 10/18\n"
          ]
        },
        {
          "name": "stderr",
          "output_type": "stream",
          "text": [
            "Training: 100%|██████████| 938/938 [00:20<00:00, 46.77it/s, Loss=0.1238, Acc=96.11%]\n"
          ]
        },
        {
          "name": "stdout",
          "output_type": "stream",
          "text": [
            "Train Loss: 0.1238, Train Acc: 96.11%\n",
            "Val Loss: 0.1340, Val Acc: 95.62%\n",
            "Best Val Acc: 96.30% (Epoch 9)\n",
            "\n",
            "Epoch 11/18\n"
          ]
        },
        {
          "name": "stderr",
          "output_type": "stream",
          "text": [
            "Training: 100%|██████████| 938/938 [00:19<00:00, 47.53it/s, Loss=0.1124, Acc=96.42%]\n"
          ]
        },
        {
          "name": "stdout",
          "output_type": "stream",
          "text": [
            "Train Loss: 0.1124, Train Acc: 96.42%\n",
            "Val Loss: 0.1157, Val Acc: 96.27%\n",
            "Best Val Acc: 96.30% (Epoch 9)\n",
            "\n",
            "Epoch 12/18\n"
          ]
        },
        {
          "name": "stderr",
          "output_type": "stream",
          "text": [
            "Training: 100%|██████████| 938/938 [00:19<00:00, 47.24it/s, Loss=0.1005, Acc=96.77%]\n"
          ]
        },
        {
          "name": "stdout",
          "output_type": "stream",
          "text": [
            "Train Loss: 0.1005, Train Acc: 96.77%\n",
            "Val Loss: 0.1238, Val Acc: 96.11%\n",
            "Best Val Acc: 96.30% (Epoch 9)\n",
            "\n",
            "Epoch 13/18\n"
          ]
        },
        {
          "name": "stderr",
          "output_type": "stream",
          "text": [
            "Training: 100%|██████████| 938/938 [00:19<00:00, 48.66it/s, Loss=0.0861, Acc=97.28%]\n"
          ]
        },
        {
          "name": "stdout",
          "output_type": "stream",
          "text": [
            "Train Loss: 0.0861, Train Acc: 97.28%\n",
            "Val Loss: 0.1122, Val Acc: 96.50%\n",
            "Best Val Acc: 96.50% (Epoch 13)\n",
            "\n",
            "Epoch 14/18\n"
          ]
        },
        {
          "name": "stderr",
          "output_type": "stream",
          "text": [
            "Training: 100%|██████████| 938/938 [00:19<00:00, 49.10it/s, Loss=0.0720, Acc=97.69%]\n"
          ]
        },
        {
          "name": "stdout",
          "output_type": "stream",
          "text": [
            "Train Loss: 0.0720, Train Acc: 97.69%\n",
            "Val Loss: 0.0988, Val Acc: 96.92%\n",
            "Best Val Acc: 96.92% (Epoch 14)\n",
            "\n",
            "Epoch 15/18\n"
          ]
        },
        {
          "name": "stderr",
          "output_type": "stream",
          "text": [
            "Training: 100%|██████████| 938/938 [00:20<00:00, 46.73it/s, Loss=0.0601, Acc=98.07%]\n"
          ]
        },
        {
          "name": "stdout",
          "output_type": "stream",
          "text": [
            "Train Loss: 0.0601, Train Acc: 98.07%\n",
            "Val Loss: 0.0981, Val Acc: 96.95%\n",
            "Best Val Acc: 96.95% (Epoch 15)\n",
            "\n",
            "Epoch 16/18\n"
          ]
        },
        {
          "name": "stderr",
          "output_type": "stream",
          "text": [
            "Training: 100%|██████████| 938/938 [00:18<00:00, 49.44it/s, Loss=0.0479, Acc=98.45%]\n"
          ]
        },
        {
          "name": "stdout",
          "output_type": "stream",
          "text": [
            "Train Loss: 0.0479, Train Acc: 98.45%\n",
            "Val Loss: 0.0960, Val Acc: 96.99%\n",
            "Best Val Acc: 96.99% (Epoch 16)\n",
            "\n",
            "Epoch 17/18\n"
          ]
        },
        {
          "name": "stderr",
          "output_type": "stream",
          "text": [
            "Training: 100%|██████████| 938/938 [00:18<00:00, 50.19it/s, Loss=0.0394, Acc=98.78%]\n"
          ]
        },
        {
          "name": "stdout",
          "output_type": "stream",
          "text": [
            "Train Loss: 0.0394, Train Acc: 98.78%\n",
            "Val Loss: 0.0924, Val Acc: 97.06%\n",
            "Best Val Acc: 97.06% (Epoch 17)\n",
            "\n",
            "Epoch 18/18\n"
          ]
        },
        {
          "name": "stderr",
          "output_type": "stream",
          "text": [
            "Training: 100%|██████████| 938/938 [00:20<00:00, 45.80it/s, Loss=0.0352, Acc=98.94%]\n"
          ]
        },
        {
          "name": "stdout",
          "output_type": "stream",
          "text": [
            "Train Loss: 0.0352, Train Acc: 98.94%\n",
            "Val Loss: 0.0931, Val Acc: 97.05%\n",
            "Best Val Acc: 97.06% (Epoch 17)\n",
            "\n",
            "========================================\n",
            "EXPERIMENT COMPLETED: Small_MNIST2\n",
            "========================================\n",
            "Best Validation Accuracy: 97.06%\n",
            "Target Achievement (99.4%): ✗\n",
            "Parameter Efficiency (<20k): ✓\n"
          ]
        }
      ],
      "source": [
        "exp_config = {\n",
        "      'model_class': Small_MNIST3,\n",
        "      'model_name': 'Small_MNIST2',\n",
        "      'epochs': 18,\n",
        "      'learning_rate': 0.001,\n",
        "      'use_augmentation': False\n",
        "  }\n",
        "\n",
        "create_and_run(exp_config)"
      ]
    },
    {
      "cell_type": "markdown",
      "metadata": {
        "id": "haI_fGWNkXGG"
      },
      "source": [
        "Train Accuracy - 98.94%\n",
        "Test Accuracy - 97.06%\n",
        "\n",
        "Let us apply GAP and see if there is an improvement. Also, trying and adding one more conv layer"
      ]
    },
    {
      "cell_type": "code",
      "execution_count": null,
      "metadata": {
        "id": "o6YSwY_2kyOr"
      },
      "outputs": [],
      "source": [
        "class Small_MNIST4(nn.Module):\n",
        "    \"\"\"\n",
        "    Small CNN Architecture v1\n",
        "    - Basic efficient design with BN and Dropout\n",
        "    - Uses Global Average Pooling\n",
        "    - Target: <20k parameters, >99.4% accuracy\n",
        "    \"\"\"\n",
        "\n",
        "    def __init__(self, dropout_rate=0.1):\n",
        "        super(Small_MNIST4, self).__init__()\n",
        "\n",
        "        # Feature extraction layers\n",
        "        self.conv1 = nn.Conv2d(1, 8, 3, padding=1)\n",
        "        self.bn1 = nn.BatchNorm2d(8)\n",
        "\n",
        "        self.conv2 = nn.Conv2d(8, 16, 1, padding=1)\n",
        "        self.bn2 = nn.BatchNorm2d(16)\n",
        "\n",
        "        # Pooling and regularization\n",
        "        self.pool1 = nn.MaxPool2d(2, 2)\n",
        "\n",
        "        self.conv3 = nn.Conv2d(16, 16, 3, padding=1)\n",
        "        self.bn3 = nn.BatchNorm2d(16)\n",
        "\n",
        "        self.conv4 = nn.Conv2d(16, 32, 1, padding=1)\n",
        "        self.bn4 = nn.BatchNorm2d(32)\n",
        "\n",
        "        self.pool2 = nn.MaxPool2d(2, 2)\n",
        "\n",
        "        self.conv5 = nn.Conv2d(32, 32, 3)\n",
        "        # Final classification layer\n",
        "        self.conv6 = nn.Conv2d(32, 10, 3, padding=1)\n",
        "        self.gap = nn.AdaptiveAvgPool2d(1)\n",
        "\n",
        "\n",
        "    def forward(self, x):\n",
        "        # Block 1\n",
        "        x = F.relu(self.bn1(self.conv1(x)))\n",
        "        x = F.relu(self.bn2(self.conv2(x)))\n",
        "        x = self.pool1(x)\n",
        "\n",
        "        # Block 2\n",
        "        x = F.relu(self.bn3(self.conv3(x)))\n",
        "        x = F.relu(self.bn4(self.conv4(x)))\n",
        "        x = self.pool2(x)\n",
        "\n",
        "        # Block 3 & Classification\n",
        "        x = F.relu(self.conv5(x))\n",
        "        x = self.conv6(x)\n",
        "        x = self.gap(x)\n",
        "        x = x.view(x.size(0), -1)\n",
        "\n",
        "        return F.log_softmax(x, dim=1)"
      ]
    },
    {
      "cell_type": "code",
      "execution_count": null,
      "metadata": {
        "colab": {
          "base_uri": "https://localhost:8080/"
        },
        "id": "oosXWgZ_lp4A",
        "outputId": "ecd605d1-b98b-432a-ac64-3bb805360f11"
      },
      "outputs": [
        {
          "name": "stdout",
          "output_type": "stream",
          "text": [
            "----------------------------------------------------------------\n",
            "        Layer (type)               Output Shape         Param #\n",
            "================================================================\n",
            "            Conv2d-1            [-1, 8, 28, 28]              80\n",
            "       BatchNorm2d-2            [-1, 8, 28, 28]              16\n",
            "            Conv2d-3           [-1, 16, 30, 30]             144\n",
            "       BatchNorm2d-4           [-1, 16, 30, 30]              32\n",
            "         MaxPool2d-5           [-1, 16, 15, 15]               0\n",
            "            Conv2d-6           [-1, 16, 15, 15]           2,320\n",
            "       BatchNorm2d-7           [-1, 16, 15, 15]              32\n",
            "            Conv2d-8           [-1, 32, 17, 17]             544\n",
            "       BatchNorm2d-9           [-1, 32, 17, 17]              64\n",
            "        MaxPool2d-10             [-1, 32, 8, 8]               0\n",
            "           Conv2d-11             [-1, 32, 6, 6]           9,248\n",
            "           Conv2d-12             [-1, 10, 6, 6]           2,890\n",
            "AdaptiveAvgPool2d-13             [-1, 10, 1, 1]               0\n",
            "================================================================\n",
            "Total params: 15,370\n",
            "Trainable params: 15,370\n",
            "Non-trainable params: 0\n",
            "----------------------------------------------------------------\n",
            "Input size (MB): 0.00\n",
            "Forward/backward pass size (MB): 0.57\n",
            "Params size (MB): 0.06\n",
            "Estimated Total Size (MB): 0.63\n",
            "----------------------------------------------------------------\n",
            "layer                          type   out_ch k         s         p         out(HxW)   RF(HxW)      jump     start       \n",
            "------------------------------------------------------------------------------------------------------------------------\n",
            "conv1                          conv   8      3x3       1x1       1x1       28x28      3x3          1x1      0.50x0.50   \n",
            "conv2                          conv   16     1x1       1x1       1x1       30x30      3x3          1x1      -0.50x-0.50 \n",
            "pool1                          pool   -      2x2       2x2       0x0       15x15      4x4          2x2      0.00x0.00   \n",
            "conv3                          conv   16     3x3       1x1       1x1       15x15      8x8          2x2      0.00x0.00   \n",
            "conv4                          conv   32     1x1       1x1       1x1       17x17      8x8          2x2      -2.00x-2.00 \n",
            "pool2                          pool   -      2x2       2x2       0x0       8x8        10x10        4x4      -1.00x-1.00 \n",
            "conv5                          conv   32     3x3       1x1       0x0       6x6        18x18        4x4      3.00x3.00   \n",
            "conv6                          conv   10     3x3       1x1       1x1       6x6        26x26        4x4      3.00x3.00   \n",
            "------------------------------------------------------------------------------------------------------------------------\n",
            "Final output spatial size: 6 x 6\n",
            "Final receptive field: 26 x 26\n",
            "Final cumulative stride (jump): 4 x 4\n",
            "Center of top-left output unit relative to input pixel (0-index approx): 3.00 , 3.00\n"
          ]
        }
      ],
      "source": [
        "model_summary_and_rf(Small_MNIST4())"
      ]
    },
    {
      "cell_type": "code",
      "execution_count": null,
      "metadata": {
        "colab": {
          "base_uri": "https://localhost:8080/"
        },
        "id": "zxtxXgAZoZO0",
        "outputId": "2ff0a7e4-71c0-4291-9074-915c4f8a77f0"
      },
      "outputs": [
        {
          "name": "stdout",
          "output_type": "stream",
          "text": [
            "Starting Experimental Suite: MNIST_CNN_20250914_143038\n",
            "Target: 99.4% accuracy with <20k parameters in <20 epochs\n",
            "\n",
            "============================================================\n",
            "Running Experiment: Small_MNIST2\n",
            "============================================================\n",
            "Using device: cuda\n",
            "\n",
            "Model Requirements Check:\n",
            "  Total Parameters: 15,370\n",
            "  Under 20k params: ✓\n",
            "  Has Batch Normalization: ✓\n",
            "  Has Dropout: ✗\n",
            "  Has Global Average Pooling: ✓\n",
            "  Has Fully Connected Layer: ✗\n",
            "\n",
            "Starting Training for 18 epochs...\n",
            "\n",
            "Epoch 1/18\n"
          ]
        },
        {
          "name": "stderr",
          "output_type": "stream",
          "text": [
            "Training: 100%|██████████| 938/938 [00:18<00:00, 50.81it/s, Loss=0.6477, Acc=80.29%]\n"
          ]
        },
        {
          "name": "stdout",
          "output_type": "stream",
          "text": [
            "Train Loss: 0.6477, Train Acc: 80.29%\n",
            "Val Loss: 0.2071, Val Acc: 93.74%\n",
            "Best Val Acc: 93.74% (Epoch 1)\n",
            "\n",
            "Epoch 2/18\n"
          ]
        },
        {
          "name": "stderr",
          "output_type": "stream",
          "text": [
            "Training: 100%|██████████| 938/938 [00:21<00:00, 43.43it/s, Loss=0.1420, Acc=95.71%]\n"
          ]
        },
        {
          "name": "stdout",
          "output_type": "stream",
          "text": [
            "Train Loss: 0.1420, Train Acc: 95.71%\n",
            "Val Loss: 0.1331, Val Acc: 95.71%\n",
            "Best Val Acc: 95.71% (Epoch 2)\n",
            "\n",
            "Epoch 3/18\n"
          ]
        },
        {
          "name": "stderr",
          "output_type": "stream",
          "text": [
            "Training: 100%|██████████| 938/938 [00:20<00:00, 45.28it/s, Loss=0.1034, Acc=96.95%]\n"
          ]
        },
        {
          "name": "stdout",
          "output_type": "stream",
          "text": [
            "Train Loss: 0.1034, Train Acc: 96.95%\n",
            "Val Loss: 0.0858, Val Acc: 97.23%\n",
            "Best Val Acc: 97.23% (Epoch 3)\n",
            "\n",
            "Epoch 4/18\n"
          ]
        },
        {
          "name": "stderr",
          "output_type": "stream",
          "text": [
            "Training: 100%|██████████| 938/938 [00:20<00:00, 46.04it/s, Loss=0.0779, Acc=97.68%]\n"
          ]
        },
        {
          "name": "stdout",
          "output_type": "stream",
          "text": [
            "Train Loss: 0.0779, Train Acc: 97.68%\n",
            "Val Loss: 0.1065, Val Acc: 96.66%\n",
            "Best Val Acc: 97.23% (Epoch 3)\n",
            "\n",
            "Epoch 5/18\n"
          ]
        },
        {
          "name": "stderr",
          "output_type": "stream",
          "text": [
            "Training: 100%|██████████| 938/938 [00:19<00:00, 48.64it/s, Loss=0.0662, Acc=97.94%]\n"
          ]
        },
        {
          "name": "stdout",
          "output_type": "stream",
          "text": [
            "Train Loss: 0.0662, Train Acc: 97.94%\n",
            "Val Loss: 0.0639, Val Acc: 97.84%\n",
            "Best Val Acc: 97.84% (Epoch 5)\n",
            "\n",
            "Epoch 6/18\n"
          ]
        },
        {
          "name": "stderr",
          "output_type": "stream",
          "text": [
            "Training: 100%|██████████| 938/938 [00:19<00:00, 49.28it/s, Loss=0.0558, Acc=98.25%]\n"
          ]
        },
        {
          "name": "stdout",
          "output_type": "stream",
          "text": [
            "Train Loss: 0.0558, Train Acc: 98.25%\n",
            "Val Loss: 0.0680, Val Acc: 97.92%\n",
            "Best Val Acc: 97.92% (Epoch 6)\n",
            "\n",
            "Epoch 7/18\n"
          ]
        },
        {
          "name": "stderr",
          "output_type": "stream",
          "text": [
            "Training: 100%|██████████| 938/938 [00:19<00:00, 47.17it/s, Loss=0.0533, Acc=98.31%]\n"
          ]
        },
        {
          "name": "stdout",
          "output_type": "stream",
          "text": [
            "Train Loss: 0.0533, Train Acc: 98.31%\n",
            "Val Loss: 0.0401, Val Acc: 98.69%\n",
            "Best Val Acc: 98.69% (Epoch 7)\n",
            "\n",
            "Epoch 8/18\n"
          ]
        },
        {
          "name": "stderr",
          "output_type": "stream",
          "text": [
            "Training: 100%|██████████| 938/938 [00:19<00:00, 48.56it/s, Loss=0.0496, Acc=98.42%]\n"
          ]
        },
        {
          "name": "stdout",
          "output_type": "stream",
          "text": [
            "Train Loss: 0.0496, Train Acc: 98.42%\n",
            "Val Loss: 0.0472, Val Acc: 98.49%\n",
            "Best Val Acc: 98.69% (Epoch 7)\n",
            "\n",
            "Epoch 9/18\n"
          ]
        },
        {
          "name": "stderr",
          "output_type": "stream",
          "text": [
            "Training: 100%|██████████| 938/938 [00:18<00:00, 49.57it/s, Loss=0.0477, Acc=98.53%]\n"
          ]
        },
        {
          "name": "stdout",
          "output_type": "stream",
          "text": [
            "Train Loss: 0.0477, Train Acc: 98.53%\n",
            "Val Loss: 0.0510, Val Acc: 98.44%\n",
            "Best Val Acc: 98.69% (Epoch 7)\n",
            "\n",
            "Epoch 10/18\n"
          ]
        },
        {
          "name": "stderr",
          "output_type": "stream",
          "text": [
            "Training: 100%|██████████| 938/938 [00:19<00:00, 46.94it/s, Loss=0.0438, Acc=98.61%]\n"
          ]
        },
        {
          "name": "stdout",
          "output_type": "stream",
          "text": [
            "Train Loss: 0.0438, Train Acc: 98.61%\n",
            "Val Loss: 0.0400, Val Acc: 98.69%\n",
            "Best Val Acc: 98.69% (Epoch 7)\n",
            "\n",
            "Epoch 11/18\n"
          ]
        },
        {
          "name": "stderr",
          "output_type": "stream",
          "text": [
            "Training: 100%|██████████| 938/938 [00:20<00:00, 45.69it/s, Loss=0.0374, Acc=98.86%]\n"
          ]
        },
        {
          "name": "stdout",
          "output_type": "stream",
          "text": [
            "Train Loss: 0.0374, Train Acc: 98.86%\n",
            "Val Loss: 0.0413, Val Acc: 98.75%\n",
            "Best Val Acc: 98.75% (Epoch 11)\n",
            "\n",
            "Epoch 12/18\n"
          ]
        },
        {
          "name": "stderr",
          "output_type": "stream",
          "text": [
            "Training: 100%|██████████| 938/938 [00:19<00:00, 49.16it/s, Loss=0.0328, Acc=98.99%]\n"
          ]
        },
        {
          "name": "stdout",
          "output_type": "stream",
          "text": [
            "Train Loss: 0.0328, Train Acc: 98.99%\n",
            "Val Loss: 0.0337, Val Acc: 99.00%\n",
            "Best Val Acc: 99.00% (Epoch 12)\n",
            "\n",
            "Epoch 13/18\n"
          ]
        },
        {
          "name": "stderr",
          "output_type": "stream",
          "text": [
            "Training: 100%|██████████| 938/938 [00:19<00:00, 48.80it/s, Loss=0.0280, Acc=99.14%]\n"
          ]
        },
        {
          "name": "stdout",
          "output_type": "stream",
          "text": [
            "Train Loss: 0.0280, Train Acc: 99.14%\n",
            "Val Loss: 0.0304, Val Acc: 99.04%\n",
            "Best Val Acc: 99.04% (Epoch 13)\n",
            "\n",
            "Epoch 14/18\n"
          ]
        },
        {
          "name": "stderr",
          "output_type": "stream",
          "text": [
            "Training: 100%|██████████| 938/938 [00:19<00:00, 47.48it/s, Loss=0.0212, Acc=99.32%]\n"
          ]
        },
        {
          "name": "stdout",
          "output_type": "stream",
          "text": [
            "Train Loss: 0.0212, Train Acc: 99.32%\n",
            "Val Loss: 0.0347, Val Acc: 98.88%\n",
            "Best Val Acc: 99.04% (Epoch 13)\n",
            "\n",
            "Epoch 15/18\n"
          ]
        },
        {
          "name": "stderr",
          "output_type": "stream",
          "text": [
            "Training: 100%|██████████| 938/938 [00:18<00:00, 49.71it/s, Loss=0.0162, Acc=99.51%]\n"
          ]
        },
        {
          "name": "stdout",
          "output_type": "stream",
          "text": [
            "Train Loss: 0.0162, Train Acc: 99.51%\n",
            "Val Loss: 0.0227, Val Acc: 99.28%\n",
            "Best Val Acc: 99.28% (Epoch 15)\n",
            "\n",
            "Epoch 16/18\n"
          ]
        },
        {
          "name": "stderr",
          "output_type": "stream",
          "text": [
            "Training: 100%|██████████| 938/938 [00:19<00:00, 49.06it/s, Loss=0.0107, Acc=99.70%]\n"
          ]
        },
        {
          "name": "stdout",
          "output_type": "stream",
          "text": [
            "Train Loss: 0.0107, Train Acc: 99.70%\n",
            "Val Loss: 0.0242, Val Acc: 99.16%\n",
            "Best Val Acc: 99.28% (Epoch 15)\n",
            "\n",
            "Epoch 17/18\n"
          ]
        },
        {
          "name": "stderr",
          "output_type": "stream",
          "text": [
            "Training: 100%|██████████| 938/938 [00:19<00:00, 48.61it/s, Loss=0.0083, Acc=99.80%]\n"
          ]
        },
        {
          "name": "stdout",
          "output_type": "stream",
          "text": [
            "Train Loss: 0.0083, Train Acc: 99.80%\n",
            "Val Loss: 0.0233, Val Acc: 99.23%\n",
            "Best Val Acc: 99.28% (Epoch 15)\n",
            "\n",
            "Epoch 18/18\n"
          ]
        },
        {
          "name": "stderr",
          "output_type": "stream",
          "text": [
            "Training: 100%|██████████| 938/938 [00:18<00:00, 50.35it/s, Loss=0.0067, Acc=99.88%]\n"
          ]
        },
        {
          "name": "stdout",
          "output_type": "stream",
          "text": [
            "Train Loss: 0.0067, Train Acc: 99.88%\n",
            "Val Loss: 0.0227, Val Acc: 99.24%\n",
            "Best Val Acc: 99.28% (Epoch 15)\n",
            "\n",
            "========================================\n",
            "EXPERIMENT COMPLETED: Small_MNIST2\n",
            "========================================\n",
            "Best Validation Accuracy: 99.28%\n",
            "Target Achievement (99.4%): ✗\n",
            "Parameter Efficiency (<20k): ✓\n"
          ]
        }
      ],
      "source": [
        "exp_config = {\n",
        "      'model_class': Small_MNIST4,\n",
        "      'model_name': 'Small_MNIST2',\n",
        "      'epochs': 18,\n",
        "      'learning_rate': 0.001,\n",
        "      'use_augmentation': False\n",
        "  }\n",
        "\n",
        "create_and_run(exp_config)"
      ]
    },
    {
      "cell_type": "markdown",
      "metadata": {
        "id": "oFHIvpb2qTu0"
      },
      "source": [
        "We are almost there\n",
        "\n",
        "1.   List item\n",
        "2.   List item\n",
        "\n",
        "\n",
        "Train Accuracy - 99.88%\n",
        "Test Accuracy - 99.4%\n",
        "\n",
        "Let us add drop out and see if our accuracy gets better"
      ]
    },
    {
      "cell_type": "code",
      "execution_count": null,
      "metadata": {
        "id": "XJ_MDQpJqTK3"
      },
      "outputs": [],
      "source": [
        "class Small_MNIST5(nn.Module):\n",
        "    \"\"\"\n",
        "    Small CNN Architecture v1\n",
        "    - Basic efficient design with BN and Dropout\n",
        "    - Uses Global Average Pooling\n",
        "    - Target: <20k parameters, >99.4% accuracy\n",
        "    \"\"\"\n",
        "\n",
        "    def __init__(self, dropout_rate=0.1):\n",
        "        super(Small_MNIST5, self).__init__()\n",
        "\n",
        "        # Feature extraction layers\n",
        "        self.conv1 = nn.Conv2d(1, 8, 3, padding=1)\n",
        "        self.bn1 = nn.BatchNorm2d(8)\n",
        "\n",
        "        self.conv2 = nn.Conv2d(8, 16, 1, padding=1)\n",
        "        self.bn2 = nn.BatchNorm2d(16)\n",
        "\n",
        "        # Pooling and regularization\n",
        "        self.pool1 = nn.MaxPool2d(2, 2)\n",
        "\n",
        "        self.dropout1 = nn.Dropout2d(dropout_rate)\n",
        "\n",
        "        self.conv3 = nn.Conv2d(16, 16, 3, padding=1)\n",
        "        self.bn3 = nn.BatchNorm2d(16)\n",
        "\n",
        "        self.conv4 = nn.Conv2d(16, 32, 1, padding=1)\n",
        "        self.bn4 = nn.BatchNorm2d(32)\n",
        "\n",
        "        self.pool2 = nn.MaxPool2d(2, 2)\n",
        "\n",
        "        self.dropout2 = nn.Dropout2d(dropout_rate * 1.5)\n",
        "\n",
        "        self.conv5 = nn.Conv2d(32, 32, 3)\n",
        "        # Final classification layer\n",
        "        self.conv6 = nn.Conv2d(32, 10, 3, padding=1)\n",
        "        self.gap = nn.AdaptiveAvgPool2d(1)\n",
        "\n",
        "    def forward(self, x):\n",
        "        # Block 1\n",
        "        x = F.relu(self.bn1(self.conv1(x)))\n",
        "        x = F.relu(self.bn2(self.conv2(x)))\n",
        "        x = self.pool1(x)\n",
        "        x = self.dropout1(x)\n",
        "\n",
        "        # Block 2\n",
        "        x = F.relu(self.bn3(self.conv3(x)))\n",
        "        x = F.relu(self.bn4(self.conv4(x)))\n",
        "        x = self.pool2(x)\n",
        "        x = self.dropout2(x)\n",
        "\n",
        "        # Block 3 & Classification\n",
        "        x = F.relu(self.conv5(x))\n",
        "        x = self.conv6(x)\n",
        "        x = self.gap(x)\n",
        "        x = x.view(x.size(0), -1)\n",
        "\n",
        "        return F.log_softmax(x, dim=1)"
      ]
    },
    {
      "cell_type": "code",
      "execution_count": null,
      "metadata": {
        "colab": {
          "base_uri": "https://localhost:8080/"
        },
        "id": "kticuj1FqmZf",
        "outputId": "4beb87bd-94ee-48a0-bad1-a9c3c5e4adb4"
      },
      "outputs": [
        {
          "name": "stdout",
          "output_type": "stream",
          "text": [
            "----------------------------------------------------------------\n",
            "        Layer (type)               Output Shape         Param #\n",
            "================================================================\n",
            "            Conv2d-1            [-1, 8, 28, 28]              80\n",
            "       BatchNorm2d-2            [-1, 8, 28, 28]              16\n",
            "            Conv2d-3           [-1, 16, 30, 30]             144\n",
            "       BatchNorm2d-4           [-1, 16, 30, 30]              32\n",
            "         MaxPool2d-5           [-1, 16, 15, 15]               0\n",
            "         Dropout2d-6           [-1, 16, 15, 15]               0\n",
            "            Conv2d-7           [-1, 16, 15, 15]           2,320\n",
            "       BatchNorm2d-8           [-1, 16, 15, 15]              32\n",
            "            Conv2d-9           [-1, 32, 17, 17]             544\n",
            "      BatchNorm2d-10           [-1, 32, 17, 17]              64\n",
            "        MaxPool2d-11             [-1, 32, 8, 8]               0\n",
            "        Dropout2d-12             [-1, 32, 8, 8]               0\n",
            "           Conv2d-13             [-1, 32, 6, 6]           9,248\n",
            "           Conv2d-14             [-1, 10, 6, 6]           2,890\n",
            "AdaptiveAvgPool2d-15             [-1, 10, 1, 1]               0\n",
            "================================================================\n",
            "Total params: 15,370\n",
            "Trainable params: 15,370\n",
            "Non-trainable params: 0\n",
            "----------------------------------------------------------------\n",
            "Input size (MB): 0.00\n",
            "Forward/backward pass size (MB): 0.61\n",
            "Params size (MB): 0.06\n",
            "Estimated Total Size (MB): 0.67\n",
            "----------------------------------------------------------------\n",
            "layer                          type   out_ch k         s         p         out(HxW)   RF(HxW)      jump     start       \n",
            "------------------------------------------------------------------------------------------------------------------------\n",
            "conv1                          conv   8      3x3       1x1       1x1       28x28      3x3          1x1      0.50x0.50   \n",
            "conv2                          conv   16     1x1       1x1       1x1       30x30      3x3          1x1      -0.50x-0.50 \n",
            "pool1                          pool   -      2x2       2x2       0x0       15x15      4x4          2x2      0.00x0.00   \n",
            "conv3                          conv   16     3x3       1x1       1x1       15x15      8x8          2x2      0.00x0.00   \n",
            "conv4                          conv   32     1x1       1x1       1x1       17x17      8x8          2x2      -2.00x-2.00 \n",
            "pool2                          pool   -      2x2       2x2       0x0       8x8        10x10        4x4      -1.00x-1.00 \n",
            "conv5                          conv   32     3x3       1x1       0x0       6x6        18x18        4x4      3.00x3.00   \n",
            "conv6                          conv   10     3x3       1x1       1x1       6x6        26x26        4x4      3.00x3.00   \n",
            "------------------------------------------------------------------------------------------------------------------------\n",
            "Final output spatial size: 6 x 6\n",
            "Final receptive field: 26 x 26\n",
            "Final cumulative stride (jump): 4 x 4\n",
            "Center of top-left output unit relative to input pixel (0-index approx): 3.00 , 3.00\n"
          ]
        }
      ],
      "source": [
        "model_summary_and_rf(Small_MNIST5())"
      ]
    },
    {
      "cell_type": "code",
      "execution_count": null,
      "metadata": {
        "colab": {
          "base_uri": "https://localhost:8080/"
        },
        "id": "CKj1Yaxgqqot",
        "outputId": "a8e1f3b0-7cf2-456e-faf8-88f7b682af7f"
      },
      "outputs": [
        {
          "name": "stdout",
          "output_type": "stream",
          "text": [
            "Starting Experimental Suite: MNIST_CNN_20250914_144204\n",
            "Target: 99.4% accuracy with <20k parameters in <20 epochs\n",
            "\n",
            "============================================================\n",
            "Running Experiment: Small_MNIST2\n",
            "============================================================\n",
            "Using device: cuda\n",
            "\n",
            "Model Requirements Check:\n",
            "  Total Parameters: 15,370\n",
            "  Under 20k params: ✓\n",
            "  Has Batch Normalization: ✓\n",
            "  Has Dropout: ✓\n",
            "  Has Global Average Pooling: ✓\n",
            "  Has Fully Connected Layer: ✗\n",
            "\n",
            "Starting Training for 18 epochs...\n",
            "\n",
            "Epoch 1/18\n"
          ]
        },
        {
          "name": "stderr",
          "output_type": "stream",
          "text": [
            "Training: 100%|██████████| 938/938 [00:20<00:00, 45.01it/s, Loss=0.7836, Acc=75.16%]\n"
          ]
        },
        {
          "name": "stdout",
          "output_type": "stream",
          "text": [
            "Train Loss: 0.7836, Train Acc: 75.16%\n",
            "Val Loss: 0.1546, Val Acc: 95.55%\n",
            "Best Val Acc: 95.55% (Epoch 1)\n",
            "\n",
            "Epoch 2/18\n"
          ]
        },
        {
          "name": "stderr",
          "output_type": "stream",
          "text": [
            "Training: 100%|██████████| 938/938 [00:20<00:00, 45.19it/s, Loss=0.1814, Acc=94.64%]\n"
          ]
        },
        {
          "name": "stdout",
          "output_type": "stream",
          "text": [
            "Train Loss: 0.1814, Train Acc: 94.64%\n",
            "Val Loss: 0.1419, Val Acc: 95.71%\n",
            "Best Val Acc: 95.71% (Epoch 2)\n",
            "\n",
            "Epoch 3/18\n"
          ]
        },
        {
          "name": "stderr",
          "output_type": "stream",
          "text": [
            "Training: 100%|██████████| 938/938 [00:21<00:00, 43.84it/s, Loss=0.1227, Acc=96.29%]\n"
          ]
        },
        {
          "name": "stdout",
          "output_type": "stream",
          "text": [
            "Train Loss: 0.1227, Train Acc: 96.29%\n",
            "Val Loss: 0.0564, Val Acc: 98.24%\n",
            "Best Val Acc: 98.24% (Epoch 3)\n",
            "\n",
            "Epoch 4/18\n"
          ]
        },
        {
          "name": "stderr",
          "output_type": "stream",
          "text": [
            "Training: 100%|██████████| 938/938 [00:19<00:00, 47.71it/s, Loss=0.0983, Acc=97.03%]\n"
          ]
        },
        {
          "name": "stdout",
          "output_type": "stream",
          "text": [
            "Train Loss: 0.0983, Train Acc: 97.03%\n",
            "Val Loss: 0.1043, Val Acc: 96.73%\n",
            "Best Val Acc: 98.24% (Epoch 3)\n",
            "\n",
            "Epoch 5/18\n"
          ]
        },
        {
          "name": "stderr",
          "output_type": "stream",
          "text": [
            "Training: 100%|██████████| 938/938 [00:19<00:00, 47.93it/s, Loss=0.0868, Acc=97.34%]\n"
          ]
        },
        {
          "name": "stdout",
          "output_type": "stream",
          "text": [
            "Train Loss: 0.0868, Train Acc: 97.34%\n",
            "Val Loss: 0.0701, Val Acc: 97.79%\n",
            "Best Val Acc: 98.24% (Epoch 3)\n",
            "\n",
            "Epoch 6/18\n"
          ]
        },
        {
          "name": "stderr",
          "output_type": "stream",
          "text": [
            "Training: 100%|██████████| 938/938 [00:20<00:00, 46.65it/s, Loss=0.0760, Acc=97.62%]\n"
          ]
        },
        {
          "name": "stdout",
          "output_type": "stream",
          "text": [
            "Train Loss: 0.0760, Train Acc: 97.62%\n",
            "Val Loss: 0.0447, Val Acc: 98.51%\n",
            "Best Val Acc: 98.51% (Epoch 6)\n",
            "\n",
            "Epoch 7/18\n"
          ]
        },
        {
          "name": "stderr",
          "output_type": "stream",
          "text": [
            "Training: 100%|██████████| 938/938 [00:20<00:00, 45.09it/s, Loss=0.0740, Acc=97.73%]\n"
          ]
        },
        {
          "name": "stdout",
          "output_type": "stream",
          "text": [
            "Train Loss: 0.0740, Train Acc: 97.73%\n",
            "Val Loss: 0.0515, Val Acc: 98.45%\n",
            "Best Val Acc: 98.51% (Epoch 6)\n",
            "\n",
            "Epoch 8/18\n"
          ]
        },
        {
          "name": "stderr",
          "output_type": "stream",
          "text": [
            "Training: 100%|██████████| 938/938 [00:19<00:00, 48.85it/s, Loss=0.0687, Acc=97.84%]\n"
          ]
        },
        {
          "name": "stdout",
          "output_type": "stream",
          "text": [
            "Train Loss: 0.0687, Train Acc: 97.84%\n",
            "Val Loss: 0.0472, Val Acc: 98.58%\n",
            "Best Val Acc: 98.58% (Epoch 8)\n",
            "\n",
            "Epoch 9/18\n"
          ]
        },
        {
          "name": "stderr",
          "output_type": "stream",
          "text": [
            "Training: 100%|██████████| 938/938 [00:20<00:00, 46.06it/s, Loss=0.0670, Acc=97.93%]\n"
          ]
        },
        {
          "name": "stdout",
          "output_type": "stream",
          "text": [
            "Train Loss: 0.0670, Train Acc: 97.93%\n",
            "Val Loss: 0.0550, Val Acc: 98.32%\n",
            "Best Val Acc: 98.58% (Epoch 8)\n",
            "\n",
            "Epoch 10/18\n"
          ]
        },
        {
          "name": "stderr",
          "output_type": "stream",
          "text": [
            "Training: 100%|██████████| 938/938 [00:20<00:00, 46.65it/s, Loss=0.0587, Acc=98.22%]\n"
          ]
        },
        {
          "name": "stdout",
          "output_type": "stream",
          "text": [
            "Train Loss: 0.0587, Train Acc: 98.22%\n",
            "Val Loss: 0.0438, Val Acc: 98.57%\n",
            "Best Val Acc: 98.58% (Epoch 8)\n",
            "\n",
            "Epoch 11/18\n"
          ]
        },
        {
          "name": "stderr",
          "output_type": "stream",
          "text": [
            "Training: 100%|██████████| 938/938 [00:19<00:00, 48.01it/s, Loss=0.0569, Acc=98.19%]\n"
          ]
        },
        {
          "name": "stdout",
          "output_type": "stream",
          "text": [
            "Train Loss: 0.0569, Train Acc: 98.19%\n",
            "Val Loss: 0.0457, Val Acc: 98.54%\n",
            "Best Val Acc: 98.58% (Epoch 8)\n",
            "\n",
            "Epoch 12/18\n"
          ]
        },
        {
          "name": "stderr",
          "output_type": "stream",
          "text": [
            "Training: 100%|██████████| 938/938 [00:19<00:00, 48.84it/s, Loss=0.0490, Acc=98.46%]\n"
          ]
        },
        {
          "name": "stdout",
          "output_type": "stream",
          "text": [
            "Train Loss: 0.0490, Train Acc: 98.46%\n",
            "Val Loss: 0.0344, Val Acc: 98.82%\n",
            "Best Val Acc: 98.82% (Epoch 12)\n",
            "\n",
            "Epoch 13/18\n"
          ]
        },
        {
          "name": "stderr",
          "output_type": "stream",
          "text": [
            "Training: 100%|██████████| 938/938 [00:19<00:00, 47.01it/s, Loss=0.0427, Acc=98.70%]\n"
          ]
        },
        {
          "name": "stdout",
          "output_type": "stream",
          "text": [
            "Train Loss: 0.0427, Train Acc: 98.70%\n",
            "Val Loss: 0.0266, Val Acc: 99.10%\n",
            "Best Val Acc: 99.10% (Epoch 13)\n",
            "\n",
            "Epoch 14/18\n"
          ]
        },
        {
          "name": "stderr",
          "output_type": "stream",
          "text": [
            "Training: 100%|██████████| 938/938 [00:19<00:00, 48.38it/s, Loss=0.0357, Acc=98.87%]\n"
          ]
        },
        {
          "name": "stdout",
          "output_type": "stream",
          "text": [
            "Train Loss: 0.0357, Train Acc: 98.87%\n",
            "Val Loss: 0.0280, Val Acc: 99.07%\n",
            "Best Val Acc: 99.10% (Epoch 13)\n",
            "\n",
            "Epoch 15/18\n"
          ]
        },
        {
          "name": "stderr",
          "output_type": "stream",
          "text": [
            "Training: 100%|██████████| 938/938 [00:19<00:00, 46.99it/s, Loss=0.0302, Acc=99.05%]\n"
          ]
        },
        {
          "name": "stdout",
          "output_type": "stream",
          "text": [
            "Train Loss: 0.0302, Train Acc: 99.05%\n",
            "Val Loss: 0.0264, Val Acc: 99.09%\n",
            "Best Val Acc: 99.10% (Epoch 13)\n",
            "\n",
            "Epoch 16/18\n"
          ]
        },
        {
          "name": "stderr",
          "output_type": "stream",
          "text": [
            "Training: 100%|██████████| 938/938 [00:20<00:00, 46.59it/s, Loss=0.0246, Acc=99.26%]\n"
          ]
        },
        {
          "name": "stdout",
          "output_type": "stream",
          "text": [
            "Train Loss: 0.0246, Train Acc: 99.26%\n",
            "Val Loss: 0.0218, Val Acc: 99.32%\n",
            "Best Val Acc: 99.32% (Epoch 16)\n",
            "\n",
            "Epoch 17/18\n"
          ]
        },
        {
          "name": "stderr",
          "output_type": "stream",
          "text": [
            "Training: 100%|██████████| 938/938 [00:20<00:00, 46.81it/s, Loss=0.0214, Acc=99.37%]\n"
          ]
        },
        {
          "name": "stdout",
          "output_type": "stream",
          "text": [
            "Train Loss: 0.0214, Train Acc: 99.37%\n",
            "Val Loss: 0.0206, Val Acc: 99.31%\n",
            "Best Val Acc: 99.32% (Epoch 16)\n",
            "\n",
            "Epoch 18/18\n"
          ]
        },
        {
          "name": "stderr",
          "output_type": "stream",
          "text": [
            "Training: 100%|██████████| 938/938 [00:19<00:00, 48.58it/s, Loss=0.0186, Acc=99.45%]\n"
          ]
        },
        {
          "name": "stdout",
          "output_type": "stream",
          "text": [
            "Train Loss: 0.0186, Train Acc: 99.45%\n",
            "Val Loss: 0.0204, Val Acc: 99.36%\n",
            "Best Val Acc: 99.36% (Epoch 18)\n",
            "\n",
            "========================================\n",
            "EXPERIMENT COMPLETED: Small_MNIST2\n",
            "========================================\n",
            "Best Validation Accuracy: 99.36%\n",
            "Target Achievement (99.4%): ✗\n",
            "Parameter Efficiency (<20k): ✓\n"
          ]
        }
      ],
      "source": [
        "exp_config = {\n",
        "      'model_class': Small_MNIST5,\n",
        "      'model_name': 'Small_MNIST2',\n",
        "      'epochs': 18,\n",
        "      'learning_rate': 0.001,\n",
        "      'use_augmentation': False\n",
        "  }\n",
        "\n",
        "create_and_run(exp_config)"
      ]
    },
    {
      "cell_type": "markdown",
      "metadata": {
        "id": "tuuJWYV1wsWH"
      },
      "source": [
        "Train Accuracy - 99.45%\n",
        "Test Accuracy - 99.36%\n",
        "\n",
        "Trying small changes in config with same architecture"
      ]
    },
    {
      "cell_type": "code",
      "execution_count": null,
      "metadata": {
        "colab": {
          "base_uri": "https://localhost:8080/"
        },
        "id": "XoJE-Zp-qqu7",
        "outputId": "d542bcfb-a05a-4c95-8e3d-3679c6388868"
      },
      "outputs": [
        {
          "name": "stdout",
          "output_type": "stream",
          "text": [
            "Starting Experimental Suite: MNIST_CNN_20250914_151004\n",
            "Target: 99.4% accuracy with <20k parameters in <20 epochs\n",
            "\n",
            "============================================================\n",
            "Running Experiment: Small_MNIST6\n",
            "============================================================\n",
            "Using device: cuda\n",
            "\n",
            "Model Requirements Check:\n",
            "  Total Parameters: 15,370\n",
            "  Under 20k params: ✓\n",
            "  Has Batch Normalization: ✓\n",
            "  Has Dropout: ✓\n",
            "  Has Global Average Pooling: ✓\n",
            "  Has Fully Connected Layer: ✗\n",
            "\n",
            "Starting Training for 18 epochs...\n",
            "\n",
            "Epoch 1/18\n"
          ]
        },
        {
          "name": "stderr",
          "output_type": "stream",
          "text": [
            "Training: 100%|██████████| 938/938 [00:19<00:00, 48.93it/s, Loss=0.8887, Acc=71.19%]\n"
          ]
        },
        {
          "name": "stdout",
          "output_type": "stream",
          "text": [
            "Train Loss: 0.8887, Train Acc: 71.19%\n",
            "Val Loss: 0.1884, Val Acc: 94.73%\n",
            "Best Val Acc: 94.73% (Epoch 1)\n",
            "\n",
            "Epoch 2/18\n"
          ]
        },
        {
          "name": "stderr",
          "output_type": "stream",
          "text": [
            "Training: 100%|██████████| 938/938 [00:19<00:00, 47.70it/s, Loss=0.2050, Acc=94.01%]\n"
          ]
        },
        {
          "name": "stdout",
          "output_type": "stream",
          "text": [
            "Train Loss: 0.2050, Train Acc: 94.01%\n",
            "Val Loss: 0.1160, Val Acc: 96.73%\n",
            "Best Val Acc: 96.73% (Epoch 2)\n",
            "\n",
            "Epoch 3/18\n"
          ]
        },
        {
          "name": "stderr",
          "output_type": "stream",
          "text": [
            "Training: 100%|██████████| 938/938 [00:21<00:00, 44.34it/s, Loss=0.1389, Acc=95.84%]\n"
          ]
        },
        {
          "name": "stdout",
          "output_type": "stream",
          "text": [
            "Train Loss: 0.1389, Train Acc: 95.84%\n",
            "Val Loss: 0.0861, Val Acc: 97.14%\n",
            "Best Val Acc: 97.14% (Epoch 3)\n",
            "\n",
            "Epoch 4/18\n"
          ]
        },
        {
          "name": "stderr",
          "output_type": "stream",
          "text": [
            "Training: 100%|██████████| 938/938 [00:19<00:00, 47.34it/s, Loss=0.1057, Acc=96.72%]\n"
          ]
        },
        {
          "name": "stdout",
          "output_type": "stream",
          "text": [
            "Train Loss: 0.1057, Train Acc: 96.72%\n",
            "Val Loss: 0.0549, Val Acc: 98.12%\n",
            "Best Val Acc: 98.12% (Epoch 4)\n",
            "\n",
            "Epoch 5/18\n"
          ]
        },
        {
          "name": "stderr",
          "output_type": "stream",
          "text": [
            "Training: 100%|██████████| 938/938 [00:19<00:00, 49.04it/s, Loss=0.0964, Acc=97.01%]\n"
          ]
        },
        {
          "name": "stdout",
          "output_type": "stream",
          "text": [
            "Train Loss: 0.0964, Train Acc: 97.01%\n",
            "Val Loss: 0.0656, Val Acc: 97.83%\n",
            "Best Val Acc: 98.12% (Epoch 4)\n",
            "\n",
            "Epoch 6/18\n"
          ]
        },
        {
          "name": "stderr",
          "output_type": "stream",
          "text": [
            "Training: 100%|██████████| 938/938 [00:19<00:00, 47.34it/s, Loss=0.0872, Acc=97.34%]\n"
          ]
        },
        {
          "name": "stdout",
          "output_type": "stream",
          "text": [
            "Train Loss: 0.0872, Train Acc: 97.34%\n",
            "Val Loss: 0.0563, Val Acc: 98.12%\n",
            "Best Val Acc: 98.12% (Epoch 4)\n",
            "\n",
            "Epoch 7/18\n"
          ]
        },
        {
          "name": "stderr",
          "output_type": "stream",
          "text": [
            "Training: 100%|██████████| 938/938 [00:19<00:00, 47.58it/s, Loss=0.0825, Acc=97.48%]\n"
          ]
        },
        {
          "name": "stdout",
          "output_type": "stream",
          "text": [
            "Train Loss: 0.0825, Train Acc: 97.48%\n",
            "Val Loss: 0.0691, Val Acc: 97.98%\n",
            "Best Val Acc: 98.12% (Epoch 4)\n",
            "\n",
            "Epoch 8/18\n"
          ]
        },
        {
          "name": "stderr",
          "output_type": "stream",
          "text": [
            "Training: 100%|██████████| 938/938 [00:19<00:00, 49.07it/s, Loss=0.0787, Acc=97.56%]\n"
          ]
        },
        {
          "name": "stdout",
          "output_type": "stream",
          "text": [
            "Train Loss: 0.0787, Train Acc: 97.56%\n",
            "Val Loss: 0.0426, Val Acc: 98.61%\n",
            "Best Val Acc: 98.61% (Epoch 8)\n",
            "\n",
            "Epoch 9/18\n"
          ]
        },
        {
          "name": "stderr",
          "output_type": "stream",
          "text": [
            "Training: 100%|██████████| 938/938 [00:19<00:00, 48.04it/s, Loss=0.0736, Acc=97.70%]\n"
          ]
        },
        {
          "name": "stdout",
          "output_type": "stream",
          "text": [
            "Train Loss: 0.0736, Train Acc: 97.70%\n",
            "Val Loss: 0.0404, Val Acc: 98.67%\n",
            "Best Val Acc: 98.67% (Epoch 9)\n",
            "\n",
            "Epoch 10/18\n"
          ]
        },
        {
          "name": "stderr",
          "output_type": "stream",
          "text": [
            "Training: 100%|██████████| 938/938 [00:19<00:00, 48.03it/s, Loss=0.0675, Acc=97.88%]\n"
          ]
        },
        {
          "name": "stdout",
          "output_type": "stream",
          "text": [
            "Train Loss: 0.0675, Train Acc: 97.88%\n",
            "Val Loss: 0.0537, Val Acc: 98.14%\n",
            "Best Val Acc: 98.67% (Epoch 9)\n",
            "\n",
            "Epoch 11/18\n"
          ]
        },
        {
          "name": "stderr",
          "output_type": "stream",
          "text": [
            "Training: 100%|██████████| 938/938 [00:18<00:00, 49.70it/s, Loss=0.0623, Acc=98.10%]\n"
          ]
        },
        {
          "name": "stdout",
          "output_type": "stream",
          "text": [
            "Train Loss: 0.0623, Train Acc: 98.10%\n",
            "Val Loss: 0.0383, Val Acc: 98.75%\n",
            "Best Val Acc: 98.75% (Epoch 11)\n",
            "\n",
            "Epoch 12/18\n"
          ]
        },
        {
          "name": "stderr",
          "output_type": "stream",
          "text": [
            "Training: 100%|██████████| 938/938 [00:20<00:00, 45.58it/s, Loss=0.0556, Acc=98.29%]\n"
          ]
        },
        {
          "name": "stdout",
          "output_type": "stream",
          "text": [
            "Train Loss: 0.0556, Train Acc: 98.29%\n",
            "Val Loss: 0.0423, Val Acc: 98.68%\n",
            "Best Val Acc: 98.75% (Epoch 11)\n",
            "\n",
            "Epoch 13/18\n"
          ]
        },
        {
          "name": "stderr",
          "output_type": "stream",
          "text": [
            "Training: 100%|██████████| 938/938 [00:19<00:00, 47.75it/s, Loss=0.0493, Acc=98.46%]\n"
          ]
        },
        {
          "name": "stdout",
          "output_type": "stream",
          "text": [
            "Train Loss: 0.0493, Train Acc: 98.46%\n",
            "Val Loss: 0.0339, Val Acc: 98.90%\n",
            "Best Val Acc: 98.90% (Epoch 13)\n",
            "\n",
            "Epoch 14/18\n"
          ]
        },
        {
          "name": "stderr",
          "output_type": "stream",
          "text": [
            "Training: 100%|██████████| 938/938 [00:19<00:00, 48.41it/s, Loss=0.0419, Acc=98.75%]\n"
          ]
        },
        {
          "name": "stdout",
          "output_type": "stream",
          "text": [
            "Train Loss: 0.0419, Train Acc: 98.75%\n",
            "Val Loss: 0.0255, Val Acc: 99.13%\n",
            "Best Val Acc: 99.13% (Epoch 14)\n",
            "\n",
            "Epoch 15/18\n"
          ]
        },
        {
          "name": "stderr",
          "output_type": "stream",
          "text": [
            "Training: 100%|██████████| 938/938 [00:19<00:00, 49.21it/s, Loss=0.0348, Acc=98.89%]\n"
          ]
        },
        {
          "name": "stdout",
          "output_type": "stream",
          "text": [
            "Train Loss: 0.0348, Train Acc: 98.89%\n",
            "Val Loss: 0.0253, Val Acc: 99.21%\n",
            "Best Val Acc: 99.21% (Epoch 15)\n",
            "\n",
            "Epoch 16/18\n"
          ]
        },
        {
          "name": "stderr",
          "output_type": "stream",
          "text": [
            "Training: 100%|██████████| 938/938 [00:19<00:00, 48.08it/s, Loss=0.0276, Acc=99.17%]\n"
          ]
        },
        {
          "name": "stdout",
          "output_type": "stream",
          "text": [
            "Train Loss: 0.0276, Train Acc: 99.17%\n",
            "Val Loss: 0.0225, Val Acc: 99.18%\n",
            "Best Val Acc: 99.21% (Epoch 15)\n",
            "\n",
            "Epoch 17/18\n"
          ]
        },
        {
          "name": "stderr",
          "output_type": "stream",
          "text": [
            "Training: 100%|██████████| 938/938 [00:18<00:00, 49.40it/s, Loss=0.0249, Acc=99.26%]\n"
          ]
        },
        {
          "name": "stdout",
          "output_type": "stream",
          "text": [
            "Train Loss: 0.0249, Train Acc: 99.26%\n",
            "Val Loss: 0.0215, Val Acc: 99.20%\n",
            "Best Val Acc: 99.21% (Epoch 15)\n",
            "\n",
            "Epoch 18/18\n"
          ]
        },
        {
          "name": "stderr",
          "output_type": "stream",
          "text": [
            "Training: 100%|██████████| 938/938 [00:19<00:00, 49.31it/s, Loss=0.0214, Acc=99.35%]\n"
          ]
        },
        {
          "name": "stdout",
          "output_type": "stream",
          "text": [
            "Train Loss: 0.0214, Train Acc: 99.35%\n",
            "Val Loss: 0.0208, Val Acc: 99.24%\n",
            "Best Val Acc: 99.24% (Epoch 18)\n",
            "\n",
            "========================================\n",
            "EXPERIMENT COMPLETED: Small_MNIST6\n",
            "========================================\n",
            "Best Validation Accuracy: 99.24%\n",
            "Target Achievement (99.4%): ✗\n",
            "Parameter Efficiency (<20k): ✓\n"
          ]
        }
      ],
      "source": [
        "exp_config = {\n",
        "      'model_class': Small_MNIST5,\n",
        "      'model_name': 'Small_MNIST6',\n",
        "      'epochs': 18,\n",
        "      'learning_rate': 0.001,\n",
        "      'scheduler_type': 'onecycle',\n",
        "      'use_augmentation': True,\n",
        "      'dropout_rate': 0.15\n",
        "  }\n",
        "\n",
        "create_and_run(exp_config)"
      ]
    },
    {
      "cell_type": "markdown",
      "metadata": {
        "id": "ZsCVNZUL3P3M"
      },
      "source": [
        "Making it 19 epochs"
      ]
    },
    {
      "cell_type": "code",
      "execution_count": null,
      "metadata": {
        "colab": {
          "base_uri": "https://localhost:8080/",
          "height": 1000
        },
        "id": "9XcM4AWLwrfc",
        "outputId": "21a02459-957a-4ce3-f7cb-94ced34ced7a"
      },
      "outputs": [
        {
          "data": {
            "text/html": [
              "Finishing previous runs because reinit is set to 'default'."
            ],
            "text/plain": [
              "<IPython.core.display.HTML object>"
            ]
          },
          "metadata": {},
          "output_type": "display_data"
        },
        {
          "data": {
            "text/html": [],
            "text/plain": [
              "<IPython.core.display.HTML object>"
            ]
          },
          "metadata": {},
          "output_type": "display_data"
        },
        {
          "data": {
            "text/html": [
              " View run <strong style=\"color:#cdcd00\">noble-shape-6</strong> at: <a href='https://wandb.ai/johnced/cnn_mnist/runs/uvm3wgbt' target=\"_blank\">https://wandb.ai/johnced/cnn_mnist/runs/uvm3wgbt</a><br> View project at: <a href='https://wandb.ai/johnced/cnn_mnist' target=\"_blank\">https://wandb.ai/johnced/cnn_mnist</a><br>Synced 5 W&B file(s), 0 media file(s), 0 artifact file(s) and 0 other file(s)"
            ],
            "text/plain": [
              "<IPython.core.display.HTML object>"
            ]
          },
          "metadata": {},
          "output_type": "display_data"
        },
        {
          "data": {
            "text/html": [
              "Find logs at: <code>./wandb/run-20250914_152224-uvm3wgbt/logs</code>"
            ],
            "text/plain": [
              "<IPython.core.display.HTML object>"
            ]
          },
          "metadata": {},
          "output_type": "display_data"
        },
        {
          "data": {
            "text/html": [
              "Waiting for wandb.init()..."
            ],
            "text/plain": [
              "<IPython.core.display.HTML object>"
            ]
          },
          "metadata": {},
          "output_type": "display_data"
        },
        {
          "data": {
            "text/html": [
              "Tracking run with wandb version 0.21.3"
            ],
            "text/plain": [
              "<IPython.core.display.HTML object>"
            ]
          },
          "metadata": {},
          "output_type": "display_data"
        },
        {
          "data": {
            "text/html": [
              "Run data is saved locally in <code>/content/wandb/run-20250914_152332-a0504s3q</code>"
            ],
            "text/plain": [
              "<IPython.core.display.HTML object>"
            ]
          },
          "metadata": {},
          "output_type": "display_data"
        },
        {
          "data": {
            "text/html": [
              "Syncing run <strong><a href='https://wandb.ai/johnced/cnn_mnist/runs/a0504s3q' target=\"_blank\">proud-lion-7</a></strong> to <a href='https://wandb.ai/johnced/cnn_mnist' target=\"_blank\">Weights & Biases</a> (<a href='https://wandb.me/developer-guide' target=\"_blank\">docs</a>)<br>"
            ],
            "text/plain": [
              "<IPython.core.display.HTML object>"
            ]
          },
          "metadata": {},
          "output_type": "display_data"
        },
        {
          "data": {
            "text/html": [
              " View project at <a href='https://wandb.ai/johnced/cnn_mnist' target=\"_blank\">https://wandb.ai/johnced/cnn_mnist</a>"
            ],
            "text/plain": [
              "<IPython.core.display.HTML object>"
            ]
          },
          "metadata": {},
          "output_type": "display_data"
        },
        {
          "data": {
            "text/html": [
              " View run at <a href='https://wandb.ai/johnced/cnn_mnist/runs/a0504s3q' target=\"_blank\">https://wandb.ai/johnced/cnn_mnist/runs/a0504s3q</a>"
            ],
            "text/plain": [
              "<IPython.core.display.HTML object>"
            ]
          },
          "metadata": {},
          "output_type": "display_data"
        },
        {
          "name": "stdout",
          "output_type": "stream",
          "text": [
            "Starting Experimental Suite: MNIST_CNN_20250914_152335\n",
            "Target: 99.4% accuracy with <20k parameters in <20 epochs\n",
            "\n",
            "============================================================\n",
            "Running Experiment: Small_MNIST6\n",
            "============================================================\n",
            "Using device: cuda\n",
            "\n",
            "Model Requirements Check:\n",
            "  Total Parameters: 15,370\n",
            "  Under 20k params: ✓\n",
            "  Has Batch Normalization: ✓\n",
            "  Has Dropout: ✓\n",
            "  Has Global Average Pooling: ✓\n",
            "  Has Fully Connected Layer: ✗\n",
            "\n",
            "Starting Training for 19 epochs...\n",
            "\n",
            "Epoch 1/19\n"
          ]
        },
        {
          "name": "stderr",
          "output_type": "stream",
          "text": [
            "Training: 100%|██████████| 938/938 [00:19<00:00, 48.63it/s, Loss=0.8394, Acc=73.09%]\n"
          ]
        },
        {
          "name": "stdout",
          "output_type": "stream",
          "text": [
            "Train Loss: 0.8394, Train Acc: 73.09%\n",
            "Val Loss: 0.1757, Val Acc: 94.92%\n",
            "Best Val Acc: 94.92% (Epoch 1)\n",
            "\n",
            "Epoch 2/19\n"
          ]
        },
        {
          "name": "stderr",
          "output_type": "stream",
          "text": [
            "Training: 100%|██████████| 938/938 [00:20<00:00, 46.47it/s, Loss=0.2017, Acc=93.90%]\n"
          ]
        },
        {
          "name": "stdout",
          "output_type": "stream",
          "text": [
            "Train Loss: 0.2017, Train Acc: 93.90%\n",
            "Val Loss: 0.1453, Val Acc: 95.54%\n",
            "Best Val Acc: 95.54% (Epoch 2)\n",
            "\n",
            "Epoch 3/19\n"
          ]
        },
        {
          "name": "stderr",
          "output_type": "stream",
          "text": [
            "Training: 100%|██████████| 938/938 [00:21<00:00, 44.03it/s, Loss=0.1450, Acc=95.64%]\n"
          ]
        },
        {
          "name": "stdout",
          "output_type": "stream",
          "text": [
            "Train Loss: 0.1450, Train Acc: 95.64%\n",
            "Val Loss: 0.0764, Val Acc: 97.62%\n",
            "Best Val Acc: 97.62% (Epoch 3)\n",
            "\n",
            "Epoch 4/19\n"
          ]
        },
        {
          "name": "stderr",
          "output_type": "stream",
          "text": [
            "Training: 100%|██████████| 938/938 [00:19<00:00, 48.37it/s, Loss=0.1155, Acc=96.52%]\n"
          ]
        },
        {
          "name": "stdout",
          "output_type": "stream",
          "text": [
            "Train Loss: 0.1155, Train Acc: 96.52%\n",
            "Val Loss: 0.0820, Val Acc: 97.53%\n",
            "Best Val Acc: 97.62% (Epoch 3)\n",
            "\n",
            "Epoch 5/19\n"
          ]
        },
        {
          "name": "stderr",
          "output_type": "stream",
          "text": [
            "Training: 100%|██████████| 938/938 [00:19<00:00, 47.67it/s, Loss=0.1031, Acc=96.81%]\n"
          ]
        },
        {
          "name": "stdout",
          "output_type": "stream",
          "text": [
            "Train Loss: 0.1031, Train Acc: 96.81%\n",
            "Val Loss: 0.0787, Val Acc: 97.50%\n",
            "Best Val Acc: 97.62% (Epoch 3)\n",
            "\n",
            "Epoch 6/19\n"
          ]
        },
        {
          "name": "stderr",
          "output_type": "stream",
          "text": [
            "Training: 100%|██████████| 938/938 [00:19<00:00, 47.07it/s, Loss=0.0925, Acc=97.13%]\n"
          ]
        },
        {
          "name": "stdout",
          "output_type": "stream",
          "text": [
            "Train Loss: 0.0925, Train Acc: 97.13%\n",
            "Val Loss: 0.0475, Val Acc: 98.46%\n",
            "Best Val Acc: 98.46% (Epoch 6)\n",
            "\n",
            "Epoch 7/19\n"
          ]
        },
        {
          "name": "stderr",
          "output_type": "stream",
          "text": [
            "Training: 100%|██████████| 938/938 [00:19<00:00, 49.25it/s, Loss=0.0854, Acc=97.41%]\n"
          ]
        },
        {
          "name": "stdout",
          "output_type": "stream",
          "text": [
            "Train Loss: 0.0854, Train Acc: 97.41%\n",
            "Val Loss: 0.0597, Val Acc: 98.32%\n",
            "Best Val Acc: 98.46% (Epoch 6)\n",
            "\n",
            "Epoch 8/19\n"
          ]
        },
        {
          "name": "stderr",
          "output_type": "stream",
          "text": [
            "Training: 100%|██████████| 938/938 [00:19<00:00, 48.13it/s, Loss=0.0805, Acc=97.59%]\n"
          ]
        },
        {
          "name": "stdout",
          "output_type": "stream",
          "text": [
            "Train Loss: 0.0805, Train Acc: 97.59%\n",
            "Val Loss: 0.0488, Val Acc: 98.46%\n",
            "Best Val Acc: 98.46% (Epoch 6)\n",
            "\n",
            "Epoch 9/19\n"
          ]
        },
        {
          "name": "stderr",
          "output_type": "stream",
          "text": [
            "Training: 100%|██████████| 938/938 [00:19<00:00, 47.35it/s, Loss=0.0747, Acc=97.72%]\n"
          ]
        },
        {
          "name": "stdout",
          "output_type": "stream",
          "text": [
            "Train Loss: 0.0747, Train Acc: 97.72%\n",
            "Val Loss: 0.0403, Val Acc: 98.73%\n",
            "Best Val Acc: 98.73% (Epoch 9)\n",
            "\n",
            "Epoch 10/19\n"
          ]
        },
        {
          "name": "stderr",
          "output_type": "stream",
          "text": [
            "Training: 100%|██████████| 938/938 [00:18<00:00, 49.49it/s, Loss=0.0709, Acc=97.89%]\n"
          ]
        },
        {
          "name": "stdout",
          "output_type": "stream",
          "text": [
            "Train Loss: 0.0709, Train Acc: 97.89%\n",
            "Val Loss: 0.0454, Val Acc: 98.63%\n",
            "Best Val Acc: 98.73% (Epoch 9)\n",
            "\n",
            "Epoch 11/19\n"
          ]
        },
        {
          "name": "stderr",
          "output_type": "stream",
          "text": [
            "Training: 100%|██████████| 938/938 [00:19<00:00, 48.01it/s, Loss=0.0676, Acc=97.89%]\n"
          ]
        },
        {
          "name": "stdout",
          "output_type": "stream",
          "text": [
            "Train Loss: 0.0676, Train Acc: 97.89%\n",
            "Val Loss: 0.0367, Val Acc: 98.83%\n",
            "Best Val Acc: 98.83% (Epoch 11)\n",
            "\n",
            "Epoch 12/19\n"
          ]
        },
        {
          "name": "stderr",
          "output_type": "stream",
          "text": [
            "Training: 100%|██████████| 938/938 [00:20<00:00, 45.52it/s, Loss=0.0588, Acc=98.11%]\n"
          ]
        },
        {
          "name": "stdout",
          "output_type": "stream",
          "text": [
            "Train Loss: 0.0588, Train Acc: 98.11%\n",
            "Val Loss: 0.0325, Val Acc: 98.83%\n",
            "Best Val Acc: 98.83% (Epoch 11)\n",
            "\n",
            "Epoch 13/19\n"
          ]
        },
        {
          "name": "stderr",
          "output_type": "stream",
          "text": [
            "Training: 100%|██████████| 938/938 [00:18<00:00, 49.61it/s, Loss=0.0538, Acc=98.33%]\n"
          ]
        },
        {
          "name": "stdout",
          "output_type": "stream",
          "text": [
            "Train Loss: 0.0538, Train Acc: 98.33%\n",
            "Val Loss: 0.0378, Val Acc: 98.80%\n",
            "Best Val Acc: 98.83% (Epoch 11)\n",
            "\n",
            "Epoch 14/19\n"
          ]
        },
        {
          "name": "stderr",
          "output_type": "stream",
          "text": [
            "Training: 100%|██████████| 938/938 [00:19<00:00, 48.55it/s, Loss=0.0482, Acc=98.44%]\n"
          ]
        },
        {
          "name": "stdout",
          "output_type": "stream",
          "text": [
            "Train Loss: 0.0482, Train Acc: 98.44%\n",
            "Val Loss: 0.0322, Val Acc: 98.95%\n",
            "Best Val Acc: 98.95% (Epoch 14)\n",
            "\n",
            "Epoch 15/19\n"
          ]
        },
        {
          "name": "stderr",
          "output_type": "stream",
          "text": [
            "Training: 100%|██████████| 938/938 [00:19<00:00, 47.92it/s, Loss=0.0402, Acc=98.72%]\n"
          ]
        },
        {
          "name": "stdout",
          "output_type": "stream",
          "text": [
            "Train Loss: 0.0402, Train Acc: 98.72%\n",
            "Val Loss: 0.0280, Val Acc: 99.18%\n",
            "Best Val Acc: 99.18% (Epoch 15)\n",
            "\n",
            "Epoch 16/19\n"
          ]
        },
        {
          "name": "stderr",
          "output_type": "stream",
          "text": [
            "Training: 100%|██████████| 938/938 [00:18<00:00, 49.87it/s, Loss=0.0331, Acc=98.99%]\n"
          ]
        },
        {
          "name": "stdout",
          "output_type": "stream",
          "text": [
            "Train Loss: 0.0331, Train Acc: 98.99%\n",
            "Val Loss: 0.0233, Val Acc: 99.30%\n",
            "Best Val Acc: 99.30% (Epoch 16)\n",
            "\n",
            "Epoch 17/19\n"
          ]
        },
        {
          "name": "stderr",
          "output_type": "stream",
          "text": [
            "Training: 100%|██████████| 938/938 [00:19<00:00, 49.22it/s, Loss=0.0281, Acc=99.12%]\n"
          ]
        },
        {
          "name": "stdout",
          "output_type": "stream",
          "text": [
            "Train Loss: 0.0281, Train Acc: 99.12%\n",
            "Val Loss: 0.0222, Val Acc: 99.28%\n",
            "Best Val Acc: 99.30% (Epoch 16)\n",
            "\n",
            "Epoch 18/19\n"
          ]
        },
        {
          "name": "stderr",
          "output_type": "stream",
          "text": [
            "Training: 100%|██████████| 938/938 [00:19<00:00, 48.13it/s, Loss=0.0241, Acc=99.26%]\n"
          ]
        },
        {
          "name": "stdout",
          "output_type": "stream",
          "text": [
            "Train Loss: 0.0241, Train Acc: 99.26%\n",
            "Val Loss: 0.0204, Val Acc: 99.34%\n",
            "Best Val Acc: 99.34% (Epoch 18)\n",
            "\n",
            "Epoch 19/19\n"
          ]
        },
        {
          "name": "stderr",
          "output_type": "stream",
          "text": [
            "Training: 100%|██████████| 938/938 [00:18<00:00, 50.34it/s, Loss=0.0220, Acc=99.33%]\n"
          ]
        },
        {
          "name": "stdout",
          "output_type": "stream",
          "text": [
            "Train Loss: 0.0220, Train Acc: 99.33%\n",
            "Val Loss: 0.0203, Val Acc: 99.37%\n",
            "Best Val Acc: 99.37% (Epoch 19)\n",
            "\n",
            "========================================\n",
            "EXPERIMENT COMPLETED: Small_MNIST6\n",
            "========================================\n",
            "Best Validation Accuracy: 99.37%\n",
            "Target Achievement (99.4%): ✗\n",
            "Parameter Efficiency (<20k): ✓\n"
          ]
        }
      ],
      "source": [
        "exp_config = {\n",
        "      'model_class': Small_MNIST5,\n",
        "      'model_name': 'Small_MNIST6',\n",
        "      'epochs': 19,\n",
        "      'learning_rate': 0.001,\n",
        "      'scheduler_type': 'onecycle',\n",
        "      'use_augmentation': True,\n",
        "      'dropout_rate': 0.15\n",
        "  }\n",
        "\n",
        "wandb.init(project=\"cnn_mnist\", config=exp_config)\n",
        "cfg = wandb.config\n",
        "\n",
        "# ------------------------------\n",
        "# Data loaders (MNIST)\n",
        "# ------------------------------\n",
        "torch.manual_seed(42)\n",
        "\n",
        "create_and_run(exp_config)"
      ]
    },
    {
      "cell_type": "markdown",
      "metadata": {
        "id": "yJoZb6-z3Vnj"
      },
      "source": [
        "Train accuracy - 99.33%\n",
        "Test accuracy - 99.37%\n",
        "\n"
      ]
    },
    {
      "cell_type": "markdown",
      "metadata": {
        "id": "fMv8pHt6j8o3"
      },
      "source": [
        "Changing architecture slightly to add more 1x1 conv"
      ]
    },
    {
      "cell_type": "code",
      "execution_count": null,
      "metadata": {
        "id": "o2uiAJ6mj9ut"
      },
      "outputs": [],
      "source": [
        "class Small_MNIST8(nn.Module):\n",
        "    \"\"\"\n",
        "    Small CNN Architecture v1\n",
        "    - Basic efficient design with BN and Dropout\n",
        "    - Uses Global Average Pooling\n",
        "    - Target: <20k parameters, >99.4% accuracy\n",
        "    \"\"\"\n",
        "\n",
        "    def __init__(self, dropout_rate=0.1):\n",
        "        super(Small_MNIST8, self).__init__()\n",
        "\n",
        "        # Feature extraction layers\n",
        "        self.conv1 = nn.Conv2d(1, 8, 3, padding=1)\n",
        "        self.bn1 = nn.BatchNorm2d(8)\n",
        "\n",
        "        self.conv2 = nn.Conv2d(8, 16, 1)\n",
        "        self.bn2 = nn.BatchNorm2d(16)\n",
        "\n",
        "        # Pooling and regularization\n",
        "        self.pool1 = nn.MaxPool2d(2, 2)\n",
        "\n",
        "        self.dropout1 = nn.Dropout2d(dropout_rate)\n",
        "\n",
        "        self.conv1_1 = nn.Conv2d(16, 16, 3, padding=1)\n",
        "        self.bn1_1 = nn.BatchNorm2d(16)\n",
        "\n",
        "        self.conv2_1 = nn.Conv2d(16, 16, 1)\n",
        "        self.bn2_1 = nn.BatchNorm2d(16)\n",
        "\n",
        "        # Pooling and regularization\n",
        "        self.pool1_1 = nn.MaxPool2d(2, 2)\n",
        "\n",
        "        self.dropout1_1 = nn.Dropout2d(dropout_rate)\n",
        "\n",
        "        self.conv3 = nn.Conv2d(16, 32, 3, padding=1)\n",
        "        self.bn3 = nn.BatchNorm2d(32)\n",
        "\n",
        "        self.conv4 = nn.Conv2d(32, 64, 1)\n",
        "        self.bn4 = nn.BatchNorm2d(64)\n",
        "\n",
        "        #self.pool2 = nn.MaxPool2d(2, 2)\n",
        "\n",
        "        self.dropout2 = nn.Dropout2d(dropout_rate * 1.5)\n",
        "\n",
        "        #self.conv5 = nn.Conv2d(64, 64, 3)\n",
        "        # Final classification layer\n",
        "        self.conv6 = nn.Conv2d(64, 10, 3, padding=1)\n",
        "        self.gap = nn.AdaptiveAvgPool2d(1)\n",
        "\n",
        "    def forward(self, x):\n",
        "        # Block 1\n",
        "        x = F.relu(self.bn1(self.conv1(x)))\n",
        "        x = F.relu(self.bn2(self.conv2(x)))\n",
        "        x = self.pool1(x)\n",
        "        x = self.dropout1(x)\n",
        "\n",
        "        # Block 1_1\n",
        "        x = F.relu(self.bn1_1(self.conv1_1(x)))\n",
        "        x = F.relu(self.bn2_1(self.conv2_1(x)))\n",
        "        x = self.pool1_1(x)\n",
        "        x = self.dropout1_1(x)\n",
        "\n",
        "        # Block 2\n",
        "        x = F.relu(self.bn3(self.conv3(x)))\n",
        "        x = F.relu(self.bn4(self.conv4(x)))\n",
        "        #x = self.pool2(x)\n",
        "        x = self.dropout2(x)\n",
        "\n",
        "        # Block 3 & Classification\n",
        "        #x = F.relu(self.conv5(x))\n",
        "        x = self.conv6(x)\n",
        "        x = self.gap(x)\n",
        "        x = x.view(x.size(0), -1)\n",
        "\n",
        "        return F.log_softmax(x, dim=1)"
      ]
    },
    {
      "cell_type": "code",
      "execution_count": null,
      "metadata": {
        "colab": {
          "base_uri": "https://localhost:8080/"
        },
        "id": "DcKq9etWlyau",
        "outputId": "3e73a8b6-c341-4c6d-f9bb-f26aac69ac70"
      },
      "outputs": [
        {
          "name": "stdout",
          "output_type": "stream",
          "text": [
            "----------------------------------------------------------------\n",
            "        Layer (type)               Output Shape         Param #\n",
            "================================================================\n",
            "            Conv2d-1            [-1, 8, 28, 28]              80\n",
            "       BatchNorm2d-2            [-1, 8, 28, 28]              16\n",
            "            Conv2d-3           [-1, 16, 28, 28]             144\n",
            "       BatchNorm2d-4           [-1, 16, 28, 28]              32\n",
            "         MaxPool2d-5           [-1, 16, 14, 14]               0\n",
            "         Dropout2d-6           [-1, 16, 14, 14]               0\n",
            "            Conv2d-7           [-1, 16, 14, 14]           2,320\n",
            "       BatchNorm2d-8           [-1, 16, 14, 14]              32\n",
            "            Conv2d-9           [-1, 16, 14, 14]             272\n",
            "      BatchNorm2d-10           [-1, 16, 14, 14]              32\n",
            "        MaxPool2d-11             [-1, 16, 7, 7]               0\n",
            "        Dropout2d-12             [-1, 16, 7, 7]               0\n",
            "           Conv2d-13             [-1, 32, 7, 7]           4,640\n",
            "      BatchNorm2d-14             [-1, 32, 7, 7]              64\n",
            "           Conv2d-15             [-1, 64, 7, 7]           2,112\n",
            "      BatchNorm2d-16             [-1, 64, 7, 7]             128\n",
            "        Dropout2d-17             [-1, 64, 7, 7]               0\n",
            "           Conv2d-18             [-1, 10, 7, 7]           5,770\n",
            "AdaptiveAvgPool2d-19             [-1, 10, 1, 1]               0\n",
            "================================================================\n",
            "Total params: 15,642\n",
            "Trainable params: 15,642\n",
            "Non-trainable params: 0\n",
            "----------------------------------------------------------------\n",
            "Input size (MB): 0.00\n",
            "Forward/backward pass size (MB): 0.54\n",
            "Params size (MB): 0.06\n",
            "Estimated Total Size (MB): 0.60\n",
            "----------------------------------------------------------------\n",
            "layer                          type   out_ch k         s         p         out(HxW)   RF(HxW)      jump     start       \n",
            "------------------------------------------------------------------------------------------------------------------------\n",
            "conv1                          conv   8      3x3       1x1       1x1       28x28      3x3          1x1      0.50x0.50   \n",
            "conv2                          conv   16     1x1       1x1       0x0       28x28      3x3          1x1      0.50x0.50   \n",
            "pool1                          pool   -      2x2       2x2       0x0       14x14      4x4          2x2      1.00x1.00   \n",
            "conv1_1                        conv   16     3x3       1x1       1x1       14x14      8x8          2x2      1.00x1.00   \n",
            "conv2_1                        conv   16     1x1       1x1       0x0       14x14      8x8          2x2      1.00x1.00   \n",
            "pool1_1                        pool   -      2x2       2x2       0x0       7x7        10x10        4x4      2.00x2.00   \n",
            "conv3                          conv   32     3x3       1x1       1x1       7x7        18x18        4x4      2.00x2.00   \n",
            "conv4                          conv   64     1x1       1x1       0x0       7x7        18x18        4x4      2.00x2.00   \n",
            "conv6                          conv   10     3x3       1x1       1x1       7x7        26x26        4x4      2.00x2.00   \n",
            "------------------------------------------------------------------------------------------------------------------------\n",
            "Final output spatial size: 7 x 7\n",
            "Final receptive field: 26 x 26\n",
            "Final cumulative stride (jump): 4 x 4\n",
            "Center of top-left output unit relative to input pixel (0-index approx): 2.00 , 2.00\n"
          ]
        }
      ],
      "source": [
        "model_summary_and_rf(Small_MNIST8())"
      ]
    },
    {
      "cell_type": "code",
      "execution_count": null,
      "metadata": {
        "colab": {
          "base_uri": "https://localhost:8080/",
          "height": 1000
        },
        "id": "rq6GBVkYlyhS",
        "outputId": "eb15a2d0-2d6e-4390-e2e1-2ba75619f913"
      },
      "outputs": [
        {
          "data": {
            "text/html": [
              "Finishing previous runs because reinit is set to 'default'."
            ],
            "text/plain": [
              "<IPython.core.display.HTML object>"
            ]
          },
          "metadata": {},
          "output_type": "display_data"
        },
        {
          "data": {
            "text/html": [],
            "text/plain": [
              "<IPython.core.display.HTML object>"
            ]
          },
          "metadata": {},
          "output_type": "display_data"
        },
        {
          "data": {
            "text/html": [
              "<br>    <style><br>        .wandb-row {<br>            display: flex;<br>            flex-direction: row;<br>            flex-wrap: wrap;<br>            justify-content: flex-start;<br>            width: 100%;<br>        }<br>        .wandb-col {<br>            display: flex;<br>            flex-direction: column;<br>            flex-basis: 100%;<br>            flex: 1;<br>            padding: 10px;<br>        }<br>    </style><br><div class=\"wandb-row\"><div class=\"wandb-col\"><h3>Run history:</h3><br/><table class=\"wandb\"><tr><td>test_acc</td><td>▁▅▆▆▆▇▇▇▇▇▇▇█▇█████</td></tr><tr><td>test_loss</td><td>█▄▃▃▃▂▂▂▂▂▂▂▁▂▁▁▁▁▁</td></tr><tr><td>train/epoch_acc</td><td>▁▆▇▇▇▇▇████████████</td></tr><tr><td>train/epoch_loss</td><td>█▃▂▂▂▂▂▁▁▁▁▁▁▁▁▁▁▁▁</td></tr></table><br/></div><div class=\"wandb-col\"><h3>Run summary:</h3><br/><table class=\"wandb\"><tr><td>test_acc</td><td>99.33</td></tr><tr><td>test_loss</td><td>0.01942</td></tr><tr><td>train/epoch_acc</td><td>98.78</td></tr><tr><td>train/epoch_loss</td><td>0.03999</td></tr></table><br/></div></div>"
            ],
            "text/plain": [
              "<IPython.core.display.HTML object>"
            ]
          },
          "metadata": {},
          "output_type": "display_data"
        },
        {
          "data": {
            "text/html": [
              " View run <strong style=\"color:#cdcd00\">light-firebrand-17</strong> at: <a href='https://wandb.ai/johnced/cnn_mnist/runs/4ou918zl' target=\"_blank\">https://wandb.ai/johnced/cnn_mnist/runs/4ou918zl</a><br> View project at: <a href='https://wandb.ai/johnced/cnn_mnist' target=\"_blank\">https://wandb.ai/johnced/cnn_mnist</a><br>Synced 5 W&B file(s), 0 media file(s), 0 artifact file(s) and 0 other file(s)"
            ],
            "text/plain": [
              "<IPython.core.display.HTML object>"
            ]
          },
          "metadata": {},
          "output_type": "display_data"
        },
        {
          "data": {
            "text/html": [
              "Find logs at: <code>./wandb/run-20250914_185909-4ou918zl/logs</code>"
            ],
            "text/plain": [
              "<IPython.core.display.HTML object>"
            ]
          },
          "metadata": {},
          "output_type": "display_data"
        },
        {
          "data": {
            "text/html": [
              "creating run (0.0s)"
            ],
            "text/plain": [
              "<IPython.core.display.HTML object>"
            ]
          },
          "metadata": {},
          "output_type": "display_data"
        },
        {
          "data": {
            "text/html": [
              "Tracking run with wandb version 0.21.3"
            ],
            "text/plain": [
              "<IPython.core.display.HTML object>"
            ]
          },
          "metadata": {},
          "output_type": "display_data"
        },
        {
          "data": {
            "text/html": [
              "Run data is saved locally in <code>/content/wandb/run-20250914_191129-xx3b5sg6</code>"
            ],
            "text/plain": [
              "<IPython.core.display.HTML object>"
            ]
          },
          "metadata": {},
          "output_type": "display_data"
        },
        {
          "data": {
            "text/html": [
              "Syncing run <strong><a href='https://wandb.ai/johnced/cnn_mnist/runs/xx3b5sg6' target=\"_blank\">spring-microwave-18</a></strong> to <a href='https://wandb.ai/johnced/cnn_mnist' target=\"_blank\">Weights & Biases</a> (<a href='https://wandb.me/developer-guide' target=\"_blank\">docs</a>)<br>"
            ],
            "text/plain": [
              "<IPython.core.display.HTML object>"
            ]
          },
          "metadata": {},
          "output_type": "display_data"
        },
        {
          "data": {
            "text/html": [
              " View project at <a href='https://wandb.ai/johnced/cnn_mnist' target=\"_blank\">https://wandb.ai/johnced/cnn_mnist</a>"
            ],
            "text/plain": [
              "<IPython.core.display.HTML object>"
            ]
          },
          "metadata": {},
          "output_type": "display_data"
        },
        {
          "data": {
            "text/html": [
              " View run at <a href='https://wandb.ai/johnced/cnn_mnist/runs/xx3b5sg6' target=\"_blank\">https://wandb.ai/johnced/cnn_mnist/runs/xx3b5sg6</a>"
            ],
            "text/plain": [
              "<IPython.core.display.HTML object>"
            ]
          },
          "metadata": {},
          "output_type": "display_data"
        },
        {
          "name": "stdout",
          "output_type": "stream",
          "text": [
            "Starting Experimental Suite: MNIST_CNN_20250914_191131\n",
            "Target: 99.4% accuracy with <20k parameters in <20 epochs\n",
            "\n",
            "============================================================\n",
            "Running Experiment: Small_MNIST8\n",
            "============================================================\n",
            "Using device: cuda\n",
            "\n",
            "Model Requirements Check:\n",
            "  Total Parameters: 15,642\n",
            "  Under 20k params: ✓\n",
            "  Has Batch Normalization: ✓\n",
            "  Has Dropout: ✓\n",
            "  Has Global Average Pooling: ✓\n",
            "  Has Fully Connected Layer: ✗\n",
            "\n",
            "Starting Training for 19 epochs...\n",
            "\n",
            "Epoch 1/19\n"
          ]
        },
        {
          "name": "stderr",
          "output_type": "stream",
          "text": [
            "Training: 100%|██████████| 938/938 [00:23<00:00, 40.76it/s, Loss=0.9762, Acc=68.58%]\n"
          ]
        },
        {
          "name": "stdout",
          "output_type": "stream",
          "text": [
            "Train Loss: 0.9762, Train Acc: 68.58%\n",
            "Val Loss: 0.1988, Val Acc: 94.41%\n",
            "Best Val Acc: 94.41% (Epoch 1)\n",
            "\n",
            "Epoch 2/19\n"
          ]
        },
        {
          "name": "stderr",
          "output_type": "stream",
          "text": [
            "Training: 100%|██████████| 938/938 [00:21<00:00, 44.37it/s, Loss=0.2699, Acc=91.83%]\n"
          ]
        },
        {
          "name": "stdout",
          "output_type": "stream",
          "text": [
            "Train Loss: 0.2699, Train Acc: 91.83%\n",
            "Val Loss: 0.0917, Val Acc: 97.12%\n",
            "Best Val Acc: 97.12% (Epoch 2)\n",
            "\n",
            "Epoch 3/19\n"
          ]
        },
        {
          "name": "stderr",
          "output_type": "stream",
          "text": [
            "Training: 100%|██████████| 938/938 [00:21<00:00, 44.54it/s, Loss=0.1787, Acc=94.64%]\n"
          ]
        },
        {
          "name": "stdout",
          "output_type": "stream",
          "text": [
            "Train Loss: 0.1787, Train Acc: 94.64%\n",
            "Val Loss: 0.0696, Val Acc: 97.77%\n",
            "Best Val Acc: 97.77% (Epoch 3)\n",
            "\n",
            "Epoch 4/19\n"
          ]
        },
        {
          "name": "stderr",
          "output_type": "stream",
          "text": [
            "Training: 100%|██████████| 938/938 [00:20<00:00, 44.94it/s, Loss=0.1397, Acc=95.80%]\n"
          ]
        },
        {
          "name": "stdout",
          "output_type": "stream",
          "text": [
            "Train Loss: 0.1397, Train Acc: 95.80%\n",
            "Val Loss: 0.0777, Val Acc: 97.63%\n",
            "Best Val Acc: 97.77% (Epoch 3)\n",
            "\n",
            "Epoch 5/19\n"
          ]
        },
        {
          "name": "stderr",
          "output_type": "stream",
          "text": [
            "Training: 100%|██████████| 938/938 [00:21<00:00, 44.30it/s, Loss=0.1276, Acc=96.16%]\n"
          ]
        },
        {
          "name": "stdout",
          "output_type": "stream",
          "text": [
            "Train Loss: 0.1276, Train Acc: 96.16%\n",
            "Val Loss: 0.0605, Val Acc: 98.03%\n",
            "Best Val Acc: 98.03% (Epoch 5)\n",
            "\n",
            "Epoch 6/19\n"
          ]
        },
        {
          "name": "stderr",
          "output_type": "stream",
          "text": [
            "Training: 100%|██████████| 938/938 [00:20<00:00, 46.11it/s, Loss=0.1192, Acc=96.33%]\n"
          ]
        },
        {
          "name": "stdout",
          "output_type": "stream",
          "text": [
            "Train Loss: 0.1192, Train Acc: 96.33%\n",
            "Val Loss: 0.0476, Val Acc: 98.51%\n",
            "Best Val Acc: 98.51% (Epoch 6)\n",
            "\n",
            "Epoch 7/19\n"
          ]
        },
        {
          "name": "stderr",
          "output_type": "stream",
          "text": [
            "Training: 100%|██████████| 938/938 [00:20<00:00, 44.73it/s, Loss=0.1109, Acc=96.65%]\n"
          ]
        },
        {
          "name": "stdout",
          "output_type": "stream",
          "text": [
            "Train Loss: 0.1109, Train Acc: 96.65%\n",
            "Val Loss: 0.0465, Val Acc: 98.57%\n",
            "Best Val Acc: 98.57% (Epoch 7)\n",
            "\n",
            "Epoch 8/19\n"
          ]
        },
        {
          "name": "stderr",
          "output_type": "stream",
          "text": [
            "Training: 100%|██████████| 938/938 [00:21<00:00, 43.96it/s, Loss=0.1072, Acc=96.84%]\n"
          ]
        },
        {
          "name": "stdout",
          "output_type": "stream",
          "text": [
            "Train Loss: 0.1072, Train Acc: 96.84%\n",
            "Val Loss: 0.0496, Val Acc: 98.38%\n",
            "Best Val Acc: 98.57% (Epoch 7)\n",
            "\n",
            "Epoch 9/19\n"
          ]
        },
        {
          "name": "stderr",
          "output_type": "stream",
          "text": [
            "Training: 100%|██████████| 938/938 [00:21<00:00, 44.51it/s, Loss=0.0992, Acc=97.00%]\n"
          ]
        },
        {
          "name": "stdout",
          "output_type": "stream",
          "text": [
            "Train Loss: 0.0992, Train Acc: 97.00%\n",
            "Val Loss: 0.0483, Val Acc: 98.49%\n",
            "Best Val Acc: 98.57% (Epoch 7)\n",
            "\n",
            "Epoch 10/19\n"
          ]
        },
        {
          "name": "stderr",
          "output_type": "stream",
          "text": [
            "Training: 100%|██████████| 938/938 [00:20<00:00, 46.78it/s, Loss=0.0933, Acc=97.14%]\n"
          ]
        },
        {
          "name": "stdout",
          "output_type": "stream",
          "text": [
            "Train Loss: 0.0933, Train Acc: 97.14%\n",
            "Val Loss: 0.0397, Val Acc: 98.78%\n",
            "Best Val Acc: 98.78% (Epoch 10)\n",
            "\n",
            "Epoch 11/19\n"
          ]
        },
        {
          "name": "stderr",
          "output_type": "stream",
          "text": [
            "Training: 100%|██████████| 938/938 [00:20<00:00, 45.57it/s, Loss=0.0877, Acc=97.35%]\n"
          ]
        },
        {
          "name": "stdout",
          "output_type": "stream",
          "text": [
            "Train Loss: 0.0877, Train Acc: 97.35%\n",
            "Val Loss: 0.0398, Val Acc: 98.75%\n",
            "Best Val Acc: 98.78% (Epoch 10)\n",
            "\n",
            "Epoch 12/19\n"
          ]
        },
        {
          "name": "stderr",
          "output_type": "stream",
          "text": [
            "Training: 100%|██████████| 938/938 [00:21<00:00, 42.82it/s, Loss=0.0819, Acc=97.50%]\n"
          ]
        },
        {
          "name": "stdout",
          "output_type": "stream",
          "text": [
            "Train Loss: 0.0819, Train Acc: 97.50%\n",
            "Val Loss: 0.0407, Val Acc: 98.70%\n",
            "Best Val Acc: 98.78% (Epoch 10)\n",
            "\n",
            "Epoch 13/19\n"
          ]
        },
        {
          "name": "stderr",
          "output_type": "stream",
          "text": [
            "Training: 100%|██████████| 938/938 [00:22<00:00, 42.55it/s, Loss=0.0745, Acc=97.76%]\n"
          ]
        },
        {
          "name": "stdout",
          "output_type": "stream",
          "text": [
            "Train Loss: 0.0745, Train Acc: 97.76%\n",
            "Val Loss: 0.0316, Val Acc: 99.00%\n",
            "Best Val Acc: 99.00% (Epoch 13)\n",
            "\n",
            "Epoch 14/19\n"
          ]
        },
        {
          "name": "stderr",
          "output_type": "stream",
          "text": [
            "Training: 100%|██████████| 938/938 [00:22<00:00, 41.75it/s, Loss=0.0672, Acc=97.97%]\n"
          ]
        },
        {
          "name": "stdout",
          "output_type": "stream",
          "text": [
            "Train Loss: 0.0672, Train Acc: 97.97%\n",
            "Val Loss: 0.0373, Val Acc: 98.77%\n",
            "Best Val Acc: 99.00% (Epoch 13)\n",
            "\n",
            "Epoch 15/19\n"
          ]
        },
        {
          "name": "stderr",
          "output_type": "stream",
          "text": [
            "Training: 100%|██████████| 938/938 [00:21<00:00, 43.52it/s, Loss=0.0596, Acc=98.19%]\n"
          ]
        },
        {
          "name": "stdout",
          "output_type": "stream",
          "text": [
            "Train Loss: 0.0596, Train Acc: 98.19%\n",
            "Val Loss: 0.0258, Val Acc: 99.17%\n",
            "Best Val Acc: 99.17% (Epoch 15)\n",
            "\n",
            "Epoch 16/19\n"
          ]
        },
        {
          "name": "stderr",
          "output_type": "stream",
          "text": [
            "Training: 100%|██████████| 938/938 [00:20<00:00, 45.15it/s, Loss=0.0487, Acc=98.60%]\n"
          ]
        },
        {
          "name": "stdout",
          "output_type": "stream",
          "text": [
            "Train Loss: 0.0487, Train Acc: 98.60%\n",
            "Val Loss: 0.0249, Val Acc: 99.19%\n",
            "Best Val Acc: 99.19% (Epoch 16)\n",
            "\n",
            "Epoch 17/19\n"
          ]
        },
        {
          "name": "stderr",
          "output_type": "stream",
          "text": [
            "Training: 100%|██████████| 938/938 [00:20<00:00, 45.40it/s, Loss=0.0456, Acc=98.62%]\n"
          ]
        },
        {
          "name": "stdout",
          "output_type": "stream",
          "text": [
            "Train Loss: 0.0456, Train Acc: 98.62%\n",
            "Val Loss: 0.0233, Val Acc: 99.24%\n",
            "Best Val Acc: 99.24% (Epoch 17)\n",
            "\n",
            "Epoch 18/19\n"
          ]
        },
        {
          "name": "stderr",
          "output_type": "stream",
          "text": [
            "Training: 100%|██████████| 938/938 [00:21<00:00, 43.59it/s, Loss=0.0413, Acc=98.78%]\n"
          ]
        },
        {
          "name": "stdout",
          "output_type": "stream",
          "text": [
            "Train Loss: 0.0413, Train Acc: 98.78%\n",
            "Val Loss: 0.0227, Val Acc: 99.26%\n",
            "Best Val Acc: 99.26% (Epoch 18)\n",
            "\n",
            "Epoch 19/19\n"
          ]
        },
        {
          "name": "stderr",
          "output_type": "stream",
          "text": [
            "Training: 100%|██████████| 938/938 [00:22<00:00, 41.91it/s, Loss=0.0403, Acc=98.78%]\n"
          ]
        },
        {
          "name": "stdout",
          "output_type": "stream",
          "text": [
            "Train Loss: 0.0403, Train Acc: 98.78%\n",
            "Val Loss: 0.0222, Val Acc: 99.28%\n",
            "Best Val Acc: 99.28% (Epoch 19)\n",
            "\n",
            "========================================\n",
            "EXPERIMENT COMPLETED: Small_MNIST8\n",
            "========================================\n",
            "Best Validation Accuracy: 99.28%\n",
            "Target Achievement (99.4%): ✗\n",
            "Parameter Efficiency (<20k): ✓\n"
          ]
        }
      ],
      "source": [
        "exp_config = {\n",
        "      'model_class': Small_MNIST8,\n",
        "      'model_name': 'Small_MNIST8',\n",
        "      'epochs': 19,\n",
        "      'learning_rate': 0.001,\n",
        "      'scheduler_type': 'onecycle',\n",
        "      'use_augmentation': True,\n",
        "      'dropout_rate': 0.15\n",
        "  }\n",
        "\n",
        "wandb.init(project=\"cnn_mnist\", config=exp_config)\n",
        "cfg = wandb.config\n",
        "\n",
        "# ------------------------------\n",
        "# Data loaders (MNIST)\n",
        "# ------------------------------\n",
        "torch.manual_seed(42)\n",
        "\n",
        "create_and_run(exp_config)"
      ]
    },
    {
      "cell_type": "markdown",
      "metadata": {
        "id": "LxqCen6nmHLp"
      },
      "source": [
        "Trying groups (depth-wise and point-wise) architecture"
      ]
    },
    {
      "cell_type": "code",
      "execution_count": null,
      "metadata": {
        "id": "xxGd964DmIIc"
      },
      "outputs": [],
      "source": [
        "class Small_MNIST10(nn.Module):\n",
        "    \"\"\"\n",
        "    Small CNN Architecture v1\n",
        "    - Basic efficient design with BN and Dropout\n",
        "    - Uses Global Average Pooling\n",
        "    - Target: <20k parameters, >99.4% accuracy\n",
        "    \"\"\"\n",
        "\n",
        "    def __init__(self, dropout_rate=0.1):\n",
        "        super(Small_MNIST10, self).__init__()\n",
        "\n",
        "        # Feature extraction layers\n",
        "        self.conv1 = nn.Conv2d(1, 8, 3, padding=1)\n",
        "        self.bn1 = nn.BatchNorm2d(8)\n",
        "\n",
        "        self.conv2 = nn.Conv2d(8, 16, 1, padding=1)\n",
        "        self.bn2 = nn.BatchNorm2d(16)\n",
        "\n",
        "        # Pooling and regularization\n",
        "        self.pool1 = nn.MaxPool2d(2, 2)\n",
        "\n",
        "        self.dropout1 = nn.Dropout2d(dropout_rate)\n",
        "\n",
        "        self.conv3 = nn.Conv2d(16, 32, 3, padding=1)\n",
        "        self.bn3 = nn.BatchNorm2d(32)\n",
        "\n",
        "        self.conv4 = nn.Conv2d(32, 64, 1, padding=1)\n",
        "        self.bn4 = nn.BatchNorm2d(64)\n",
        "\n",
        "        self.pool2 = nn.MaxPool2d(2, 2)\n",
        "\n",
        "        self.dropout2 = nn.Dropout2d(dropout_rate * 1.5)\n",
        "\n",
        "        self.conv5_dw = nn.Conv2d(64, 64, 3, padding=1, groups=64, bias=False)\n",
        "        self.conv5_pw = nn.Conv2d(64, 64, 1, bias=False)\n",
        "        self.bn5 = nn.BatchNorm2d(64)\n",
        "        # Final classification layer\n",
        "        self.conv6 = nn.Conv2d(64, 10, 3, padding=1)\n",
        "        self.gap = nn.AdaptiveAvgPool2d(1)\n",
        "\n",
        "    def forward(self, x):\n",
        "        # Block 1\n",
        "        x = F.relu(self.bn1(self.conv1(x)))\n",
        "        x = F.relu(self.bn2(self.conv2(x)))\n",
        "        x = self.pool1(x)\n",
        "        x = self.dropout1(x)\n",
        "\n",
        "        # Block 2\n",
        "        x = F.relu(self.bn3(self.conv3(x)))\n",
        "        x = F.relu(self.bn4(self.conv4(x)))\n",
        "        x = self.pool2(x)\n",
        "        x = self.dropout2(x)\n",
        "\n",
        "        # Block 3 & Classification\n",
        "        x = self.conv5_dw(x)\n",
        "        x = self.conv5_pw(x)\n",
        "        x = F.relu(self.bn5(x))\n",
        "        x = self.conv6(x)\n",
        "        x = self.gap(x)\n",
        "        x = x.view(x.size(0), -1)\n",
        "\n",
        "        return F.log_softmax(x, dim=1)"
      ]
    },
    {
      "cell_type": "code",
      "execution_count": null,
      "metadata": {
        "colab": {
          "base_uri": "https://localhost:8080/"
        },
        "id": "3i3EAjnnmPSf",
        "outputId": "944a0aa0-a636-4c2c-b95a-be04da0bf4d6"
      },
      "outputs": [
        {
          "name": "stdout",
          "output_type": "stream",
          "text": [
            "----------------------------------------------------------------\n",
            "        Layer (type)               Output Shape         Param #\n",
            "================================================================\n",
            "            Conv2d-1            [-1, 8, 28, 28]              80\n",
            "       BatchNorm2d-2            [-1, 8, 28, 28]              16\n",
            "            Conv2d-3           [-1, 16, 30, 30]             144\n",
            "       BatchNorm2d-4           [-1, 16, 30, 30]              32\n",
            "         MaxPool2d-5           [-1, 16, 15, 15]               0\n",
            "         Dropout2d-6           [-1, 16, 15, 15]               0\n",
            "            Conv2d-7           [-1, 32, 15, 15]           4,640\n",
            "       BatchNorm2d-8           [-1, 32, 15, 15]              64\n",
            "            Conv2d-9           [-1, 64, 17, 17]           2,112\n",
            "      BatchNorm2d-10           [-1, 64, 17, 17]             128\n",
            "        MaxPool2d-11             [-1, 64, 8, 8]               0\n",
            "        Dropout2d-12             [-1, 64, 8, 8]               0\n",
            "           Conv2d-13             [-1, 64, 8, 8]             576\n",
            "           Conv2d-14             [-1, 64, 8, 8]           4,096\n",
            "      BatchNorm2d-15             [-1, 64, 8, 8]             128\n",
            "           Conv2d-16             [-1, 10, 8, 8]           5,770\n",
            "AdaptiveAvgPool2d-17             [-1, 10, 1, 1]               0\n",
            "================================================================\n",
            "Total params: 17,786\n",
            "Trainable params: 17,786\n",
            "Non-trainable params: 0\n",
            "----------------------------------------------------------------\n",
            "Input size (MB): 0.00\n",
            "Forward/backward pass size (MB): 0.92\n",
            "Params size (MB): 0.07\n",
            "Estimated Total Size (MB): 0.99\n",
            "----------------------------------------------------------------\n",
            "layer                          type   out_ch k         s         p         out(HxW)   RF(HxW)      jump     start       \n",
            "------------------------------------------------------------------------------------------------------------------------\n",
            "conv1                          conv   8      3x3       1x1       1x1       28x28      3x3          1x1      0.50x0.50   \n",
            "conv2                          conv   16     1x1       1x1       1x1       30x30      3x3          1x1      -0.50x-0.50 \n",
            "pool1                          pool   -      2x2       2x2       0x0       15x15      4x4          2x2      0.00x0.00   \n",
            "conv3                          conv   32     3x3       1x1       1x1       15x15      8x8          2x2      0.00x0.00   \n",
            "conv4                          conv   64     1x1       1x1       1x1       17x17      8x8          2x2      -2.00x-2.00 \n",
            "pool2                          pool   -      2x2       2x2       0x0       8x8        10x10        4x4      -1.00x-1.00 \n",
            "conv5_dw                       conv   64     3x3       1x1       1x1       8x8        18x18        4x4      -1.00x-1.00 \n",
            "conv5_pw                       conv   64     1x1       1x1       0x0       8x8        18x18        4x4      -1.00x-1.00 \n",
            "conv6                          conv   10     3x3       1x1       1x1       8x8        26x26        4x4      -1.00x-1.00 \n",
            "------------------------------------------------------------------------------------------------------------------------\n",
            "Final output spatial size: 8 x 8\n",
            "Final receptive field: 26 x 26\n",
            "Final cumulative stride (jump): 4 x 4\n",
            "Center of top-left output unit relative to input pixel (0-index approx): -1.00 , -1.00\n"
          ]
        }
      ],
      "source": [
        "model_summary_and_rf(Small_MNIST10())"
      ]
    },
    {
      "cell_type": "code",
      "execution_count": null,
      "metadata": {
        "colab": {
          "base_uri": "https://localhost:8080/",
          "height": 1000
        },
        "id": "0yDd1fRxmPWq",
        "outputId": "ef784201-daea-4b2a-eeb0-ee936a9bf05d"
      },
      "outputs": [
        {
          "data": {
            "text/html": [
              "Finishing previous runs because reinit is set to 'default'."
            ],
            "text/plain": [
              "<IPython.core.display.HTML object>"
            ]
          },
          "metadata": {},
          "output_type": "display_data"
        },
        {
          "data": {
            "text/html": [],
            "text/plain": [
              "<IPython.core.display.HTML object>"
            ]
          },
          "metadata": {},
          "output_type": "display_data"
        },
        {
          "data": {
            "text/html": [
              "<br>    <style><br>        .wandb-row {<br>            display: flex;<br>            flex-direction: row;<br>            flex-wrap: wrap;<br>            justify-content: flex-start;<br>            width: 100%;<br>        }<br>        .wandb-col {<br>            display: flex;<br>            flex-direction: column;<br>            flex-basis: 100%;<br>            flex: 1;<br>            padding: 10px;<br>        }<br>    </style><br><div class=\"wandb-row\"><div class=\"wandb-col\"><h3>Run history:</h3><br/><table class=\"wandb\"><tr><td>test_acc</td><td>▁▅▆▆▆▇▇▇▇▇▇▇█▇█████</td></tr><tr><td>test_loss</td><td>█▄▃▃▃▂▂▂▂▂▂▂▁▂▁▁▁▁▁</td></tr><tr><td>train/epoch_acc</td><td>▁▆▇▇▇▇█████████████</td></tr><tr><td>train/epoch_loss</td><td>█▃▂▂▂▂▂▂▁▁▁▁▁▁▁▁▁▁▁</td></tr></table><br/></div><div class=\"wandb-col\"><h3>Run summary:</h3><br/><table class=\"wandb\"><tr><td>test_acc</td><td>99.28</td></tr><tr><td>test_loss</td><td>0.02219</td></tr><tr><td>train/epoch_acc</td><td>98.77667</td></tr><tr><td>train/epoch_loss</td><td>0.04025</td></tr></table><br/></div></div>"
            ],
            "text/plain": [
              "<IPython.core.display.HTML object>"
            ]
          },
          "metadata": {},
          "output_type": "display_data"
        },
        {
          "data": {
            "text/html": [
              " View run <strong style=\"color:#cdcd00\">spring-microwave-18</strong> at: <a href='https://wandb.ai/johnced/cnn_mnist/runs/xx3b5sg6' target=\"_blank\">https://wandb.ai/johnced/cnn_mnist/runs/xx3b5sg6</a><br> View project at: <a href='https://wandb.ai/johnced/cnn_mnist' target=\"_blank\">https://wandb.ai/johnced/cnn_mnist</a><br>Synced 5 W&B file(s), 0 media file(s), 0 artifact file(s) and 0 other file(s)"
            ],
            "text/plain": [
              "<IPython.core.display.HTML object>"
            ]
          },
          "metadata": {},
          "output_type": "display_data"
        },
        {
          "data": {
            "text/html": [
              "Find logs at: <code>./wandb/run-20250914_191129-xx3b5sg6/logs</code>"
            ],
            "text/plain": [
              "<IPython.core.display.HTML object>"
            ]
          },
          "metadata": {},
          "output_type": "display_data"
        },
        {
          "data": {
            "text/html": [
              "creating run (0.0s)"
            ],
            "text/plain": [
              "<IPython.core.display.HTML object>"
            ]
          },
          "metadata": {},
          "output_type": "display_data"
        },
        {
          "data": {
            "text/html": [
              "Tracking run with wandb version 0.21.3"
            ],
            "text/plain": [
              "<IPython.core.display.HTML object>"
            ]
          },
          "metadata": {},
          "output_type": "display_data"
        },
        {
          "data": {
            "text/html": [
              "Run data is saved locally in <code>/content/wandb/run-20250914_192054-2m30gpmr</code>"
            ],
            "text/plain": [
              "<IPython.core.display.HTML object>"
            ]
          },
          "metadata": {},
          "output_type": "display_data"
        },
        {
          "data": {
            "text/html": [
              "Syncing run <strong><a href='https://wandb.ai/johnced/cnn_mnist/runs/2m30gpmr' target=\"_blank\">swift-firebrand-19</a></strong> to <a href='https://wandb.ai/johnced/cnn_mnist' target=\"_blank\">Weights & Biases</a> (<a href='https://wandb.me/developer-guide' target=\"_blank\">docs</a>)<br>"
            ],
            "text/plain": [
              "<IPython.core.display.HTML object>"
            ]
          },
          "metadata": {},
          "output_type": "display_data"
        },
        {
          "data": {
            "text/html": [
              " View project at <a href='https://wandb.ai/johnced/cnn_mnist' target=\"_blank\">https://wandb.ai/johnced/cnn_mnist</a>"
            ],
            "text/plain": [
              "<IPython.core.display.HTML object>"
            ]
          },
          "metadata": {},
          "output_type": "display_data"
        },
        {
          "data": {
            "text/html": [
              " View run at <a href='https://wandb.ai/johnced/cnn_mnist/runs/2m30gpmr' target=\"_blank\">https://wandb.ai/johnced/cnn_mnist/runs/2m30gpmr</a>"
            ],
            "text/plain": [
              "<IPython.core.display.HTML object>"
            ]
          },
          "metadata": {},
          "output_type": "display_data"
        },
        {
          "name": "stdout",
          "output_type": "stream",
          "text": [
            "Starting Experimental Suite: MNIST_CNN_20250914_192056\n",
            "Target: 99.4% accuracy with <20k parameters in <20 epochs\n",
            "\n",
            "============================================================\n",
            "Running Experiment: Small_MNIST10\n",
            "============================================================\n",
            "Using device: cuda\n",
            "\n",
            "Model Requirements Check:\n",
            "  Total Parameters: 17,786\n",
            "  Under 20k params: ✓\n",
            "  Has Batch Normalization: ✓\n",
            "  Has Dropout: ✓\n",
            "  Has Global Average Pooling: ✓\n",
            "  Has Fully Connected Layer: ✗\n",
            "\n",
            "Starting Training for 19 epochs...\n",
            "\n",
            "Epoch 1/19\n"
          ]
        },
        {
          "name": "stderr",
          "output_type": "stream",
          "text": [
            "Training: 100%|██████████| 938/938 [00:20<00:00, 45.75it/s, Loss=1.0983, Acc=64.33%]\n"
          ]
        },
        {
          "name": "stdout",
          "output_type": "stream",
          "text": [
            "Train Loss: 1.0983, Train Acc: 64.33%\n",
            "Val Loss: 0.2132, Val Acc: 94.91%\n",
            "Best Val Acc: 94.91% (Epoch 1)\n",
            "\n",
            "Epoch 2/19\n"
          ]
        },
        {
          "name": "stderr",
          "output_type": "stream",
          "text": [
            "Training: 100%|██████████| 938/938 [00:21<00:00, 44.57it/s, Loss=0.2280, Acc=93.59%]\n"
          ]
        },
        {
          "name": "stdout",
          "output_type": "stream",
          "text": [
            "Train Loss: 0.2280, Train Acc: 93.59%\n",
            "Val Loss: 0.1135, Val Acc: 96.61%\n",
            "Best Val Acc: 96.61% (Epoch 2)\n",
            "\n",
            "Epoch 3/19\n"
          ]
        },
        {
          "name": "stderr",
          "output_type": "stream",
          "text": [
            "Training: 100%|██████████| 938/938 [00:21<00:00, 42.93it/s, Loss=0.1480, Acc=95.54%]\n"
          ]
        },
        {
          "name": "stdout",
          "output_type": "stream",
          "text": [
            "Train Loss: 0.1480, Train Acc: 95.54%\n",
            "Val Loss: 0.1061, Val Acc: 96.62%\n",
            "Best Val Acc: 96.62% (Epoch 3)\n",
            "\n",
            "Epoch 4/19\n"
          ]
        },
        {
          "name": "stderr",
          "output_type": "stream",
          "text": [
            "Training: 100%|██████████| 938/938 [00:20<00:00, 45.61it/s, Loss=0.1250, Acc=96.20%]\n"
          ]
        },
        {
          "name": "stdout",
          "output_type": "stream",
          "text": [
            "Train Loss: 0.1250, Train Acc: 96.20%\n",
            "Val Loss: 0.0692, Val Acc: 97.89%\n",
            "Best Val Acc: 97.89% (Epoch 4)\n",
            "\n",
            "Epoch 5/19\n"
          ]
        },
        {
          "name": "stderr",
          "output_type": "stream",
          "text": [
            "Training: 100%|██████████| 938/938 [00:19<00:00, 47.04it/s, Loss=0.1092, Acc=96.68%]\n"
          ]
        },
        {
          "name": "stdout",
          "output_type": "stream",
          "text": [
            "Train Loss: 0.1092, Train Acc: 96.68%\n",
            "Val Loss: 0.0672, Val Acc: 97.97%\n",
            "Best Val Acc: 97.97% (Epoch 5)\n",
            "\n",
            "Epoch 6/19\n"
          ]
        },
        {
          "name": "stderr",
          "output_type": "stream",
          "text": [
            "Training: 100%|██████████| 938/938 [00:20<00:00, 46.29it/s, Loss=0.1011, Acc=96.89%]\n"
          ]
        },
        {
          "name": "stdout",
          "output_type": "stream",
          "text": [
            "Train Loss: 0.1011, Train Acc: 96.89%\n",
            "Val Loss: 0.0411, Val Acc: 98.78%\n",
            "Best Val Acc: 98.78% (Epoch 6)\n",
            "\n",
            "Epoch 7/19\n"
          ]
        },
        {
          "name": "stderr",
          "output_type": "stream",
          "text": [
            "Training: 100%|██████████| 938/938 [00:20<00:00, 45.60it/s, Loss=0.0894, Acc=97.27%]\n"
          ]
        },
        {
          "name": "stdout",
          "output_type": "stream",
          "text": [
            "Train Loss: 0.0894, Train Acc: 97.27%\n",
            "Val Loss: 0.0477, Val Acc: 98.56%\n",
            "Best Val Acc: 98.78% (Epoch 6)\n",
            "\n",
            "Epoch 8/19\n"
          ]
        },
        {
          "name": "stderr",
          "output_type": "stream",
          "text": [
            "Training: 100%|██████████| 938/938 [00:20<00:00, 44.91it/s, Loss=0.0867, Acc=97.31%]\n"
          ]
        },
        {
          "name": "stdout",
          "output_type": "stream",
          "text": [
            "Train Loss: 0.0867, Train Acc: 97.31%\n",
            "Val Loss: 0.0462, Val Acc: 98.54%\n",
            "Best Val Acc: 98.78% (Epoch 6)\n",
            "\n",
            "Epoch 9/19\n"
          ]
        },
        {
          "name": "stderr",
          "output_type": "stream",
          "text": [
            "Training: 100%|██████████| 938/938 [00:19<00:00, 46.99it/s, Loss=0.0819, Acc=97.54%]\n"
          ]
        },
        {
          "name": "stdout",
          "output_type": "stream",
          "text": [
            "Train Loss: 0.0819, Train Acc: 97.54%\n",
            "Val Loss: 0.0412, Val Acc: 98.67%\n",
            "Best Val Acc: 98.78% (Epoch 6)\n",
            "\n",
            "Epoch 10/19\n"
          ]
        },
        {
          "name": "stderr",
          "output_type": "stream",
          "text": [
            "Training: 100%|██████████| 938/938 [00:21<00:00, 44.28it/s, Loss=0.0769, Acc=97.74%]\n"
          ]
        },
        {
          "name": "stdout",
          "output_type": "stream",
          "text": [
            "Train Loss: 0.0769, Train Acc: 97.74%\n",
            "Val Loss: 0.0419, Val Acc: 98.56%\n",
            "Best Val Acc: 98.78% (Epoch 6)\n",
            "\n",
            "Epoch 11/19\n"
          ]
        },
        {
          "name": "stderr",
          "output_type": "stream",
          "text": [
            "Training: 100%|██████████| 938/938 [00:21<00:00, 44.66it/s, Loss=0.0702, Acc=97.83%]\n"
          ]
        },
        {
          "name": "stdout",
          "output_type": "stream",
          "text": [
            "Train Loss: 0.0702, Train Acc: 97.83%\n",
            "Val Loss: 0.0379, Val Acc: 98.74%\n",
            "Best Val Acc: 98.78% (Epoch 6)\n",
            "\n",
            "Epoch 12/19\n"
          ]
        },
        {
          "name": "stderr",
          "output_type": "stream",
          "text": [
            "Training: 100%|██████████| 938/938 [00:20<00:00, 44.99it/s, Loss=0.0672, Acc=97.95%]\n"
          ]
        },
        {
          "name": "stdout",
          "output_type": "stream",
          "text": [
            "Train Loss: 0.0672, Train Acc: 97.95%\n",
            "Val Loss: 0.0384, Val Acc: 98.66%\n",
            "Best Val Acc: 98.78% (Epoch 6)\n",
            "\n",
            "Epoch 13/19\n"
          ]
        },
        {
          "name": "stderr",
          "output_type": "stream",
          "text": [
            "Training: 100%|██████████| 938/938 [00:20<00:00, 46.32it/s, Loss=0.0602, Acc=98.18%]\n"
          ]
        },
        {
          "name": "stdout",
          "output_type": "stream",
          "text": [
            "Train Loss: 0.0602, Train Acc: 98.18%\n",
            "Val Loss: 0.0298, Val Acc: 98.89%\n",
            "Best Val Acc: 98.89% (Epoch 13)\n",
            "\n",
            "Epoch 14/19\n"
          ]
        },
        {
          "name": "stderr",
          "output_type": "stream",
          "text": [
            "Training: 100%|██████████| 938/938 [00:20<00:00, 46.84it/s, Loss=0.0529, Acc=98.44%]\n"
          ]
        },
        {
          "name": "stdout",
          "output_type": "stream",
          "text": [
            "Train Loss: 0.0529, Train Acc: 98.44%\n",
            "Val Loss: 0.0254, Val Acc: 99.14%\n",
            "Best Val Acc: 99.14% (Epoch 14)\n",
            "\n",
            "Epoch 15/19\n"
          ]
        },
        {
          "name": "stderr",
          "output_type": "stream",
          "text": [
            "Training: 100%|██████████| 938/938 [00:20<00:00, 44.81it/s, Loss=0.0451, Acc=98.62%]\n"
          ]
        },
        {
          "name": "stdout",
          "output_type": "stream",
          "text": [
            "Train Loss: 0.0451, Train Acc: 98.62%\n",
            "Val Loss: 0.0234, Val Acc: 99.20%\n",
            "Best Val Acc: 99.20% (Epoch 15)\n",
            "\n",
            "Epoch 16/19\n"
          ]
        },
        {
          "name": "stderr",
          "output_type": "stream",
          "text": [
            "Training: 100%|██████████| 938/938 [00:20<00:00, 45.54it/s, Loss=0.0398, Acc=98.75%]\n"
          ]
        },
        {
          "name": "stdout",
          "output_type": "stream",
          "text": [
            "Train Loss: 0.0398, Train Acc: 98.75%\n",
            "Val Loss: 0.0210, Val Acc: 99.30%\n",
            "Best Val Acc: 99.30% (Epoch 16)\n",
            "\n",
            "Epoch 17/19\n"
          ]
        },
        {
          "name": "stderr",
          "output_type": "stream",
          "text": [
            "Training: 100%|██████████| 938/938 [00:20<00:00, 46.88it/s, Loss=0.0330, Acc=99.06%]\n"
          ]
        },
        {
          "name": "stdout",
          "output_type": "stream",
          "text": [
            "Train Loss: 0.0330, Train Acc: 99.06%\n",
            "Val Loss: 0.0191, Val Acc: 99.33%\n",
            "Best Val Acc: 99.33% (Epoch 17)\n",
            "\n",
            "Epoch 18/19\n"
          ]
        },
        {
          "name": "stderr",
          "output_type": "stream",
          "text": [
            "Training: 100%|██████████| 938/938 [00:20<00:00, 46.72it/s, Loss=0.0295, Acc=99.14%]\n"
          ]
        },
        {
          "name": "stdout",
          "output_type": "stream",
          "text": [
            "Train Loss: 0.0295, Train Acc: 99.14%\n",
            "Val Loss: 0.0182, Val Acc: 99.33%\n",
            "Best Val Acc: 99.33% (Epoch 17)\n",
            "\n",
            "Epoch 19/19\n"
          ]
        },
        {
          "name": "stderr",
          "output_type": "stream",
          "text": [
            "Training: 100%|██████████| 938/938 [00:19<00:00, 47.15it/s, Loss=0.0277, Acc=99.20%]\n"
          ]
        },
        {
          "name": "stdout",
          "output_type": "stream",
          "text": [
            "Train Loss: 0.0277, Train Acc: 99.20%\n",
            "Val Loss: 0.0182, Val Acc: 99.36%\n",
            "Best Val Acc: 99.36% (Epoch 19)\n",
            "\n",
            "========================================\n",
            "EXPERIMENT COMPLETED: Small_MNIST10\n",
            "========================================\n",
            "Best Validation Accuracy: 99.36%\n",
            "Target Achievement (99.4%): ✗\n",
            "Parameter Efficiency (<20k): ✓\n"
          ]
        }
      ],
      "source": [
        "exp_config = {\n",
        "      'model_class': Small_MNIST10,\n",
        "      'model_name': 'Small_MNIST10',\n",
        "      'epochs': 19,\n",
        "      'learning_rate': 0.001,\n",
        "      'scheduler_type': 'onecycle',\n",
        "      'use_augmentation': True,\n",
        "      'dropout_rate': 0.15\n",
        "  }\n",
        "\n",
        "wandb.init(project=\"cnn_mnist\", config=exp_config)\n",
        "cfg = wandb.config\n",
        "\n",
        "# ------------------------------\n",
        "# Data loaders (MNIST)\n",
        "# ------------------------------\n",
        "torch.manual_seed(42)\n",
        "\n",
        "create_and_run(exp_config)"
      ]
    },
    {
      "cell_type": "markdown",
      "metadata": {
        "id": "60_AvBAKmqbp"
      },
      "source": [
        "Changed batch size to 128"
      ]
    },
    {
      "cell_type": "code",
      "execution_count": null,
      "metadata": {
        "id": "aInE-K2Dmo9q"
      },
      "outputs": [],
      "source": [
        "class Small_MNIST11(nn.Module):\n",
        "    \"\"\"\n",
        "    Small CNN Architecture v1\n",
        "    - Basic efficient design with BN and Dropout\n",
        "    - Uses Global Average Pooling\n",
        "    - Target: <20k parameters, >99.4% accuracy\n",
        "    \"\"\"\n",
        "\n",
        "    def __init__(self, dropout_rate=0.1):\n",
        "        super(Small_MNIST11, self).__init__()\n",
        "\n",
        "        # Feature extraction layers\n",
        "        self.conv1 = nn.Conv2d(1, 8, 3, padding=1)\n",
        "        self.bn1 = nn.BatchNorm2d(8)\n",
        "\n",
        "        self.conv2 = nn.Conv2d(8, 16, 1, padding=1)\n",
        "        self.bn2 = nn.BatchNorm2d(16)\n",
        "\n",
        "        # Pooling and regularization\n",
        "        self.pool1 = nn.MaxPool2d(2, 2)\n",
        "\n",
        "        self.dropout1 = nn.Dropout2d(dropout_rate)\n",
        "\n",
        "        self.conv3 = nn.Conv2d(16, 32, 3, padding=1)\n",
        "        self.bn3 = nn.BatchNorm2d(32)\n",
        "\n",
        "        self.conv4 = nn.Conv2d(32, 64, 1, padding=1)\n",
        "        self.bn4 = nn.BatchNorm2d(64)\n",
        "\n",
        "        self.pool2 = nn.MaxPool2d(2, 2)\n",
        "\n",
        "        self.dropout2 = nn.Dropout2d(dropout_rate * 1.5)\n",
        "\n",
        "        self.conv5_dw = nn.Conv2d(64, 64, 3, padding=1, groups=64, bias=False)\n",
        "        self.conv5_pw = nn.Conv2d(64, 64, 1, bias=False)\n",
        "        self.bn5 = nn.BatchNorm2d(64)\n",
        "        # Final classification layer\n",
        "        self.conv6 = nn.Conv2d(64, 10, 3, padding=1)\n",
        "        self.gap = nn.AdaptiveAvgPool2d(1)\n",
        "\n",
        "    def forward(self, x):\n",
        "        # Block 1\n",
        "        x = F.relu(self.bn1(self.conv1(x)))\n",
        "        x = F.relu(self.bn2(self.conv2(x)))\n",
        "        x = self.pool1(x)\n",
        "        x = self.dropout1(x)\n",
        "\n",
        "        # Block 2\n",
        "        x = F.relu(self.bn3(self.conv3(x)))\n",
        "        x = F.relu(self.bn4(self.conv4(x)))\n",
        "        x = self.pool2(x)\n",
        "        x = self.dropout2(x)\n",
        "\n",
        "        # Block 3 & Classification\n",
        "        x = self.conv5_dw(x)\n",
        "        x = self.conv5_pw(x)\n",
        "        x = F.relu(self.bn5(x))\n",
        "        x = self.conv6(x)\n",
        "        x = self.gap(x)\n",
        "        x = x.view(x.size(0), -1)\n",
        "\n",
        "        return F.log_softmax(x, dim=1)"
      ]
    },
    {
      "cell_type": "code",
      "execution_count": null,
      "metadata": {
        "colab": {
          "base_uri": "https://localhost:8080/",
          "height": 1000
        },
        "id": "_VvStqzzm3Ps",
        "outputId": "54164e8f-3d96-4a19-e17f-d861aa63dbaa"
      },
      "outputs": [
        {
          "data": {
            "text/html": [
              "Finishing previous runs because reinit is set to 'default'."
            ],
            "text/plain": [
              "<IPython.core.display.HTML object>"
            ]
          },
          "metadata": {},
          "output_type": "display_data"
        },
        {
          "data": {
            "text/html": [],
            "text/plain": [
              "<IPython.core.display.HTML object>"
            ]
          },
          "metadata": {},
          "output_type": "display_data"
        },
        {
          "data": {
            "text/html": [
              "<br>    <style><br>        .wandb-row {<br>            display: flex;<br>            flex-direction: row;<br>            flex-wrap: wrap;<br>            justify-content: flex-start;<br>            width: 100%;<br>        }<br>        .wandb-col {<br>            display: flex;<br>            flex-direction: column;<br>            flex-basis: 100%;<br>            flex: 1;<br>            padding: 10px;<br>        }<br>    </style><br><div class=\"wandb-row\"><div class=\"wandb-col\"><h3>Run history:</h3><br/><table class=\"wandb\"><tr><td>test_acc</td><td>▁▄▄▆▆▇▇▇▇▇▇▇▇██████</td></tr><tr><td>test_loss</td><td>█▄▄▃▃▂▂▂▂▂▂▂▁▁▁▁▁▁▁</td></tr><tr><td>train/epoch_acc</td><td>▁▇▇▇▇██████████████</td></tr><tr><td>train/epoch_loss</td><td>█▂▂▂▂▁▁▁▁▁▁▁▁▁▁▁▁▁▁</td></tr></table><br/></div><div class=\"wandb-col\"><h3>Run summary:</h3><br/><table class=\"wandb\"><tr><td>test_acc</td><td>99.36</td></tr><tr><td>test_loss</td><td>0.01815</td></tr><tr><td>train/epoch_acc</td><td>99.2</td></tr><tr><td>train/epoch_loss</td><td>0.02772</td></tr></table><br/></div></div>"
            ],
            "text/plain": [
              "<IPython.core.display.HTML object>"
            ]
          },
          "metadata": {},
          "output_type": "display_data"
        },
        {
          "data": {
            "text/html": [
              " View run <strong style=\"color:#cdcd00\">swift-firebrand-19</strong> at: <a href='https://wandb.ai/johnced/cnn_mnist/runs/2m30gpmr' target=\"_blank\">https://wandb.ai/johnced/cnn_mnist/runs/2m30gpmr</a><br> View project at: <a href='https://wandb.ai/johnced/cnn_mnist' target=\"_blank\">https://wandb.ai/johnced/cnn_mnist</a><br>Synced 5 W&B file(s), 0 media file(s), 0 artifact file(s) and 0 other file(s)"
            ],
            "text/plain": [
              "<IPython.core.display.HTML object>"
            ]
          },
          "metadata": {},
          "output_type": "display_data"
        },
        {
          "data": {
            "text/html": [
              "Find logs at: <code>./wandb/run-20250914_192054-2m30gpmr/logs</code>"
            ],
            "text/plain": [
              "<IPython.core.display.HTML object>"
            ]
          },
          "metadata": {},
          "output_type": "display_data"
        },
        {
          "data": {
            "text/html": [
              "creating run (0.0s)"
            ],
            "text/plain": [
              "<IPython.core.display.HTML object>"
            ]
          },
          "metadata": {},
          "output_type": "display_data"
        },
        {
          "data": {
            "text/html": [
              "Tracking run with wandb version 0.21.3"
            ],
            "text/plain": [
              "<IPython.core.display.HTML object>"
            ]
          },
          "metadata": {},
          "output_type": "display_data"
        },
        {
          "data": {
            "text/html": [
              "Run data is saved locally in <code>/content/wandb/run-20250914_193145-8b0gncmw</code>"
            ],
            "text/plain": [
              "<IPython.core.display.HTML object>"
            ]
          },
          "metadata": {},
          "output_type": "display_data"
        },
        {
          "data": {
            "text/html": [
              "Syncing run <strong><a href='https://wandb.ai/johnced/cnn_mnist/runs/8b0gncmw' target=\"_blank\">winter-mountain-20</a></strong> to <a href='https://wandb.ai/johnced/cnn_mnist' target=\"_blank\">Weights & Biases</a> (<a href='https://wandb.me/developer-guide' target=\"_blank\">docs</a>)<br>"
            ],
            "text/plain": [
              "<IPython.core.display.HTML object>"
            ]
          },
          "metadata": {},
          "output_type": "display_data"
        },
        {
          "data": {
            "text/html": [
              " View project at <a href='https://wandb.ai/johnced/cnn_mnist' target=\"_blank\">https://wandb.ai/johnced/cnn_mnist</a>"
            ],
            "text/plain": [
              "<IPython.core.display.HTML object>"
            ]
          },
          "metadata": {},
          "output_type": "display_data"
        },
        {
          "data": {
            "text/html": [
              " View run at <a href='https://wandb.ai/johnced/cnn_mnist/runs/8b0gncmw' target=\"_blank\">https://wandb.ai/johnced/cnn_mnist/runs/8b0gncmw</a>"
            ],
            "text/plain": [
              "<IPython.core.display.HTML object>"
            ]
          },
          "metadata": {},
          "output_type": "display_data"
        },
        {
          "name": "stdout",
          "output_type": "stream",
          "text": [
            "Starting Experimental Suite: MNIST_CNN_20250914_193147\n",
            "Target: 99.4% accuracy with <20k parameters in <20 epochs\n",
            "\n",
            "============================================================\n",
            "Running Experiment: Small_MNIST11\n",
            "============================================================\n",
            "Using device: cuda\n",
            "\n",
            "Model Requirements Check:\n",
            "  Total Parameters: 17,786\n",
            "  Under 20k params: ✓\n",
            "  Has Batch Normalization: ✓\n",
            "  Has Dropout: ✓\n",
            "  Has Global Average Pooling: ✓\n",
            "  Has Fully Connected Layer: ✗\n",
            "\n",
            "Starting Training for 19 epochs...\n",
            "\n",
            "Epoch 1/19\n"
          ]
        },
        {
          "name": "stderr",
          "output_type": "stream",
          "text": [
            "Training: 100%|██████████| 469/469 [00:17<00:00, 26.11it/s, Loss=1.3546, Acc=54.85%]\n"
          ]
        },
        {
          "name": "stdout",
          "output_type": "stream",
          "text": [
            "Train Loss: 1.3546, Train Acc: 54.85%\n",
            "Val Loss: 0.3687, Val Acc: 92.05%\n",
            "Best Val Acc: 92.05% (Epoch 1)\n",
            "\n",
            "Epoch 2/19\n"
          ]
        },
        {
          "name": "stderr",
          "output_type": "stream",
          "text": [
            "Training: 100%|██████████| 469/469 [00:16<00:00, 28.01it/s, Loss=0.2942, Acc=91.84%]\n"
          ]
        },
        {
          "name": "stdout",
          "output_type": "stream",
          "text": [
            "Train Loss: 0.2942, Train Acc: 91.84%\n",
            "Val Loss: 0.1329, Val Acc: 95.91%\n",
            "Best Val Acc: 95.91% (Epoch 2)\n",
            "\n",
            "Epoch 3/19\n"
          ]
        },
        {
          "name": "stderr",
          "output_type": "stream",
          "text": [
            "Training: 100%|██████████| 469/469 [00:17<00:00, 26.54it/s, Loss=0.1504, Acc=95.46%]\n"
          ]
        },
        {
          "name": "stdout",
          "output_type": "stream",
          "text": [
            "Train Loss: 0.1504, Train Acc: 95.46%\n",
            "Val Loss: 0.0762, Val Acc: 97.72%\n",
            "Best Val Acc: 97.72% (Epoch 3)\n",
            "\n",
            "Epoch 4/19\n"
          ]
        },
        {
          "name": "stderr",
          "output_type": "stream",
          "text": [
            "Training: 100%|██████████| 469/469 [00:17<00:00, 27.47it/s, Loss=0.1195, Acc=96.34%]\n"
          ]
        },
        {
          "name": "stdout",
          "output_type": "stream",
          "text": [
            "Train Loss: 0.1195, Train Acc: 96.34%\n",
            "Val Loss: 0.0746, Val Acc: 97.84%\n",
            "Best Val Acc: 97.84% (Epoch 4)\n",
            "\n",
            "Epoch 5/19\n"
          ]
        },
        {
          "name": "stderr",
          "output_type": "stream",
          "text": [
            "Training: 100%|██████████| 469/469 [00:17<00:00, 26.22it/s, Loss=0.1062, Acc=96.83%]\n"
          ]
        },
        {
          "name": "stdout",
          "output_type": "stream",
          "text": [
            "Train Loss: 0.1062, Train Acc: 96.83%\n",
            "Val Loss: 0.0546, Val Acc: 98.27%\n",
            "Best Val Acc: 98.27% (Epoch 5)\n",
            "\n",
            "Epoch 6/19\n"
          ]
        },
        {
          "name": "stderr",
          "output_type": "stream",
          "text": [
            "Training: 100%|██████████| 469/469 [00:16<00:00, 27.79it/s, Loss=0.0914, Acc=97.13%]\n"
          ]
        },
        {
          "name": "stdout",
          "output_type": "stream",
          "text": [
            "Train Loss: 0.0914, Train Acc: 97.13%\n",
            "Val Loss: 0.0408, Val Acc: 98.65%\n",
            "Best Val Acc: 98.65% (Epoch 6)\n",
            "\n",
            "Epoch 7/19\n"
          ]
        },
        {
          "name": "stderr",
          "output_type": "stream",
          "text": [
            "Training: 100%|██████████| 469/469 [00:17<00:00, 26.34it/s, Loss=0.0752, Acc=97.76%]\n"
          ]
        },
        {
          "name": "stdout",
          "output_type": "stream",
          "text": [
            "Train Loss: 0.0752, Train Acc: 97.76%\n",
            "Val Loss: 0.0760, Val Acc: 97.56%\n",
            "Best Val Acc: 98.65% (Epoch 6)\n",
            "\n",
            "Epoch 8/19\n"
          ]
        },
        {
          "name": "stderr",
          "output_type": "stream",
          "text": [
            "Training: 100%|██████████| 469/469 [00:17<00:00, 27.33it/s, Loss=0.0756, Acc=97.68%]\n"
          ]
        },
        {
          "name": "stdout",
          "output_type": "stream",
          "text": [
            "Train Loss: 0.0756, Train Acc: 97.68%\n",
            "Val Loss: 0.0459, Val Acc: 98.53%\n",
            "Best Val Acc: 98.65% (Epoch 6)\n",
            "\n",
            "Epoch 9/19\n"
          ]
        },
        {
          "name": "stderr",
          "output_type": "stream",
          "text": [
            "Training: 100%|██████████| 469/469 [00:18<00:00, 26.00it/s, Loss=0.0708, Acc=97.82%]\n"
          ]
        },
        {
          "name": "stdout",
          "output_type": "stream",
          "text": [
            "Train Loss: 0.0708, Train Acc: 97.82%\n",
            "Val Loss: 0.0378, Val Acc: 98.60%\n",
            "Best Val Acc: 98.65% (Epoch 6)\n",
            "\n",
            "Epoch 10/19\n"
          ]
        },
        {
          "name": "stderr",
          "output_type": "stream",
          "text": [
            "Training: 100%|██████████| 469/469 [00:16<00:00, 27.87it/s, Loss=0.0632, Acc=98.07%]\n"
          ]
        },
        {
          "name": "stdout",
          "output_type": "stream",
          "text": [
            "Train Loss: 0.0632, Train Acc: 98.07%\n",
            "Val Loss: 0.0401, Val Acc: 98.76%\n",
            "Best Val Acc: 98.76% (Epoch 10)\n",
            "\n",
            "Epoch 11/19\n"
          ]
        },
        {
          "name": "stderr",
          "output_type": "stream",
          "text": [
            "Training: 100%|██████████| 469/469 [00:17<00:00, 26.65it/s, Loss=0.0602, Acc=98.15%]\n"
          ]
        },
        {
          "name": "stdout",
          "output_type": "stream",
          "text": [
            "Train Loss: 0.0602, Train Acc: 98.15%\n",
            "Val Loss: 0.0322, Val Acc: 99.04%\n",
            "Best Val Acc: 99.04% (Epoch 11)\n",
            "\n",
            "Epoch 12/19\n"
          ]
        },
        {
          "name": "stderr",
          "output_type": "stream",
          "text": [
            "Training: 100%|██████████| 469/469 [00:16<00:00, 28.10it/s, Loss=0.0561, Acc=98.28%]\n"
          ]
        },
        {
          "name": "stdout",
          "output_type": "stream",
          "text": [
            "Train Loss: 0.0561, Train Acc: 98.28%\n",
            "Val Loss: 0.0246, Val Acc: 99.13%\n",
            "Best Val Acc: 99.13% (Epoch 12)\n",
            "\n",
            "Epoch 13/19\n"
          ]
        },
        {
          "name": "stderr",
          "output_type": "stream",
          "text": [
            "Training: 100%|██████████| 469/469 [00:18<00:00, 24.92it/s, Loss=0.0501, Acc=98.45%]\n"
          ]
        },
        {
          "name": "stdout",
          "output_type": "stream",
          "text": [
            "Train Loss: 0.0501, Train Acc: 98.45%\n",
            "Val Loss: 0.0276, Val Acc: 99.16%\n",
            "Best Val Acc: 99.16% (Epoch 13)\n",
            "\n",
            "Epoch 14/19\n"
          ]
        },
        {
          "name": "stderr",
          "output_type": "stream",
          "text": [
            "Training: 100%|██████████| 469/469 [00:16<00:00, 28.16it/s, Loss=0.0440, Acc=98.66%]\n"
          ]
        },
        {
          "name": "stdout",
          "output_type": "stream",
          "text": [
            "Train Loss: 0.0440, Train Acc: 98.66%\n",
            "Val Loss: 0.0242, Val Acc: 99.29%\n",
            "Best Val Acc: 99.29% (Epoch 14)\n",
            "\n",
            "Epoch 15/19\n"
          ]
        },
        {
          "name": "stderr",
          "output_type": "stream",
          "text": [
            "Training: 100%|██████████| 469/469 [00:17<00:00, 26.67it/s, Loss=0.0392, Acc=98.78%]\n"
          ]
        },
        {
          "name": "stdout",
          "output_type": "stream",
          "text": [
            "Train Loss: 0.0392, Train Acc: 98.78%\n",
            "Val Loss: 0.0202, Val Acc: 99.34%\n",
            "Best Val Acc: 99.34% (Epoch 15)\n",
            "\n",
            "Epoch 16/19\n"
          ]
        },
        {
          "name": "stderr",
          "output_type": "stream",
          "text": [
            "Training: 100%|██████████| 469/469 [00:16<00:00, 28.02it/s, Loss=0.0337, Acc=98.98%]\n"
          ]
        },
        {
          "name": "stdout",
          "output_type": "stream",
          "text": [
            "Train Loss: 0.0337, Train Acc: 98.98%\n",
            "Val Loss: 0.0206, Val Acc: 99.33%\n",
            "Best Val Acc: 99.34% (Epoch 15)\n",
            "\n",
            "Epoch 17/19\n"
          ]
        },
        {
          "name": "stderr",
          "output_type": "stream",
          "text": [
            "Training: 100%|██████████| 469/469 [00:17<00:00, 27.28it/s, Loss=0.0309, Acc=99.09%]\n"
          ]
        },
        {
          "name": "stdout",
          "output_type": "stream",
          "text": [
            "Train Loss: 0.0309, Train Acc: 99.09%\n",
            "Val Loss: 0.0186, Val Acc: 99.40%\n",
            "Best Val Acc: 99.40% (Epoch 17)\n",
            "\n",
            "Epoch 18/19\n"
          ]
        },
        {
          "name": "stderr",
          "output_type": "stream",
          "text": [
            "Training: 100%|██████████| 469/469 [00:16<00:00, 28.28it/s, Loss=0.0280, Acc=99.21%]\n"
          ]
        },
        {
          "name": "stdout",
          "output_type": "stream",
          "text": [
            "Train Loss: 0.0280, Train Acc: 99.21%\n",
            "Val Loss: 0.0176, Val Acc: 99.43%\n",
            "Best Val Acc: 99.43% (Epoch 18)\n",
            "\n",
            "Epoch 19/19\n"
          ]
        },
        {
          "name": "stderr",
          "output_type": "stream",
          "text": [
            "Training: 100%|██████████| 469/469 [00:16<00:00, 27.93it/s, Loss=0.0259, Acc=99.25%]\n"
          ]
        },
        {
          "name": "stdout",
          "output_type": "stream",
          "text": [
            "Train Loss: 0.0259, Train Acc: 99.25%\n",
            "Val Loss: 0.0173, Val Acc: 99.51%\n",
            "Best Val Acc: 99.51% (Epoch 19)\n",
            "\n",
            "========================================\n",
            "EXPERIMENT COMPLETED: Small_MNIST11\n",
            "========================================\n",
            "Best Validation Accuracy: 99.51%\n",
            "Target Achievement (99.4%): ✓\n",
            "Parameter Efficiency (<20k): ✓\n"
          ]
        }
      ],
      "source": [
        "exp_config = {\n",
        "      'model_class': Small_MNIST11,\n",
        "      'model_name': 'Small_MNIST11',\n",
        "      'epochs': 19,\n",
        "      'learning_rate': 0.001,\n",
        "      'scheduler_type': 'onecycle',\n",
        "      'use_augmentation': True,\n",
        "      'dropout_rate': 0.15\n",
        "  }\n",
        "\n",
        "wandb.init(project=\"cnn_mnist\", config=exp_config)\n",
        "cfg = wandb.config\n",
        "\n",
        "# ------------------------------\n",
        "# Data loaders (MNIST)\n",
        "# ------------------------------\n",
        "torch.manual_seed(42)\n",
        "\n",
        "create_and_run(exp_config)"
      ]
    },
    {
      "cell_type": "markdown",
      "metadata": {
        "id": "QKtrhNUpnDpB"
      },
      "source": [
        "Changed architecture with groups with batch 128"
      ]
    },
    {
      "cell_type": "code",
      "execution_count": null,
      "metadata": {
        "id": "ml1TLpKmm7OG"
      },
      "outputs": [],
      "source": [
        "class Small_MNIST12(nn.Module):\n",
        "    \"\"\"\n",
        "    Small CNN Architecture v1\n",
        "    - Basic efficient design with BN and Dropout\n",
        "    - Uses Global Average Pooling\n",
        "    - Target: <20k parameters, >99.4% accuracy\n",
        "    \"\"\"\n",
        "\n",
        "    def __init__(self, dropout_rate=0.1):\n",
        "        super(Small_MNIST12, self).__init__()\n",
        "\n",
        "        # Feature extraction layers\n",
        "        self.conv1 = nn.Conv2d(1, 16, 3, padding=1)\n",
        "        self.bn1 = nn.BatchNorm2d(16)\n",
        "\n",
        "        self.conv2 = nn.Conv2d(16, 32, 1, padding=1)\n",
        "        self.bn2 = nn.BatchNorm2d(32)\n",
        "\n",
        "        # Pooling and regularization\n",
        "        self.pool1 = nn.MaxPool2d(2, 2)\n",
        "\n",
        "        self.dropout1 = nn.Dropout2d(dropout_rate)\n",
        "\n",
        "        #self.conv3 = nn.Conv2d(32, 32, 3, padding=1)\n",
        "        #self.bn3 = nn.BatchNorm2d(32)\n",
        "\n",
        "        self.conv3_dw = nn.Conv2d(32, 32, 3, padding=1, groups=32, bias=False)\n",
        "        self.conv3_pw = nn.Conv2d(32, 32, 1, bias=False)\n",
        "        self.bn3 = nn.BatchNorm2d(32)\n",
        "\n",
        "        self.conv4 = nn.Conv2d(32, 64, 1, padding=1)\n",
        "        self.bn4 = nn.BatchNorm2d(64)\n",
        "\n",
        "        self.pool2 = nn.MaxPool2d(2, 2)\n",
        "\n",
        "        self.dropout2 = nn.Dropout2d(dropout_rate * 1.5)\n",
        "\n",
        "        self.conv5_dw = nn.Conv2d(64, 64, 3, padding=1, groups=64, bias=False)\n",
        "        self.conv5_pw = nn.Conv2d(64, 64, 1, bias=False)\n",
        "        self.bn5 = nn.BatchNorm2d(64)\n",
        "        # Final classification layer\n",
        "        self.conv6 = nn.Conv2d(64, 10, 3, padding=1)\n",
        "        self.gap = nn.AdaptiveAvgPool2d(1)\n",
        "\n",
        "    def forward(self, x):\n",
        "        # Block 1\n",
        "        x = F.relu(self.bn1(self.conv1(x)))\n",
        "        x = F.relu(self.bn2(self.conv2(x)))\n",
        "        x = self.pool1(x)\n",
        "        x = self.dropout1(x)\n",
        "\n",
        "        # Block 2\n",
        "        #x = F.relu(self.bn3(self.conv3(x)))\n",
        "        x = self.conv3_dw(x)\n",
        "        x = self.conv3_pw(x)\n",
        "        x = F.relu(self.bn3(x))\n",
        "        x = F.relu(self.bn4(self.conv4(x)))\n",
        "        x = self.pool2(x)\n",
        "        x = self.dropout2(x)\n",
        "\n",
        "        # Block 3 & Classification\n",
        "        x = self.conv5_dw(x)\n",
        "        x = self.conv5_pw(x)\n",
        "        x = F.relu(self.bn5(x))\n",
        "        x = self.conv6(x)\n",
        "        x = self.gap(x)\n",
        "        x = x.view(x.size(0), -1)\n",
        "\n",
        "        return F.log_softmax(x, dim=1)"
      ]
    },
    {
      "cell_type": "code",
      "execution_count": null,
      "metadata": {
        "colab": {
          "base_uri": "https://localhost:8080/"
        },
        "id": "oKtQCX4xm7U2",
        "outputId": "9bb31f53-8e7b-4867-eb7d-a52295622803"
      },
      "outputs": [
        {
          "name": "stdout",
          "output_type": "stream",
          "text": [
            "----------------------------------------------------------------\n",
            "        Layer (type)               Output Shape         Param #\n",
            "================================================================\n",
            "            Conv2d-1           [-1, 16, 28, 28]             160\n",
            "       BatchNorm2d-2           [-1, 16, 28, 28]              32\n",
            "            Conv2d-3           [-1, 32, 30, 30]             544\n",
            "       BatchNorm2d-4           [-1, 32, 30, 30]              64\n",
            "         MaxPool2d-5           [-1, 32, 15, 15]               0\n",
            "         Dropout2d-6           [-1, 32, 15, 15]               0\n",
            "            Conv2d-7           [-1, 32, 15, 15]             288\n",
            "            Conv2d-8           [-1, 32, 15, 15]           1,024\n",
            "       BatchNorm2d-9           [-1, 32, 15, 15]              64\n",
            "           Conv2d-10           [-1, 64, 17, 17]           2,112\n",
            "      BatchNorm2d-11           [-1, 64, 17, 17]             128\n",
            "        MaxPool2d-12             [-1, 64, 8, 8]               0\n",
            "        Dropout2d-13             [-1, 64, 8, 8]               0\n",
            "           Conv2d-14             [-1, 64, 8, 8]             576\n",
            "           Conv2d-15             [-1, 64, 8, 8]           4,096\n",
            "      BatchNorm2d-16             [-1, 64, 8, 8]             128\n",
            "           Conv2d-17             [-1, 10, 8, 8]           5,770\n",
            "AdaptiveAvgPool2d-18             [-1, 10, 1, 1]               0\n",
            "================================================================\n",
            "Total params: 14,986\n",
            "Trainable params: 14,986\n",
            "Non-trainable params: 0\n",
            "----------------------------------------------------------------\n",
            "Input size (MB): 0.00\n",
            "Forward/backward pass size (MB): 1.35\n",
            "Params size (MB): 0.06\n",
            "Estimated Total Size (MB): 1.41\n",
            "----------------------------------------------------------------\n",
            "layer                          type   out_ch k         s         p         out(HxW)   RF(HxW)      jump     start       \n",
            "------------------------------------------------------------------------------------------------------------------------\n",
            "conv1                          conv   16     3x3       1x1       1x1       28x28      3x3          1x1      0.50x0.50   \n",
            "conv2                          conv   32     1x1       1x1       1x1       30x30      3x3          1x1      -0.50x-0.50 \n",
            "pool1                          pool   -      2x2       2x2       0x0       15x15      4x4          2x2      0.00x0.00   \n",
            "conv3_dw                       conv   32     3x3       1x1       1x1       15x15      8x8          2x2      0.00x0.00   \n",
            "conv3_pw                       conv   32     1x1       1x1       0x0       15x15      8x8          2x2      0.00x0.00   \n",
            "conv4                          conv   64     1x1       1x1       1x1       17x17      8x8          2x2      -2.00x-2.00 \n",
            "pool2                          pool   -      2x2       2x2       0x0       8x8        10x10        4x4      -1.00x-1.00 \n",
            "conv5_dw                       conv   64     3x3       1x1       1x1       8x8        18x18        4x4      -1.00x-1.00 \n",
            "conv5_pw                       conv   64     1x1       1x1       0x0       8x8        18x18        4x4      -1.00x-1.00 \n",
            "conv6                          conv   10     3x3       1x1       1x1       8x8        26x26        4x4      -1.00x-1.00 \n",
            "------------------------------------------------------------------------------------------------------------------------\n",
            "Final output spatial size: 8 x 8\n",
            "Final receptive field: 26 x 26\n",
            "Final cumulative stride (jump): 4 x 4\n",
            "Center of top-left output unit relative to input pixel (0-index approx): -1.00 , -1.00\n"
          ]
        }
      ],
      "source": [
        "model_summary_and_rf(Small_MNIST12())"
      ]
    },
    {
      "cell_type": "code",
      "execution_count": null,
      "metadata": {
        "colab": {
          "base_uri": "https://localhost:8080/",
          "height": 1000
        },
        "id": "I8uigUR-mpEP",
        "outputId": "461bfe64-0846-4108-cd1c-c21f5740fa52"
      },
      "outputs": [
        {
          "data": {
            "text/html": [
              "Finishing previous runs because reinit is set to 'default'."
            ],
            "text/plain": [
              "<IPython.core.display.HTML object>"
            ]
          },
          "metadata": {},
          "output_type": "display_data"
        },
        {
          "data": {
            "text/html": [],
            "text/plain": [
              "<IPython.core.display.HTML object>"
            ]
          },
          "metadata": {},
          "output_type": "display_data"
        },
        {
          "data": {
            "text/html": [
              "<br>    <style><br>        .wandb-row {<br>            display: flex;<br>            flex-direction: row;<br>            flex-wrap: wrap;<br>            justify-content: flex-start;<br>            width: 100%;<br>        }<br>        .wandb-col {<br>            display: flex;<br>            flex-direction: column;<br>            flex-basis: 100%;<br>            flex: 1;<br>            padding: 10px;<br>        }<br>    </style><br><div class=\"wandb-row\"><div class=\"wandb-col\"><h3>Run history:</h3><br/><table class=\"wandb\"><tr><td>test_acc</td><td>▁▅▆▆▇▇▆▇▇▇█████████</td></tr><tr><td>test_loss</td><td>█▃▂▂▂▁▂▂▁▁▁▁▁▁▁▁▁▁▁</td></tr><tr><td>train/epoch_acc</td><td>▁▇▇████████████████</td></tr><tr><td>train/epoch_loss</td><td>█▂▂▁▁▁▁▁▁▁▁▁▁▁▁▁▁▁▁</td></tr></table><br/></div><div class=\"wandb-col\"><h3>Run summary:</h3><br/><table class=\"wandb\"><tr><td>test_acc</td><td>99.51</td></tr><tr><td>test_loss</td><td>0.01731</td></tr><tr><td>train/epoch_acc</td><td>99.24667</td></tr><tr><td>train/epoch_loss</td><td>0.02589</td></tr></table><br/></div></div>"
            ],
            "text/plain": [
              "<IPython.core.display.HTML object>"
            ]
          },
          "metadata": {},
          "output_type": "display_data"
        },
        {
          "data": {
            "text/html": [
              " View run <strong style=\"color:#cdcd00\">winter-mountain-20</strong> at: <a href='https://wandb.ai/johnced/cnn_mnist/runs/8b0gncmw' target=\"_blank\">https://wandb.ai/johnced/cnn_mnist/runs/8b0gncmw</a><br> View project at: <a href='https://wandb.ai/johnced/cnn_mnist' target=\"_blank\">https://wandb.ai/johnced/cnn_mnist</a><br>Synced 5 W&B file(s), 0 media file(s), 0 artifact file(s) and 0 other file(s)"
            ],
            "text/plain": [
              "<IPython.core.display.HTML object>"
            ]
          },
          "metadata": {},
          "output_type": "display_data"
        },
        {
          "data": {
            "text/html": [
              "Find logs at: <code>./wandb/run-20250914_193145-8b0gncmw/logs</code>"
            ],
            "text/plain": [
              "<IPython.core.display.HTML object>"
            ]
          },
          "metadata": {},
          "output_type": "display_data"
        },
        {
          "data": {
            "text/html": [
              "creating run (0.0s)"
            ],
            "text/plain": [
              "<IPython.core.display.HTML object>"
            ]
          },
          "metadata": {},
          "output_type": "display_data"
        },
        {
          "data": {
            "text/html": [
              "Tracking run with wandb version 0.21.3"
            ],
            "text/plain": [
              "<IPython.core.display.HTML object>"
            ]
          },
          "metadata": {},
          "output_type": "display_data"
        },
        {
          "data": {
            "text/html": [
              "Run data is saved locally in <code>/content/wandb/run-20250914_194003-6waj8pcp</code>"
            ],
            "text/plain": [
              "<IPython.core.display.HTML object>"
            ]
          },
          "metadata": {},
          "output_type": "display_data"
        },
        {
          "data": {
            "text/html": [
              "Syncing run <strong><a href='https://wandb.ai/johnced/cnn_mnist/runs/6waj8pcp' target=\"_blank\">lucky-silence-21</a></strong> to <a href='https://wandb.ai/johnced/cnn_mnist' target=\"_blank\">Weights & Biases</a> (<a href='https://wandb.me/developer-guide' target=\"_blank\">docs</a>)<br>"
            ],
            "text/plain": [
              "<IPython.core.display.HTML object>"
            ]
          },
          "metadata": {},
          "output_type": "display_data"
        },
        {
          "data": {
            "text/html": [
              " View project at <a href='https://wandb.ai/johnced/cnn_mnist' target=\"_blank\">https://wandb.ai/johnced/cnn_mnist</a>"
            ],
            "text/plain": [
              "<IPython.core.display.HTML object>"
            ]
          },
          "metadata": {},
          "output_type": "display_data"
        },
        {
          "data": {
            "text/html": [
              " View run at <a href='https://wandb.ai/johnced/cnn_mnist/runs/6waj8pcp' target=\"_blank\">https://wandb.ai/johnced/cnn_mnist/runs/6waj8pcp</a>"
            ],
            "text/plain": [
              "<IPython.core.display.HTML object>"
            ]
          },
          "metadata": {},
          "output_type": "display_data"
        },
        {
          "name": "stdout",
          "output_type": "stream",
          "text": [
            "Starting Experimental Suite: MNIST_CNN_20250914_194004\n",
            "Target: 99.4% accuracy with <20k parameters in <20 epochs\n",
            "\n",
            "============================================================\n",
            "Running Experiment: Small_MNIST12\n",
            "============================================================\n",
            "Using device: cuda\n",
            "\n",
            "Model Requirements Check:\n",
            "  Total Parameters: 14,986\n",
            "  Under 20k params: ✓\n",
            "  Has Batch Normalization: ✓\n",
            "  Has Dropout: ✓\n",
            "  Has Global Average Pooling: ✓\n",
            "  Has Fully Connected Layer: ✗\n",
            "\n",
            "Starting Training for 19 epochs...\n",
            "\n",
            "Epoch 1/19\n"
          ]
        },
        {
          "name": "stderr",
          "output_type": "stream",
          "text": [
            "Training: 100%|██████████| 469/469 [00:18<00:00, 25.84it/s, Loss=1.4606, Acc=50.13%]\n"
          ]
        },
        {
          "name": "stdout",
          "output_type": "stream",
          "text": [
            "Train Loss: 1.4606, Train Acc: 50.13%\n",
            "Val Loss: 0.4591, Val Acc: 88.67%\n",
            "Best Val Acc: 88.67% (Epoch 1)\n",
            "\n",
            "Epoch 2/19\n"
          ]
        },
        {
          "name": "stderr",
          "output_type": "stream",
          "text": [
            "Training: 100%|██████████| 469/469 [00:17<00:00, 27.21it/s, Loss=0.3551, Acc=90.12%]\n"
          ]
        },
        {
          "name": "stdout",
          "output_type": "stream",
          "text": [
            "Train Loss: 0.3551, Train Acc: 90.12%\n",
            "Val Loss: 0.1269, Val Acc: 96.54%\n",
            "Best Val Acc: 96.54% (Epoch 2)\n",
            "\n",
            "Epoch 3/19\n"
          ]
        },
        {
          "name": "stderr",
          "output_type": "stream",
          "text": [
            "Training: 100%|██████████| 469/469 [00:17<00:00, 26.45it/s, Loss=0.1694, Acc=95.01%]\n"
          ]
        },
        {
          "name": "stdout",
          "output_type": "stream",
          "text": [
            "Train Loss: 0.1694, Train Acc: 95.01%\n",
            "Val Loss: 0.0793, Val Acc: 97.45%\n",
            "Best Val Acc: 97.45% (Epoch 3)\n",
            "\n",
            "Epoch 4/19\n"
          ]
        },
        {
          "name": "stderr",
          "output_type": "stream",
          "text": [
            "Training: 100%|██████████| 469/469 [00:16<00:00, 27.69it/s, Loss=0.1308, Acc=96.11%]\n"
          ]
        },
        {
          "name": "stdout",
          "output_type": "stream",
          "text": [
            "Train Loss: 0.1308, Train Acc: 96.11%\n",
            "Val Loss: 0.0665, Val Acc: 98.05%\n",
            "Best Val Acc: 98.05% (Epoch 4)\n",
            "\n",
            "Epoch 5/19\n"
          ]
        },
        {
          "name": "stderr",
          "output_type": "stream",
          "text": [
            "Training: 100%|██████████| 469/469 [00:19<00:00, 24.57it/s, Loss=0.1182, Acc=96.33%]\n"
          ]
        },
        {
          "name": "stdout",
          "output_type": "stream",
          "text": [
            "Train Loss: 0.1182, Train Acc: 96.33%\n",
            "Val Loss: 0.0813, Val Acc: 97.49%\n",
            "Best Val Acc: 98.05% (Epoch 4)\n",
            "\n",
            "Epoch 6/19\n"
          ]
        },
        {
          "name": "stderr",
          "output_type": "stream",
          "text": [
            "Training: 100%|██████████| 469/469 [00:17<00:00, 27.21it/s, Loss=0.1005, Acc=96.92%]\n"
          ]
        },
        {
          "name": "stdout",
          "output_type": "stream",
          "text": [
            "Train Loss: 0.1005, Train Acc: 96.92%\n",
            "Val Loss: 0.0440, Val Acc: 98.49%\n",
            "Best Val Acc: 98.49% (Epoch 6)\n",
            "\n",
            "Epoch 7/19\n"
          ]
        },
        {
          "name": "stderr",
          "output_type": "stream",
          "text": [
            "Training: 100%|██████████| 469/469 [00:17<00:00, 26.16it/s, Loss=0.0885, Acc=97.28%]\n"
          ]
        },
        {
          "name": "stdout",
          "output_type": "stream",
          "text": [
            "Train Loss: 0.0885, Train Acc: 97.28%\n",
            "Val Loss: 0.0906, Val Acc: 97.07%\n",
            "Best Val Acc: 98.49% (Epoch 6)\n",
            "\n",
            "Epoch 8/19\n"
          ]
        },
        {
          "name": "stderr",
          "output_type": "stream",
          "text": [
            "Training: 100%|██████████| 469/469 [00:17<00:00, 27.21it/s, Loss=0.0839, Acc=97.45%]\n"
          ]
        },
        {
          "name": "stdout",
          "output_type": "stream",
          "text": [
            "Train Loss: 0.0839, Train Acc: 97.45%\n",
            "Val Loss: 0.0420, Val Acc: 98.61%\n",
            "Best Val Acc: 98.61% (Epoch 8)\n",
            "\n",
            "Epoch 9/19\n"
          ]
        },
        {
          "name": "stderr",
          "output_type": "stream",
          "text": [
            "Training: 100%|██████████| 469/469 [00:17<00:00, 27.07it/s, Loss=0.0779, Acc=97.60%]\n"
          ]
        },
        {
          "name": "stdout",
          "output_type": "stream",
          "text": [
            "Train Loss: 0.0779, Train Acc: 97.60%\n",
            "Val Loss: 0.0342, Val Acc: 98.85%\n",
            "Best Val Acc: 98.85% (Epoch 9)\n",
            "\n",
            "Epoch 10/19\n"
          ]
        },
        {
          "name": "stderr",
          "output_type": "stream",
          "text": [
            "Training: 100%|██████████| 469/469 [00:17<00:00, 27.44it/s, Loss=0.0717, Acc=97.75%]\n"
          ]
        },
        {
          "name": "stdout",
          "output_type": "stream",
          "text": [
            "Train Loss: 0.0717, Train Acc: 97.75%\n",
            "Val Loss: 0.0338, Val Acc: 98.84%\n",
            "Best Val Acc: 98.85% (Epoch 9)\n",
            "\n",
            "Epoch 11/19\n"
          ]
        },
        {
          "name": "stderr",
          "output_type": "stream",
          "text": [
            "Training: 100%|██████████| 469/469 [00:17<00:00, 27.45it/s, Loss=0.0663, Acc=97.91%]\n"
          ]
        },
        {
          "name": "stdout",
          "output_type": "stream",
          "text": [
            "Train Loss: 0.0663, Train Acc: 97.91%\n",
            "Val Loss: 0.0318, Val Acc: 98.98%\n",
            "Best Val Acc: 98.98% (Epoch 11)\n",
            "\n",
            "Epoch 12/19\n"
          ]
        },
        {
          "name": "stderr",
          "output_type": "stream",
          "text": [
            "Training: 100%|██████████| 469/469 [00:16<00:00, 27.72it/s, Loss=0.0626, Acc=98.07%]\n"
          ]
        },
        {
          "name": "stdout",
          "output_type": "stream",
          "text": [
            "Train Loss: 0.0626, Train Acc: 98.07%\n",
            "Val Loss: 0.0317, Val Acc: 98.93%\n",
            "Best Val Acc: 98.98% (Epoch 11)\n",
            "\n",
            "Epoch 13/19\n"
          ]
        },
        {
          "name": "stderr",
          "output_type": "stream",
          "text": [
            "Training: 100%|██████████| 469/469 [00:18<00:00, 26.03it/s, Loss=0.0549, Acc=98.35%]\n"
          ]
        },
        {
          "name": "stdout",
          "output_type": "stream",
          "text": [
            "Train Loss: 0.0549, Train Acc: 98.35%\n",
            "Val Loss: 0.0266, Val Acc: 99.12%\n",
            "Best Val Acc: 99.12% (Epoch 13)\n",
            "\n",
            "Epoch 14/19\n"
          ]
        },
        {
          "name": "stderr",
          "output_type": "stream",
          "text": [
            "Training: 100%|██████████| 469/469 [00:17<00:00, 27.12it/s, Loss=0.0481, Acc=98.58%]\n"
          ]
        },
        {
          "name": "stdout",
          "output_type": "stream",
          "text": [
            "Train Loss: 0.0481, Train Acc: 98.58%\n",
            "Val Loss: 0.0236, Val Acc: 99.21%\n",
            "Best Val Acc: 99.21% (Epoch 14)\n",
            "\n",
            "Epoch 15/19\n"
          ]
        },
        {
          "name": "stderr",
          "output_type": "stream",
          "text": [
            "Training: 100%|██████████| 469/469 [00:17<00:00, 27.38it/s, Loss=0.0453, Acc=98.62%]\n"
          ]
        },
        {
          "name": "stdout",
          "output_type": "stream",
          "text": [
            "Train Loss: 0.0453, Train Acc: 98.62%\n",
            "Val Loss: 0.0215, Val Acc: 99.23%\n",
            "Best Val Acc: 99.23% (Epoch 15)\n",
            "\n",
            "Epoch 16/19\n"
          ]
        },
        {
          "name": "stderr",
          "output_type": "stream",
          "text": [
            "Training: 100%|██████████| 469/469 [00:17<00:00, 26.59it/s, Loss=0.0389, Acc=98.83%]\n"
          ]
        },
        {
          "name": "stdout",
          "output_type": "stream",
          "text": [
            "Train Loss: 0.0389, Train Acc: 98.83%\n",
            "Val Loss: 0.0213, Val Acc: 99.29%\n",
            "Best Val Acc: 99.29% (Epoch 16)\n",
            "\n",
            "Epoch 17/19\n"
          ]
        },
        {
          "name": "stderr",
          "output_type": "stream",
          "text": [
            "Training: 100%|██████████| 469/469 [00:17<00:00, 27.58it/s, Loss=0.0348, Acc=99.01%]\n"
          ]
        },
        {
          "name": "stdout",
          "output_type": "stream",
          "text": [
            "Train Loss: 0.0348, Train Acc: 99.01%\n",
            "Val Loss: 0.0189, Val Acc: 99.40%\n",
            "Best Val Acc: 99.40% (Epoch 17)\n",
            "\n",
            "Epoch 18/19\n"
          ]
        },
        {
          "name": "stderr",
          "output_type": "stream",
          "text": [
            "Training: 100%|██████████| 469/469 [00:17<00:00, 26.61it/s, Loss=0.0318, Acc=99.08%]\n"
          ]
        },
        {
          "name": "stdout",
          "output_type": "stream",
          "text": [
            "Train Loss: 0.0318, Train Acc: 99.08%\n",
            "Val Loss: 0.0182, Val Acc: 99.42%\n",
            "Best Val Acc: 99.42% (Epoch 18)\n",
            "\n",
            "Epoch 19/19\n"
          ]
        },
        {
          "name": "stderr",
          "output_type": "stream",
          "text": [
            "Training: 100%|██████████| 469/469 [00:16<00:00, 27.72it/s, Loss=0.0306, Acc=99.10%]\n"
          ]
        },
        {
          "name": "stdout",
          "output_type": "stream",
          "text": [
            "Train Loss: 0.0306, Train Acc: 99.10%\n",
            "Val Loss: 0.0185, Val Acc: 99.46%\n",
            "Best Val Acc: 99.46% (Epoch 19)\n",
            "\n",
            "========================================\n",
            "EXPERIMENT COMPLETED: Small_MNIST12\n",
            "========================================\n",
            "Best Validation Accuracy: 99.46%\n",
            "Target Achievement (99.4%): ✓\n",
            "Parameter Efficiency (<20k): ✓\n"
          ]
        }
      ],
      "source": [
        "exp_config = {\n",
        "      'model_class': Small_MNIST12,\n",
        "      'model_name': 'Small_MNIST12',\n",
        "      'epochs': 19,\n",
        "      'learning_rate': 1e-3,\n",
        "      'scheduler_type': 'onecycle',\n",
        "      'use_augmentation': True,\n",
        "      'dropout_rate': 0.15\n",
        "  }\n",
        "\n",
        "wandb.init(project=\"cnn_mnist\", config=exp_config)\n",
        "cfg = wandb.config\n",
        "\n",
        "# ------------------------------\n",
        "# Data loaders (MNIST)\n",
        "# ------------------------------\n",
        "torch.manual_seed(42)\n",
        "\n",
        "create_and_run(exp_config)"
      ]
    },
    {
      "cell_type": "markdown",
      "metadata": {
        "id": "zVYuGDiBnslk"
      },
      "source": [
        "Made corrections to padding and bias, batch size 64"
      ]
    },
    {
      "cell_type": "code",
      "execution_count": null,
      "metadata": {
        "id": "3UZTE5xNnWPo"
      },
      "outputs": [],
      "source": [
        "class Small_MNIST13(nn.Module):\n",
        "    \"\"\"\n",
        "    Small CNN Architecture v1\n",
        "    - Basic efficient design with BN and Dropout\n",
        "    - Uses Global Average Pooling\n",
        "    - Target: <20k parameters, >99.4% accuracy\n",
        "    \"\"\"\n",
        "\n",
        "    def __init__(self, dropout_rate=0.1):\n",
        "        super(Small_MNIST13, self).__init__()\n",
        "\n",
        "        # Feature extraction layers\n",
        "        self.conv1 = nn.Conv2d(1, 16, 3, padding=1, bias=False)\n",
        "        self.bn1 = nn.BatchNorm2d(16)\n",
        "\n",
        "        self.conv2 = nn.Conv2d(16, 32, 1, bias=False)\n",
        "        self.bn2 = nn.BatchNorm2d(32)\n",
        "\n",
        "        # Pooling and regularization\n",
        "        self.pool1 = nn.MaxPool2d(2, 2)\n",
        "\n",
        "        self.dropout1 = nn.Dropout2d(dropout_rate)\n",
        "\n",
        "        #self.conv3 = nn.Conv2d(32, 32, 3, padding=1)\n",
        "        #self.bn3 = nn.BatchNorm2d(32)\n",
        "\n",
        "        self.conv3_dw = nn.Conv2d(32, 32, 3, padding=1, groups=32, bias=False)\n",
        "        self.conv3_pw = nn.Conv2d(32, 32, 1, bias=False)\n",
        "        self.bn3 = nn.BatchNorm2d(32)\n",
        "\n",
        "        self.conv4 = nn.Conv2d(32, 64, 1, padding=1, bias=False)\n",
        "        self.bn4 = nn.BatchNorm2d(64)\n",
        "\n",
        "        self.pool2 = nn.MaxPool2d(2, 2)\n",
        "\n",
        "        self.dropout2 = nn.Dropout2d(dropout_rate * 1.5)\n",
        "\n",
        "        self.conv5_dw = nn.Conv2d(64, 64, 3, padding=1, groups=64, bias=False)\n",
        "        self.conv5_pw = nn.Conv2d(64, 64, 1, bias=False)\n",
        "        self.bn5 = nn.BatchNorm2d(64)\n",
        "        # Final classification layer\n",
        "        self.conv6 = nn.Conv2d(64, 10, 3, padding=1, bias=True)\n",
        "        self.gap = nn.AdaptiveAvgPool2d(1)\n",
        "\n",
        "    def forward(self, x):\n",
        "        # Block 1\n",
        "        x = F.relu(self.bn1(self.conv1(x)))\n",
        "        x = F.relu(self.bn2(self.conv2(x)))\n",
        "        x = self.pool1(x)\n",
        "        x = self.dropout1(x)\n",
        "\n",
        "        # Block 2\n",
        "        #x = F.relu(self.bn3(self.conv3(x)))\n",
        "        x = self.conv3_dw(x)\n",
        "        x = self.conv3_pw(x)\n",
        "        x = F.relu(self.bn3(x))\n",
        "        x = F.relu(self.bn4(self.conv4(x)))\n",
        "        x = self.pool2(x)\n",
        "        x = self.dropout2(x)\n",
        "\n",
        "        # Block 3 & Classification\n",
        "        x = self.conv5_dw(x)\n",
        "        x = self.conv5_pw(x)\n",
        "        x = F.relu(self.bn5(x))\n",
        "        x = self.conv6(x)\n",
        "        x = self.gap(x)\n",
        "        x = x.view(x.size(0), -1)\n",
        "\n",
        "        return F.log_softmax(x, dim=1)"
      ]
    },
    {
      "cell_type": "code",
      "execution_count": null,
      "metadata": {
        "colab": {
          "base_uri": "https://localhost:8080/"
        },
        "id": "AOgXgh0cmpfN",
        "outputId": "5da48fa0-8e1c-4225-831d-3232596f471a"
      },
      "outputs": [
        {
          "name": "stdout",
          "output_type": "stream",
          "text": [
            "----------------------------------------------------------------\n",
            "        Layer (type)               Output Shape         Param #\n",
            "================================================================\n",
            "            Conv2d-1           [-1, 16, 28, 28]             144\n",
            "       BatchNorm2d-2           [-1, 16, 28, 28]              32\n",
            "            Conv2d-3           [-1, 32, 28, 28]             512\n",
            "       BatchNorm2d-4           [-1, 32, 28, 28]              64\n",
            "         MaxPool2d-5           [-1, 32, 14, 14]               0\n",
            "         Dropout2d-6           [-1, 32, 14, 14]               0\n",
            "            Conv2d-7           [-1, 32, 14, 14]             288\n",
            "            Conv2d-8           [-1, 32, 14, 14]           1,024\n",
            "       BatchNorm2d-9           [-1, 32, 14, 14]              64\n",
            "           Conv2d-10           [-1, 64, 16, 16]           2,048\n",
            "      BatchNorm2d-11           [-1, 64, 16, 16]             128\n",
            "        MaxPool2d-12             [-1, 64, 8, 8]               0\n",
            "        Dropout2d-13             [-1, 64, 8, 8]               0\n",
            "           Conv2d-14             [-1, 64, 8, 8]             576\n",
            "           Conv2d-15             [-1, 64, 8, 8]           4,096\n",
            "      BatchNorm2d-16             [-1, 64, 8, 8]             128\n",
            "           Conv2d-17             [-1, 10, 8, 8]           5,770\n",
            "AdaptiveAvgPool2d-18             [-1, 10, 1, 1]               0\n",
            "================================================================\n",
            "Total params: 14,874\n",
            "Trainable params: 14,874\n",
            "Non-trainable params: 0\n",
            "----------------------------------------------------------------\n",
            "Input size (MB): 0.00\n",
            "Forward/backward pass size (MB): 1.22\n",
            "Params size (MB): 0.06\n",
            "Estimated Total Size (MB): 1.28\n",
            "----------------------------------------------------------------\n",
            "layer                          type   out_ch k         s         p         out(HxW)   RF(HxW)      jump     start       \n",
            "------------------------------------------------------------------------------------------------------------------------\n",
            "conv1                          conv   16     3x3       1x1       1x1       28x28      3x3          1x1      0.50x0.50   \n",
            "conv2                          conv   32     1x1       1x1       0x0       28x28      3x3          1x1      0.50x0.50   \n",
            "pool1                          pool   -      2x2       2x2       0x0       14x14      4x4          2x2      1.00x1.00   \n",
            "conv3_dw                       conv   32     3x3       1x1       1x1       14x14      8x8          2x2      1.00x1.00   \n",
            "conv3_pw                       conv   32     1x1       1x1       0x0       14x14      8x8          2x2      1.00x1.00   \n",
            "conv4                          conv   64     1x1       1x1       1x1       16x16      8x8          2x2      -1.00x-1.00 \n",
            "pool2                          pool   -      2x2       2x2       0x0       8x8        10x10        4x4      0.00x0.00   \n",
            "conv5_dw                       conv   64     3x3       1x1       1x1       8x8        18x18        4x4      0.00x0.00   \n",
            "conv5_pw                       conv   64     1x1       1x1       0x0       8x8        18x18        4x4      0.00x0.00   \n",
            "conv6                          conv   10     3x3       1x1       1x1       8x8        26x26        4x4      0.00x0.00   \n",
            "------------------------------------------------------------------------------------------------------------------------\n",
            "Final output spatial size: 8 x 8\n",
            "Final receptive field: 26 x 26\n",
            "Final cumulative stride (jump): 4 x 4\n",
            "Center of top-left output unit relative to input pixel (0-index approx): 0.00 , 0.00\n"
          ]
        }
      ],
      "source": [
        "model_summary_and_rf(Small_MNIST13())"
      ]
    },
    {
      "cell_type": "code",
      "execution_count": null,
      "metadata": {
        "colab": {
          "base_uri": "https://localhost:8080/",
          "height": 1000
        },
        "id": "rxqYNQflnbKG",
        "outputId": "2b6760f5-98db-4d5a-afe8-375b974eac91"
      },
      "outputs": [
        {
          "data": {
            "text/html": [
              "Finishing previous runs because reinit is set to 'default'."
            ],
            "text/plain": [
              "<IPython.core.display.HTML object>"
            ]
          },
          "metadata": {},
          "output_type": "display_data"
        },
        {
          "data": {
            "text/html": [],
            "text/plain": [
              "<IPython.core.display.HTML object>"
            ]
          },
          "metadata": {},
          "output_type": "display_data"
        },
        {
          "data": {
            "text/html": [
              "<br>    <style><br>        .wandb-row {<br>            display: flex;<br>            flex-direction: row;<br>            flex-wrap: wrap;<br>            justify-content: flex-start;<br>            width: 100%;<br>        }<br>        .wandb-col {<br>            display: flex;<br>            flex-direction: column;<br>            flex-basis: 100%;<br>            flex: 1;<br>            padding: 10px;<br>        }<br>    </style><br><div class=\"wandb-row\"><div class=\"wandb-col\"><h3>Run history:</h3><br/><table class=\"wandb\"><tr><td>test_acc</td><td>▁▆▇▇▇▇▆▇███████████</td></tr><tr><td>test_loss</td><td>█▃▂▂▂▁▂▁▁▁▁▁▁▁▁▁▁▁▁</td></tr><tr><td>train/epoch_acc</td><td>▁▇▇████████████████</td></tr><tr><td>train/epoch_loss</td><td>█▃▂▁▁▁▁▁▁▁▁▁▁▁▁▁▁▁▁</td></tr></table><br/></div><div class=\"wandb-col\"><h3>Run summary:</h3><br/><table class=\"wandb\"><tr><td>test_acc</td><td>99.46</td></tr><tr><td>test_loss</td><td>0.01851</td></tr><tr><td>train/epoch_acc</td><td>99.1</td></tr><tr><td>train/epoch_loss</td><td>0.03062</td></tr></table><br/></div></div>"
            ],
            "text/plain": [
              "<IPython.core.display.HTML object>"
            ]
          },
          "metadata": {},
          "output_type": "display_data"
        },
        {
          "data": {
            "text/html": [
              " View run <strong style=\"color:#cdcd00\">lucky-silence-21</strong> at: <a href='https://wandb.ai/johnced/cnn_mnist/runs/6waj8pcp' target=\"_blank\">https://wandb.ai/johnced/cnn_mnist/runs/6waj8pcp</a><br> View project at: <a href='https://wandb.ai/johnced/cnn_mnist' target=\"_blank\">https://wandb.ai/johnced/cnn_mnist</a><br>Synced 5 W&B file(s), 0 media file(s), 0 artifact file(s) and 0 other file(s)"
            ],
            "text/plain": [
              "<IPython.core.display.HTML object>"
            ]
          },
          "metadata": {},
          "output_type": "display_data"
        },
        {
          "data": {
            "text/html": [
              "Find logs at: <code>./wandb/run-20250914_194003-6waj8pcp/logs</code>"
            ],
            "text/plain": [
              "<IPython.core.display.HTML object>"
            ]
          },
          "metadata": {},
          "output_type": "display_data"
        },
        {
          "data": {
            "text/html": [
              "creating run (0.0s)"
            ],
            "text/plain": [
              "<IPython.core.display.HTML object>"
            ]
          },
          "metadata": {},
          "output_type": "display_data"
        },
        {
          "data": {
            "text/html": [
              "Tracking run with wandb version 0.21.3"
            ],
            "text/plain": [
              "<IPython.core.display.HTML object>"
            ]
          },
          "metadata": {},
          "output_type": "display_data"
        },
        {
          "data": {
            "text/html": [
              "Run data is saved locally in <code>/content/wandb/run-20250914_194952-ievq5e8q</code>"
            ],
            "text/plain": [
              "<IPython.core.display.HTML object>"
            ]
          },
          "metadata": {},
          "output_type": "display_data"
        },
        {
          "data": {
            "text/html": [
              "Syncing run <strong><a href='https://wandb.ai/johnced/cnn_mnist/runs/ievq5e8q' target=\"_blank\">whole-brook-22</a></strong> to <a href='https://wandb.ai/johnced/cnn_mnist' target=\"_blank\">Weights & Biases</a> (<a href='https://wandb.me/developer-guide' target=\"_blank\">docs</a>)<br>"
            ],
            "text/plain": [
              "<IPython.core.display.HTML object>"
            ]
          },
          "metadata": {},
          "output_type": "display_data"
        },
        {
          "data": {
            "text/html": [
              " View project at <a href='https://wandb.ai/johnced/cnn_mnist' target=\"_blank\">https://wandb.ai/johnced/cnn_mnist</a>"
            ],
            "text/plain": [
              "<IPython.core.display.HTML object>"
            ]
          },
          "metadata": {},
          "output_type": "display_data"
        },
        {
          "data": {
            "text/html": [
              " View run at <a href='https://wandb.ai/johnced/cnn_mnist/runs/ievq5e8q' target=\"_blank\">https://wandb.ai/johnced/cnn_mnist/runs/ievq5e8q</a>"
            ],
            "text/plain": [
              "<IPython.core.display.HTML object>"
            ]
          },
          "metadata": {},
          "output_type": "display_data"
        },
        {
          "name": "stdout",
          "output_type": "stream",
          "text": [
            "Starting Experimental Suite: MNIST_CNN_20250914_194954\n",
            "Target: 99.4% accuracy with <20k parameters in <20 epochs\n",
            "\n",
            "============================================================\n",
            "Running Experiment: Small_MNIST13\n",
            "============================================================\n",
            "Using device: cuda\n",
            "\n",
            "Model Requirements Check:\n",
            "  Total Parameters: 14,874\n",
            "  Under 20k params: ✓\n",
            "  Has Batch Normalization: ✓\n",
            "  Has Dropout: ✓\n",
            "  Has Global Average Pooling: ✓\n",
            "  Has Fully Connected Layer: ✗\n",
            "\n",
            "Starting Training for 19 epochs...\n",
            "\n",
            "Epoch 1/19\n"
          ]
        },
        {
          "name": "stderr",
          "output_type": "stream",
          "text": [
            "Training: 100%|██████████| 938/938 [00:21<00:00, 42.85it/s, Loss=1.2534, Acc=57.53%]\n"
          ]
        },
        {
          "name": "stdout",
          "output_type": "stream",
          "text": [
            "Train Loss: 1.2534, Train Acc: 57.53%\n",
            "Val Loss: 0.3353, Val Acc: 92.53%\n",
            "Best Val Acc: 92.53% (Epoch 1)\n",
            "\n",
            "Epoch 2/19\n"
          ]
        },
        {
          "name": "stderr",
          "output_type": "stream",
          "text": [
            "Training: 100%|██████████| 938/938 [00:21<00:00, 43.01it/s, Loss=0.2749, Acc=92.27%]\n"
          ]
        },
        {
          "name": "stdout",
          "output_type": "stream",
          "text": [
            "Train Loss: 0.2749, Train Acc: 92.27%\n",
            "Val Loss: 0.0893, Val Acc: 97.33%\n",
            "Best Val Acc: 97.33% (Epoch 2)\n",
            "\n",
            "Epoch 3/19\n"
          ]
        },
        {
          "name": "stderr",
          "output_type": "stream",
          "text": [
            "Training: 100%|██████████| 938/938 [00:21<00:00, 43.69it/s, Loss=0.1653, Acc=94.97%]\n"
          ]
        },
        {
          "name": "stdout",
          "output_type": "stream",
          "text": [
            "Train Loss: 0.1653, Train Acc: 94.97%\n",
            "Val Loss: 0.0805, Val Acc: 97.36%\n",
            "Best Val Acc: 97.36% (Epoch 3)\n",
            "\n",
            "Epoch 4/19\n"
          ]
        },
        {
          "name": "stderr",
          "output_type": "stream",
          "text": [
            "Training: 100%|██████████| 938/938 [00:21<00:00, 44.53it/s, Loss=0.1378, Acc=95.67%]\n"
          ]
        },
        {
          "name": "stdout",
          "output_type": "stream",
          "text": [
            "Train Loss: 0.1378, Train Acc: 95.67%\n",
            "Val Loss: 0.0463, Val Acc: 98.51%\n",
            "Best Val Acc: 98.51% (Epoch 4)\n",
            "\n",
            "Epoch 5/19\n"
          ]
        },
        {
          "name": "stderr",
          "output_type": "stream",
          "text": [
            "Training: 100%|██████████| 938/938 [00:20<00:00, 44.98it/s, Loss=0.1207, Acc=96.30%]\n"
          ]
        },
        {
          "name": "stdout",
          "output_type": "stream",
          "text": [
            "Train Loss: 0.1207, Train Acc: 96.30%\n",
            "Val Loss: 0.0489, Val Acc: 98.41%\n",
            "Best Val Acc: 98.51% (Epoch 4)\n",
            "\n",
            "Epoch 6/19\n"
          ]
        },
        {
          "name": "stderr",
          "output_type": "stream",
          "text": [
            "Training: 100%|██████████| 938/938 [00:22<00:00, 41.91it/s, Loss=0.1074, Acc=96.70%]\n"
          ]
        },
        {
          "name": "stdout",
          "output_type": "stream",
          "text": [
            "Train Loss: 0.1074, Train Acc: 96.70%\n",
            "Val Loss: 0.0509, Val Acc: 98.30%\n",
            "Best Val Acc: 98.51% (Epoch 4)\n",
            "\n",
            "Epoch 7/19\n"
          ]
        },
        {
          "name": "stderr",
          "output_type": "stream",
          "text": [
            "Training: 100%|██████████| 938/938 [00:21<00:00, 44.46it/s, Loss=0.0973, Acc=97.08%]\n"
          ]
        },
        {
          "name": "stdout",
          "output_type": "stream",
          "text": [
            "Train Loss: 0.0973, Train Acc: 97.08%\n",
            "Val Loss: 0.0532, Val Acc: 98.34%\n",
            "Best Val Acc: 98.51% (Epoch 4)\n",
            "\n",
            "Epoch 8/19\n"
          ]
        },
        {
          "name": "stderr",
          "output_type": "stream",
          "text": [
            "Training: 100%|██████████| 938/938 [00:21<00:00, 44.34it/s, Loss=0.0917, Acc=97.18%]\n"
          ]
        },
        {
          "name": "stdout",
          "output_type": "stream",
          "text": [
            "Train Loss: 0.0917, Train Acc: 97.18%\n",
            "Val Loss: 0.0596, Val Acc: 98.09%\n",
            "Best Val Acc: 98.51% (Epoch 4)\n",
            "\n",
            "Epoch 9/19\n"
          ]
        },
        {
          "name": "stderr",
          "output_type": "stream",
          "text": [
            "Training: 100%|██████████| 938/938 [00:21<00:00, 44.27it/s, Loss=0.0873, Acc=97.34%]\n"
          ]
        },
        {
          "name": "stdout",
          "output_type": "stream",
          "text": [
            "Train Loss: 0.0873, Train Acc: 97.34%\n",
            "Val Loss: 0.0397, Val Acc: 98.79%\n",
            "Best Val Acc: 98.79% (Epoch 9)\n",
            "\n",
            "Epoch 10/19\n"
          ]
        },
        {
          "name": "stderr",
          "output_type": "stream",
          "text": [
            "Training: 100%|██████████| 938/938 [00:20<00:00, 46.16it/s, Loss=0.0805, Acc=97.55%]\n"
          ]
        },
        {
          "name": "stdout",
          "output_type": "stream",
          "text": [
            "Train Loss: 0.0805, Train Acc: 97.55%\n",
            "Val Loss: 0.0442, Val Acc: 98.51%\n",
            "Best Val Acc: 98.79% (Epoch 9)\n",
            "\n",
            "Epoch 11/19\n"
          ]
        },
        {
          "name": "stderr",
          "output_type": "stream",
          "text": [
            "Training: 100%|██████████| 938/938 [00:20<00:00, 45.10it/s, Loss=0.0788, Acc=97.59%]\n"
          ]
        },
        {
          "name": "stdout",
          "output_type": "stream",
          "text": [
            "Train Loss: 0.0788, Train Acc: 97.59%\n",
            "Val Loss: 0.0385, Val Acc: 98.83%\n",
            "Best Val Acc: 98.83% (Epoch 11)\n",
            "\n",
            "Epoch 12/19\n"
          ]
        },
        {
          "name": "stderr",
          "output_type": "stream",
          "text": [
            "Training: 100%|██████████| 938/938 [00:21<00:00, 43.90it/s, Loss=0.0682, Acc=97.91%]\n"
          ]
        },
        {
          "name": "stdout",
          "output_type": "stream",
          "text": [
            "Train Loss: 0.0682, Train Acc: 97.91%\n",
            "Val Loss: 0.0383, Val Acc: 98.86%\n",
            "Best Val Acc: 98.86% (Epoch 12)\n",
            "\n",
            "Epoch 13/19\n"
          ]
        },
        {
          "name": "stderr",
          "output_type": "stream",
          "text": [
            "Training: 100%|██████████| 938/938 [00:22<00:00, 41.91it/s, Loss=0.0621, Acc=98.13%]\n"
          ]
        },
        {
          "name": "stdout",
          "output_type": "stream",
          "text": [
            "Train Loss: 0.0621, Train Acc: 98.13%\n",
            "Val Loss: 0.0270, Val Acc: 99.18%\n",
            "Best Val Acc: 99.18% (Epoch 13)\n",
            "\n",
            "Epoch 14/19\n"
          ]
        },
        {
          "name": "stderr",
          "output_type": "stream",
          "text": [
            "Training: 100%|██████████| 938/938 [00:21<00:00, 43.16it/s, Loss=0.0550, Acc=98.36%]\n"
          ]
        },
        {
          "name": "stdout",
          "output_type": "stream",
          "text": [
            "Train Loss: 0.0550, Train Acc: 98.36%\n",
            "Val Loss: 0.0300, Val Acc: 99.02%\n",
            "Best Val Acc: 99.18% (Epoch 13)\n",
            "\n",
            "Epoch 15/19\n"
          ]
        },
        {
          "name": "stderr",
          "output_type": "stream",
          "text": [
            "Training: 100%|██████████| 938/938 [00:20<00:00, 44.85it/s, Loss=0.0491, Acc=98.53%]\n"
          ]
        },
        {
          "name": "stdout",
          "output_type": "stream",
          "text": [
            "Train Loss: 0.0491, Train Acc: 98.53%\n",
            "Val Loss: 0.0278, Val Acc: 99.15%\n",
            "Best Val Acc: 99.18% (Epoch 13)\n",
            "\n",
            "Epoch 16/19\n"
          ]
        },
        {
          "name": "stderr",
          "output_type": "stream",
          "text": [
            "Training: 100%|██████████| 938/938 [00:20<00:00, 45.37it/s, Loss=0.0428, Acc=98.74%]\n"
          ]
        },
        {
          "name": "stdout",
          "output_type": "stream",
          "text": [
            "Train Loss: 0.0428, Train Acc: 98.74%\n",
            "Val Loss: 0.0205, Val Acc: 99.38%\n",
            "Best Val Acc: 99.38% (Epoch 16)\n",
            "\n",
            "Epoch 17/19\n"
          ]
        },
        {
          "name": "stderr",
          "output_type": "stream",
          "text": [
            "Training: 100%|██████████| 938/938 [00:20<00:00, 44.68it/s, Loss=0.0373, Acc=98.95%]\n"
          ]
        },
        {
          "name": "stdout",
          "output_type": "stream",
          "text": [
            "Train Loss: 0.0373, Train Acc: 98.95%\n",
            "Val Loss: 0.0184, Val Acc: 99.48%\n",
            "Best Val Acc: 99.48% (Epoch 17)\n",
            "\n",
            "Epoch 18/19\n"
          ]
        },
        {
          "name": "stderr",
          "output_type": "stream",
          "text": [
            "Training: 100%|██████████| 938/938 [00:21<00:00, 44.54it/s, Loss=0.0343, Acc=98.96%]\n"
          ]
        },
        {
          "name": "stdout",
          "output_type": "stream",
          "text": [
            "Train Loss: 0.0343, Train Acc: 98.96%\n",
            "Val Loss: 0.0184, Val Acc: 99.48%\n",
            "Best Val Acc: 99.48% (Epoch 17)\n",
            "\n",
            "Epoch 19/19\n"
          ]
        },
        {
          "name": "stderr",
          "output_type": "stream",
          "text": [
            "Training: 100%|██████████| 938/938 [00:21<00:00, 44.32it/s, Loss=0.0323, Acc=99.03%]\n"
          ]
        },
        {
          "name": "stdout",
          "output_type": "stream",
          "text": [
            "Train Loss: 0.0323, Train Acc: 99.03%\n",
            "Val Loss: 0.0176, Val Acc: 99.49%\n",
            "Best Val Acc: 99.49% (Epoch 19)\n",
            "\n",
            "========================================\n",
            "EXPERIMENT COMPLETED: Small_MNIST13\n",
            "========================================\n",
            "Best Validation Accuracy: 99.49%\n",
            "Target Achievement (99.4%): ✓\n",
            "Parameter Efficiency (<20k): ✓\n"
          ]
        }
      ],
      "source": [
        "exp_config = {\n",
        "      'model_class': Small_MNIST13,\n",
        "      'model_name': 'Small_MNIST13',\n",
        "      'epochs': 19,\n",
        "      'learning_rate': 1e-3,\n",
        "      'scheduler_type': 'onecycle',\n",
        "      'use_augmentation': True,\n",
        "      'dropout_rate': 0.15\n",
        "  }\n",
        "\n",
        "wandb.init(project=\"cnn_mnist\", config=exp_config)\n",
        "cfg = wandb.config\n",
        "\n",
        "# ------------------------------\n",
        "# Data loaders (MNIST)\n",
        "# ------------------------------\n",
        "torch.manual_seed(42)\n",
        "\n",
        "create_and_run(exp_config)"
      ]
    },
    {
      "cell_type": "markdown",
      "source": [
        "Plotting the metrics"
      ],
      "metadata": {
        "id": "wbfuKG8aXZsc"
      }
    },
    {
      "cell_type": "code",
      "source": [
        "import pandas as pd\n",
        "from matplotlib import pyplot as plt\n",
        "\n",
        "# Read the CSV file\n",
        "df = pd.read_csv('training_log_metrics.csv')\n",
        "\n",
        "# Extract the metrics\n",
        "train_loss = df['train_loss']\n",
        "train_acc = df['train_acc']\n",
        "val_loss = df['val_loss']\n",
        "val_acc = df['val_acc']\n",
        "\n",
        "# Plot the metrics\n",
        "fig, axs = plt.subplots(2,2,figsize=(15,10))\n",
        "axs[0, 0].plot(train_loss)\n",
        "axs[0, 0].set_title(\"Training Loss\")\n",
        "axs[1, 0].plot(train_acc)\n",
        "axs[1, 0].set_title(\"Training Accuracy\")\n",
        "axs[0, 1].plot(val_loss)\n",
        "axs[0, 1].set_title(\"Validation Loss\")\n",
        "axs[1, 1].plot(val_acc)\n",
        "axs[1, 1].set_title(\"Validation Accuracy\")\n",
        "\n",
        "plt.tight_layout()\n",
        "plt.show()"
      ],
      "metadata": {
        "colab": {
          "base_uri": "https://localhost:8080/",
          "height": 725
        },
        "id": "0gqFDj63XYPl",
        "outputId": "e473e916-d18b-4210-ee0d-a9ffd0b4e6a5"
      },
      "execution_count": 2,
      "outputs": [
        {
          "output_type": "display_data",
          "data": {
            "text/plain": [
              "<Figure size 1500x1000 with 4 Axes>"
            ],
            "image/png": "[encoded data removed]"
          },
          "metadata": {}
        }
      ]
    },
    {
      "cell_type": "code",
      "source": [],
      "metadata": {
        "id": "ZtjzgmcHXdKR"
      },
      "execution_count": null,
      "outputs": []
    }
  ],
  "metadata": {
    "accelerator": "GPU",
    "colab": {
      "gpuType": "T4",
      "provenance": []
    },
    "kernelspec": {
      "display_name": "Python 3",
      "name": "python3"
    }
  },
  "nbformat": 4,
  "nbformat_minor": 0
}